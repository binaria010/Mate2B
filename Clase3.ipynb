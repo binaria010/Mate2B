{
  "nbformat": 4,
  "nbformat_minor": 0,
  "metadata": {
    "colab": {
      "provenance": [],
      "authorship_tag": "ABX9TyPsXGpK1VvqTWTIDOWoyEdT",
      "include_colab_link": true
    },
    "kernelspec": {
      "name": "python3",
      "display_name": "Python 3"
    },
    "language_info": {
      "name": "python"
    }
  },
  "cells": [
    {
      "cell_type": "markdown",
      "metadata": {
        "id": "view-in-github",
        "colab_type": "text"
      },
      "source": [
        "<a href=\"https://colab.research.google.com/github/binaria010/Mate2B/blob/main/Clase3.ipynb\" target=\"_parent\"><img src=\"https://colab.research.google.com/assets/colab-badge.svg\" alt=\"Open In Colab\"/></a>"
      ]
    },
    {
      "cell_type": "markdown",
      "source": [
        "\n",
        "\n",
        "# Interpolación de Lagrange:\n",
        "\n",
        "Que vamos a hacer:\n",
        "\n",
        "\n",
        "\n",
        "1.   Calculamos a mano un polinomio de Lagrange\n",
        "2.   Vamos a Python y usamos las distintas funciones para interpolar\n",
        "3.   Nos mandamos a implementar nuestra propia función de python para interpolar\n",
        "\n"
      ],
      "metadata": {
        "id": "xrmOvpzMrNwI"
      }
    },
    {
      "cell_type": "code",
      "source": [
        "import numpy as np\n",
        "import matplotlib.pyplot as plt\n",
        "from scipy.interpolate import lagrange"
      ],
      "metadata": {
        "id": "ArQfKBIFUpt8"
      },
      "execution_count": 2,
      "outputs": []
    },
    {
      "cell_type": "markdown",
      "source": [
        "Dados un conjunto de datos $\\{(x_i, y_i)\\} $usando la función de la libreria: *scipy.interpolate* lagrange podemos hallar el polinomio que los interpola. Por ejemplo:"
      ],
      "metadata": {
        "id": "cRZFdNQOnjx1"
      }
    },
    {
      "cell_type": "code",
      "source": [
        "xs = np.array([0,1,3,5])\n",
        "ys = np.array([1,2,3,4])\n",
        "\n",
        "print(lagrange(xs, ys))\n",
        "P = lagrange(xs, ys)"
      ],
      "metadata": {
        "colab": {
          "base_uri": "https://localhost:8080/"
        },
        "id": "-PnaPsGsb04f",
        "outputId": "5ef671bd-1704-462e-b4d4-b4698f796391"
      },
      "execution_count": 3,
      "outputs": [
        {
          "output_type": "stream",
          "name": "stdout",
          "text": [
            "         3       2\n",
            "0.03333 x - 0.3 x + 1.267 x + 1\n"
          ]
        }
      ]
    },
    {
      "cell_type": "code",
      "source": [
        "type(P)"
      ],
      "metadata": {
        "colab": {
          "base_uri": "https://localhost:8080/"
        },
        "id": "cM8iUDNGlo2f",
        "outputId": "2af0344f-7d1f-44a9-f01a-0476d85ec6e5"
      },
      "execution_count": 4,
      "outputs": [
        {
          "output_type": "execute_result",
          "data": {
            "text/plain": [
              "numpy.poly1d"
            ]
          },
          "metadata": {},
          "execution_count": 4
        }
      ]
    },
    {
      "cell_type": "markdown",
      "source": [
        "La funciøn *my_lagrange* es una implementación artesanal que nos da para cada x el polinomio interpolador de los datos (xs, ys). \n",
        "No es necesario entender como está implementada y se puede usar directamente la función *lagrange*  que nos devuelve un objeto polinomio de numpy."
      ],
      "metadata": {
        "id": "lj2sXgKFkVbW"
      }
    },
    {
      "cell_type": "code",
      "execution_count": 5,
      "metadata": {
        "id": "kG3XdDS8qUMy"
      },
      "outputs": [],
      "source": [
        "def my_lagrange(xs, ys,x):\n",
        "  '''\n",
        "  devuelve el polinomio de lagrange de grado n =len(xs)-1 que interpola los (xs,ys)\n",
        "  '''\n",
        "\n",
        "  n = len(xs) - 1\n",
        "  L = []\n",
        "  for j in range(n+1): # j=0,1,2,...n\n",
        "    \n",
        "    L.append(ys[j]*np.prod(x - np.hstack((xs[0:j], xs[j+1:])) )/np.prod(xs[j]- np.hstack((xs[0:j], xs[j+1:]))))\n",
        "\n",
        "  p = np.sum(L)\n",
        "  return p\n",
        "\n",
        "\n",
        "  \n"
      ]
    },
    {
      "cell_type": "code",
      "source": [
        "\n",
        "print(\"p(0) = \", my_lagrange(xs, ys, 0))\n",
        "print(\"p(1) = \", my_lagrange(xs, ys, 1))\n"
      ],
      "metadata": {
        "colab": {
          "base_uri": "https://localhost:8080/"
        },
        "id": "nrMXjEKUbxva",
        "outputId": "b632f6b1-0408-4e6a-b846-b5fdc31f7b2d"
      },
      "execution_count": 6,
      "outputs": [
        {
          "output_type": "stream",
          "name": "stdout",
          "text": [
            "p(0) =  1.0\n",
            "p(1) =  2.0\n"
          ]
        }
      ]
    },
    {
      "cell_type": "code",
      "source": [
        "print(\"usando la funcion lagrange: \")\n",
        "print(\"P(0) = \", P(0))\n",
        "print(\"P(1) = \", P(1))\n"
      ],
      "metadata": {
        "colab": {
          "base_uri": "https://localhost:8080/"
        },
        "id": "WXYDQ_OFo2A7",
        "outputId": "52a02603-fc41-4169-d317-6b9c13d850b4"
      },
      "execution_count": 7,
      "outputs": [
        {
          "output_type": "stream",
          "name": "stdout",
          "text": [
            "usando la funcion lagrange: \n",
            "P(0) =  1.0\n",
            "P(1) =  2.0\n"
          ]
        }
      ]
    },
    {
      "cell_type": "markdown",
      "source": [
        "## Vamos con el ejemplo de la vez pasada para aproximar el valor de $\\sqrt[3]{0.9}$ usando un polinomio aproximante para la función $f(x)=\\sqrt[3]{1+x}$.\n",
        "\n",
        "Para esto hallamos el pol que interpola a $f$ en 4 puntos equiespaciados del intervalo $[-1/2, 1]$ "
      ],
      "metadata": {
        "id": "bf0oof0Vpy4i"
      }
    },
    {
      "cell_type": "code",
      "source": [
        "func = lambda x: (1+x)**(1/3)  # esta es una forma corta de definir una funcion\n",
        "\n",
        "xs = np.linspace(-1/2, 1, 4)   # con linspace armamos el conjunto de puntos equiespaciados del [-1/2,1]\n",
        "ys = func(xs)\n",
        "\n",
        "print(xs)\n",
        "print(ys)"
      ],
      "metadata": {
        "colab": {
          "base_uri": "https://localhost:8080/"
        },
        "id": "3u08ErKEdMkd",
        "outputId": "b65daa0f-4346-4987-e0ce-e496d7e3c82e"
      },
      "execution_count": 10,
      "outputs": [
        {
          "output_type": "stream",
          "name": "stdout",
          "text": [
            "[-0.5  0.   0.5  1. ]\n",
            "[0.79370053 1.         1.14471424 1.25992105]\n"
          ]
        }
      ]
    },
    {
      "cell_type": "code",
      "source": [
        "P = lagrange(xs, ys) # es el polinomio que calcula python\n",
        "\n",
        "print(P)\n"
      ],
      "metadata": {
        "colab": {
          "base_uri": "https://localhost:8080/"
        },
        "id": "PqqcAkCJajX3",
        "outputId": "6341ad1a-9e0a-482a-bd84-25519d24614e"
      },
      "execution_count": 12,
      "outputs": [
        {
          "output_type": "stream",
          "name": "stdout",
          "text": [
            "         3          2\n",
            "0.04277 x - 0.1232 x + 0.3403 x + 1\n"
          ]
        }
      ]
    },
    {
      "cell_type": "code",
      "source": [
        "print(\"func(-0.1) = (0.9)^(1/3) = \", func(-0.1))\n",
        "print(\"el pol de Lagrange de orden 3 usando my_lagrange: p_3(-0.1) = \", my_lagrange(xs,ys, -0.1))\n",
        "print(\"usando la funcion lagrange de scipy.interpolate: \", P(-0.1))"
      ],
      "metadata": {
        "id": "j55rJQWrbXge",
        "colab": {
          "base_uri": "https://localhost:8080/"
        },
        "outputId": "8dd35bc0-f2e3-4eb7-c19a-7e26ddf47ceb"
      },
      "execution_count": 14,
      "outputs": [
        {
          "output_type": "stream",
          "name": "stdout",
          "text": [
            "func(-0.1) = (0.9)^(1/3) =  0.9654893846056297\n",
            "el pol de Lagrange de orden 3 usando my_lagrange: p_3(-0.1) =  0.9646934131938504\n",
            "usando la funcion lagrange de scipy.interpolate:  0.9646934131938503\n"
          ]
        }
      ]
    },
    {
      "cell_type": "code",
      "source": [
        "print(ys)\n",
        "print(P(xs))"
      ],
      "metadata": {
        "colab": {
          "base_uri": "https://localhost:8080/"
        },
        "id": "AQUwHEqRDlwo",
        "outputId": "8abd96f7-a24b-4c19-97de-9b510d449f99"
      },
      "execution_count": 15,
      "outputs": [
        {
          "output_type": "stream",
          "name": "stdout",
          "text": [
            "[0.79370053 1.         1.14471424 1.25992105]\n",
            "[0.79370053 1.         1.14471424 1.25992105]\n"
          ]
        }
      ]
    },
    {
      "cell_type": "markdown",
      "source": [
        "## Función polyfit de numpy:\n",
        "\n",
        "otra forma: usamos la función polyfit de numpy que nos devuelve un array con los coeficientes de un polinomio de grado indicado y despues con la función polyval de numpy evaluamos este polinomio en un punto o puntos deseados:"
      ],
      "metadata": {
        "id": "HKH5kngHeCqD"
      }
    },
    {
      "cell_type": "code",
      "source": [
        "# con np.polyfit:\n",
        "coefs_P_fit = np.polyfit(xs, ys, 3)   # esta función solo nos da los coeficientes del poli interpolador\n"
      ],
      "metadata": {
        "id": "rgHG06KndAbq"
      },
      "execution_count": 16,
      "outputs": []
    },
    {
      "cell_type": "code",
      "source": [
        "# si queremos evaluar dicho polinomio en algun valor x usamos la función np.polyval:\n",
        "print(np.polyval(coefs_P_fit, xs))  # nos devuelve la lista de resultados "
      ],
      "metadata": {
        "colab": {
          "base_uri": "https://localhost:8080/"
        },
        "id": "JTuxDjZhnAU9",
        "outputId": "3c733922-ce71-4e89-f17e-898497e76ccb"
      },
      "execution_count": 17,
      "outputs": [
        {
          "output_type": "stream",
          "name": "stdout",
          "text": [
            "[0.79370053 1.         1.14471424 1.25992105]\n"
          ]
        }
      ]
    },
    {
      "cell_type": "markdown",
      "source": [
        "Si queremos obtener un objeto polinomio podemos usar la función *np.poly1d* aplicada a P_fit"
      ],
      "metadata": {
        "id": "AX6JH2brmnIy"
      }
    },
    {
      "cell_type": "code",
      "source": [
        "P_fit = np.poly1d(coefs_P_fit)\n",
        "\n",
        "print(\"notar que la expresion de P_fit coincide con la de P calculada arriba: \\n\")\n",
        "print(P_fit)\n",
        "print(P)"
      ],
      "metadata": {
        "colab": {
          "base_uri": "https://localhost:8080/"
        },
        "id": "bPE90GVgnOfM",
        "outputId": "ed2603ca-50f9-483e-9a51-bfb6128dc9bb"
      },
      "execution_count": 19,
      "outputs": [
        {
          "output_type": "stream",
          "name": "stdout",
          "text": [
            "notar que la expresion de P_fit coincide con la de P calculada arriba: \n",
            "\n",
            "         3          2\n",
            "0.04277 x - 0.1232 x + 0.3403 x + 1\n",
            "         3          2\n",
            "0.04277 x - 0.1232 x + 0.3403 x + 1\n"
          ]
        }
      ]
    },
    {
      "cell_type": "markdown",
      "source": [
        "### Estimación numérica del error de interpolación:\n",
        "\n",
        "Podemos calcular numéricamente cuanto dista como mucho la función del polinomio en el intervalo, es decir:\n",
        "\n",
        "$$\n",
        "\\max_{x\\in[-0.5, 1]}|f(x) - p_n(x)|\n",
        "$$\n",
        "\n",
        "Próxima clase veremos cotas para este error."
      ],
      "metadata": {
        "id": "2ATbULeFBYld"
      }
    },
    {
      "cell_type": "code",
      "source": [
        "grilla_x = np.linspace(-1/2,1, 100)\n",
        "error = np.abs(func(grilla_x) - P(grilla_x))\n",
        "\n",
        "print(\"el error es como mucho: \", np.max(error))"
      ],
      "metadata": {
        "colab": {
          "base_uri": "https://localhost:8080/"
        },
        "id": "nTZIK5h9ei5Z",
        "outputId": "c1219929-3de6-432c-906a-20e917d27300"
      },
      "execution_count": 20,
      "outputs": [
        {
          "output_type": "stream",
          "name": "stdout",
          "text": [
            "el error es como mucho:  0.00229053303804716\n"
          ]
        }
      ]
    },
    {
      "cell_type": "markdown",
      "source": [
        "## comparemos los gráficos del polinomio de Taylor, el de Lagrange y el de f"
      ],
      "metadata": {
        "id": "KyEJ1xEVEMSx"
      }
    },
    {
      "cell_type": "markdown",
      "source": [
        "usamos las funciones que implementamos la clase pasada:"
      ],
      "metadata": {
        "id": "SeCVRN1zHcHo"
      }
    },
    {
      "cell_type": "code",
      "source": [
        "def der_k(k, x_0):\n",
        "    \"\"\"\n",
        "    Calcula la la der k-esima de f(x) = (1+x)^{1/3}\n",
        "    \"\"\"\n",
        "\n",
        "    factor = 1\n",
        "    for i in range(1, k+1):\n",
        "      factor = factor*(1/3 - (i-1))\n",
        "\n",
        "    f_k = factor*(1+x_0)**(1/3 - k)\n",
        "\n",
        "    return f_k\n",
        "\n",
        "def Taylor_n_f(n, x, x_0):\n",
        "  \"\"\"\n",
        "  Calcula el poli de taylor de orden n de f(x)=(1+x)^{1/3}\n",
        "  \"\"\"\n",
        "\n",
        "  P = (1+ x_0)**(1/3) # f(x_0)=(1+x_0)**1/3\n",
        "  for k in range(1, n+1):\n",
        "    P = P + der_k(k, x_0)/np.math.factorial(k)*(x-x_0)**k\n",
        "\n",
        "  return P\n",
        "\n"
      ],
      "metadata": {
        "id": "ekimWHhhnXOu"
      },
      "execution_count": null,
      "outputs": []
    },
    {
      "cell_type": "code",
      "source": [
        "Taylor_n_f(3, xs, x_0 =0)"
      ],
      "metadata": {
        "id": "-ukD6cg_Pwlm",
        "colab": {
          "base_uri": "https://localhost:8080/"
        },
        "outputId": "c8398eb7-fe39-4d7a-9a33-634d79dc81f3"
      },
      "execution_count": null,
      "outputs": [
        {
          "output_type": "execute_result",
          "data": {
            "text/plain": [
              "array([0.79783951, 1.        , 1.14660494, 1.28395062])"
            ]
          },
          "metadata": {},
          "execution_count": 206
        }
      ]
    },
    {
      "cell_type": "code",
      "source": [
        "plt.figure(figsize = (15,7))\n",
        "plt.plot(grilla_x, func(grilla_x), label = \"f\", color = \"r\")\n",
        "plt.plot(grilla_x, P(grilla_x), label = \"Lagrange\", linestyle = \"dotted\", ms = 10)\n",
        "plt.plot(grilla_x, Taylor_n_f(3,grilla_x, x_0 =0), label = \"Taylor\", color = \"g\")\n",
        "plt.plot(xs, ys, '.',color = \"black\", ms = 10)\n",
        "plt.legend()\n",
        "plt.show()"
      ],
      "metadata": {
        "colab": {
          "base_uri": "https://localhost:8080/",
          "height": 428
        },
        "id": "0AnrQ7v9fWyz",
        "outputId": "0dc3bee0-2288-46a0-ac14-d2d4f04fc67f"
      },
      "execution_count": null,
      "outputs": [
        {
          "output_type": "display_data",
          "data": {
            "text/plain": [
              "<Figure size 1080x504 with 1 Axes>"
            ],
            "image/png": "[encoded data removed]"
          },
          "metadata": {
            "needs_background": "light"
          }
        }
      ]
    },
    {
      "cell_type": "markdown",
      "source": [
        "## Hagamos el ejemplo del $\\cos(x)$"
      ],
      "metadata": {
        "id": "YvTaCKq5IpMX"
      }
    },
    {
      "cell_type": "code",
      "source": [
        "from scipy.special import factorial\n",
        "\n",
        "P_taylor = lambda x: np.cos(1) - np.sin(1)*(x-1) - (np.cos(1)/2) * (x-1)**2 + (np.sin(1)/factorial(3))*(x-1)**3\n",
        "\n",
        "\n",
        "xs = np.linspace(0, np.pi/2, 4) # elegimos 4 puntos equiespaciados en [0, pi/2]\n",
        "ys = np.cos(xs)\n",
        "\n",
        "P_L = lagrange(xs, ys)  # el pol de Lagrange que calcula python\n",
        "\n",
        "\n",
        "\n",
        "print(\"el polinomio de Lagrange es: \\n\", P_L)\n"
      ],
      "metadata": {
        "colab": {
          "base_uri": "https://localhost:8080/"
        },
        "id": "JR8RuegQCQAx",
        "outputId": "454d9d39-55ba-4a9c-ab37-1e32be13ce54"
      },
      "execution_count": null,
      "outputs": [
        {
          "output_type": "stream",
          "name": "stdout",
          "text": [
            "el polinomio de Lagrange es: \n",
            "         3          2\n",
            "0.1139 x - 0.6021 x + 0.02816 x + 1\n"
          ]
        }
      ]
    },
    {
      "cell_type": "code",
      "source": [
        "print(ys)\n",
        "print(P_L(xs))"
      ],
      "metadata": {
        "colab": {
          "base_uri": "https://localhost:8080/"
        },
        "id": "qTBBh_z4Qszp",
        "outputId": "7a7b56c8-b392-4e2e-c85d-59788ad22a2d"
      },
      "execution_count": null,
      "outputs": [
        {
          "output_type": "stream",
          "name": "stdout",
          "text": [
            "[1.00000000e+00 8.66025404e-01 5.00000000e-01 6.12323400e-17]\n",
            "[ 1.00000000e+00  8.66025404e-01  5.00000000e-01 -1.55431223e-15]\n"
          ]
        }
      ]
    },
    {
      "cell_type": "code",
      "source": [
        "grilla_x = np.linspace(-np.pi, np.pi, 100)\n",
        "\n",
        "plt.figure(figsize = (15,7))\n",
        "\n",
        "plt.subplot(2,1,1)\n",
        "plt.plot(grilla_x, np.cos(grilla_x), label = \"cos(x)\", color = \"r\")\n",
        "plt.plot(grilla_x, P_L(grilla_x), label = \"Lagrange\", linestyle = \"dotted\", ms = 10)\n",
        "plt.plot(grilla_x, P_taylor(grilla_x), label = \"Taylor\", color = \"g\")\n",
        "plt.plot(xs, ys, '.', color = \"black\", ms = 10)\n",
        "plt.legend()\n",
        "plt.show()\n",
        "\n",
        "plt.figure(figsize = (15,7))\n",
        "plt.subplot(2,1,2)\n",
        "plt.plot(grilla_x, np.cos(grilla_x), label = \"cos(x)\", color = \"r\")\n",
        "plt.plot(grilla_x, P_L(grilla_x), label = \"Lagrange\", linestyle = \"dotted\", ms = 10)\n",
        "plt.plot(grilla_x, P_taylor(grilla_x), label = \"Taylor\", color = \"g\")\n",
        "plt.plot(xs, ys, '.', color = \"black\", ms = 10)\n",
        "plt.xlim(-np.pi/2, np.pi/2)\n",
        "plt.ylim(-1,1.3)\n",
        "plt.legend()\n",
        "plt.show()\n"
      ],
      "metadata": {
        "colab": {
          "base_uri": "https://localhost:8080/",
          "height": 425
        },
        "id": "NjUtamYHCYRt",
        "outputId": "b669821a-59f8-4ef3-e076-0931989f3b83"
      },
      "execution_count": null,
      "outputs": [
        {
          "output_type": "display_data",
          "data": {
            "text/plain": [
              "<Figure size 1080x504 with 1 Axes>"
            ],
            "image/png": "[encoded data removed]"
          },
          "metadata": {
            "needs_background": "light"
          }
        },
        {
          "output_type": "display_data",
          "data": {
            "text/plain": [
              "<Figure size 1080x504 with 1 Axes>"
            ],
            "image/png": "[encoded data removed]"
          },
          "metadata": {
            "needs_background": "light"
          }
        }
      ]
    },
    {
      "cell_type": "markdown",
      "source": [
        "## Para esta misma función calculemos  polinomios interpoladores de distintos grados y comparemos los graficos:"
      ],
      "metadata": {
        "id": "Pn0o4vMSM2PA"
      }
    },
    {
      "cell_type": "markdown",
      "source": [
        " El de grado 4: tomo como puntos xs = np.linspace(0, np.pi/2, 5) es decir elijo 5 puntos equiespaciados"
      ],
      "metadata": {
        "id": "HB8mjN8NNR-v"
      }
    },
    {
      "cell_type": "code",
      "source": [
        "xs1 = np.linspace(0, np.pi/2, 5)\n",
        "PL_4 = lagrange(xs1, np.cos(xs1))"
      ],
      "metadata": {
        "id": "kL6r8i7OI-Qz"
      },
      "execution_count": null,
      "outputs": []
    },
    {
      "cell_type": "markdown",
      "source": [
        "El de grado 5:"
      ],
      "metadata": {
        "id": "mR2O21PVNf6x"
      }
    },
    {
      "cell_type": "code",
      "source": [
        "xs2 = np.linspace(0, np.pi/2, 6) # elijo 6 puntos equiespaciados\n",
        "PL_5 = lagrange(xs2, np.cos(xs2))"
      ],
      "metadata": {
        "id": "EKZch1_RNjwb"
      },
      "execution_count": null,
      "outputs": []
    },
    {
      "cell_type": "code",
      "source": [
        "grilla_x = np.linspace(-np.pi, np.pi, 100)\n",
        "\n",
        "plt.figure(figsize = (15,7))\n",
        "plt.plot(grilla_x, np.cos(grilla_x), label = \"cos(x)\", color = \"r\")\n",
        "plt.plot(grilla_x, P_L(grilla_x), label = \"deg = 3\")\n",
        "plt.plot(grilla_x, PL_4(grilla_x), label = \"deg = 4\")\n",
        "plt.plot(grilla_x, PL_5(grilla_x), label = \"deg = 5\")\n",
        "plt.legend()\n",
        "plt.show()"
      ],
      "metadata": {
        "colab": {
          "base_uri": "https://localhost:8080/",
          "height": 428
        },
        "id": "vq87RYq6OPhM",
        "outputId": "015e7484-de2c-474c-973b-153e0e427aec"
      },
      "execution_count": null,
      "outputs": [
        {
          "output_type": "display_data",
          "data": {
            "text/plain": [
              "<Figure size 1080x504 with 1 Axes>"
            ],
            "image/png": "[encoded data removed]"
          },
          "metadata": {
            "needs_background": "light"
          }
        }
      ]
    },
    {
      "cell_type": "markdown",
      "source": [
        "### Desafío: usando un for definir una función que dado un numero $n$ y un intervalo, grafique todos los polinomios interpoladores  de  grados $1, 2,\\dots,n$ en puntos equiespaciados del intervalo "
      ],
      "metadata": {
        "id": "dCsQB4E6ob3c"
      }
    },
    {
      "cell_type": "markdown",
      "source": [
        "## Ejercicio:\n",
        "\n",
        "Para $f(x)=\\frac{1}{1+25x^2}$:\n",
        "\n",
        "1. Calcular (a mano) el polinomio interpolador de grado 3 en puntos equiespaciados del intervalo $[-1,1]$\n",
        "\n",
        "2. Usar la funcion *lagrange* de scipy.interpolate para hallar polinomios interpolantes de grados $n=5, 10$ también en puntos equiespaciados del $[-1,1]$.\n",
        "\n",
        "3. Graficar estos polinomios y la función $f$: usar una grilla del $[-2,2]$ con 100 puntos (usar la función np.linspace). Además incluir en este gráfico los puntos de interpolación. Hacerlo en tre gráficos separados \n",
        "\n",
        "4. Calcular con python $$\\max_{x\\in[-1,1]}|f(x)-p_n(x)|$$ para $n=3, 5, 10$."
      ],
      "metadata": {
        "id": "ag2MkmHUfHf0"
      }
    },
    {
      "cell_type": "code",
      "source": [],
      "metadata": {
        "id": "5oSGfAEiOvsn"
      },
      "execution_count": null,
      "outputs": []
    }
  ]
}