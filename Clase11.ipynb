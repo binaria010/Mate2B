{
  "nbformat": 4,
  "nbformat_minor": 0,
  "metadata": {
    "colab": {
      "provenance": [],
      "authorship_tag": "ABX9TyMX4lQYp8vDq1KluFNYQ3J/",
      "include_colab_link": true
    },
    "kernelspec": {
      "name": "python3",
      "display_name": "Python 3"
    },
    "language_info": {
      "name": "python"
    }
  },
  "cells": [
    {
      "cell_type": "markdown",
      "metadata": {
        "id": "view-in-github",
        "colab_type": "text"
      },
      "source": [
        "<a href=\"https://colab.research.google.com/github/binaria010/Mate2B/blob/main/Clase11.ipynb\" target=\"_parent\"><img src=\"https://colab.research.google.com/assets/colab-badge.svg\" alt=\"Open In Colab\"/></a>"
      ]
    },
    {
      "cell_type": "markdown",
      "source": [
        "# Finalizamos práctica 3:\n",
        "\n",
        "1. La función **solve_ivp** de **scipy.integrate**\n",
        "\n",
        "2. Sistemas de ecuaciones diferenciales y ecuaciones de orden 2\n"
      ],
      "metadata": {
        "id": "qIg8JEjWfmMs"
      }
    },
    {
      "cell_type": "markdown",
      "source": [
        "Ejercicio (11 p3)\n",
        "\n",
        "**Ecuación logística**: Una ecuación que modela el crecimiento de una población $x(t)$ limitada por la capacidad del entorno para sostenerla es:\n",
        "$$\n",
        "\\left\\{\\begin{array}{l}\n",
        "\\dot{x}(t)=\\lambda x(t) *\\left(1-x(t) / X_{m}\\right) \\\\\n",
        "x(0)=x_{0},\n",
        "\\end{array}\\right.\n",
        "$$\n",
        "\n",
        "donde $x_{0}$ es la población inicial, $\\lambda$ la tasa de crecimiento poblacional intrínseca, y $X_{m}$ la población máxima soportada por el ecosistema. Supongamos $\\lambda=1, X_{m}=5$.\n",
        "\n",
        "1. Usando el comando **solve\\_ivp** de Python, hallar las soluciones correspondientes a datos iniciales $x(0)=0,1,2, \\ldots, 5$, para $0\\leq t \\leq 10$.\n",
        "    \n",
        "2.  La solución exacta de esta ecuación es:\n",
        "    $$\n",
        "    x(t)=\\frac{x_{0} X_{m} e^{\\lambda t}}{X_{m}-x_{0}+x_{0} e^{\\lambda t}} .\n",
        "    $$\n",
        "  Comparar con los resultados del ítem anterior.\n",
        "    \n",
        "3. Hallar los puntos de equilibrio de esta ecuación, linealizar en un entorno, calcular las soluciones exactas del problema linealizado, y graficar junto a lo anterior. \n"
      ],
      "metadata": {
        "id": "0oO4jbhRfjLL"
      }
    },
    {
      "cell_type": "code",
      "source": [
        "from scipy.integrate import solve_ivp \n",
        "import matplotlib.pyplot as plt\n",
        "import numpy as np\n"
      ],
      "metadata": {
        "id": "Mj6-hxAGhdAj"
      },
      "execution_count": 2,
      "outputs": []
    },
    {
      "cell_type": "code",
      "execution_count": null,
      "metadata": {
        "id": "vSAq2QYyfg_3"
      },
      "outputs": [],
      "source": [
        "l=1 # parametro lambda\n",
        "Xm = 5 # parametro Xm\n",
        "\n",
        "fun = lambda t, x: l * x * (1 - x/Xm)\n",
        "t0 = 0\n",
        "T = 10\n",
        "\n",
        "\n",
        "# solucion exacta:\n",
        "sol_exacta = lambda t, x0: # completar\n",
        "\n",
        "# las soluciones del problema linealizado:\n",
        "\n",
        "sol_linear1 = lambda t, x0 : x0*np.exp(l*t) # exact solution of linearized problem around the critical point x = 0 \n",
        "sol_linear2 = lambda t, x0 : (x0 - Xm)* np.exp(-l*t) + Xm # exact solution of linearized problem around the critical point x = Xm \n",
        "\n",
        "# el intervalo es [t0, T], en solve_ivp se lo damos como una tupla en t_span\n",
        "\n"
      ]
    },
    {
      "cell_type": "code",
      "source": [
        "help(solve_ivp)"
      ],
      "metadata": {
        "id": "nQ4FaK_djXgI"
      },
      "execution_count": null,
      "outputs": []
    },
    {
      "cell_type": "code",
      "source": [
        "# probamos como funciona solve_ivp\n",
        "sol = solve_ivp(fun, t_span= (t0, T), y0 = [1])  \n",
        "sol.y[0,:]  # me devuelve la solucion aproximada sol como un vector fila \n",
        "sol.y   # devuelve la solucion aproximada sol como una matriz con una unica fila!\n"
      ],
      "metadata": {
        "id": "e65l_yYGjWmZ"
      },
      "execution_count": null,
      "outputs": []
    },
    {
      "cell_type": "code",
      "source": [
        "X0 = [[i] for i in range(6)] # estas son las distintas cond iniciales x(0)=0, 1,2, 3,4,5: ojo que x0 en solve_ivp es un array!\n",
        "\n",
        "for x0 in X0:\n",
        "\n",
        "  sol = solve_ivp(#completar)\n",
        "  t = sol.t  # me da la grilla de los t\n",
        "  x = sol.y[0,:]  # me da los x\n",
        "\n",
        "  ax = plt.figure(figsize=(10, 6))\n",
        "  plt.plot(t, x, color = \"red\", label = \"sol numerica con  $x_0 = $\" + str(x0[0]))\n",
        "  plt.plot(t, sol_exacta(t, x0[0]), color = \"yellow\", linestyle =\"dotted\"  ,label = \"True solution\")\n",
        "\n",
        "  plt.legend()\n",
        "  plt.show()\n"
      ],
      "metadata": {
        "id": "51H7s93ointW"
      },
      "execution_count": null,
      "outputs": []
    },
    {
      "cell_type": "markdown",
      "source": [
        "3."
      ],
      "metadata": {
        "id": "1ujsOoNDL073"
      }
    },
    {
      "cell_type": "code",
      "source": [
        "X0 = [[i] for i in range(6)] # estas son las distintas cond iniciales x(0)=0, 1,2, 3,4,5: ojo que x0 en solve_ivp es un array!\n",
        "\n",
        "for x0 in X0:\n",
        "\n",
        "  sol = solve_ivp(#completar)\n",
        "  t = sol.t  # me da la grilla de los t\n",
        "  x = sol.y[0,:]  # me da los x\n",
        "\n",
        "  ax = plt.figure(figsize=(10, 6))\n",
        "  plt.plot(t, x, color = \"red\", label = \"sol numerica con  $x_0 = $\" + str(x0[0]))\n",
        "  plt.plot(t, sol_exacta(t, x0[0]), color = \"yellow\", linestyle =\"dotted\"  ,label = \"True solution\")\n",
        "  plt.plot(t, sol_linear1(t, x0[0]),  color = \"green\", linestyle =\"dashed\"  ,label = \"linearized around x = 0\")\n",
        "  #plt.ylim(0, 10)\n",
        "  plt.plot(t, sol_linear2(t, x0[0]), color = \"pink\", linestyle =\"dashed\"  ,label = \"linearized around x = Xm\")\n",
        "  \n",
        "\n",
        "  plt.legend()\n",
        "  plt.show()\n"
      ],
      "metadata": {
        "id": "CfFRMuqHL2Iu"
      },
      "execution_count": null,
      "outputs": []
    },
    {
      "cell_type": "markdown",
      "source": [
        "## Sistemas y ecuaciones de orden 2:"
      ],
      "metadata": {
        "id": "5ngXlFxykBzQ"
      }
    },
    {
      "cell_type": "markdown",
      "source": [
        "## Ejercicio: \n",
        "\n",
        "Modificar las funciones **euler_mod** y **RK4**  de la clase pasada para que resuleva ecuaciones vectoriales o sistemas de ecuaciones. El input $x0$ ahora debe ser un array o una lista. Si se trata de una sola ecuacion $x_0 = [x0]$. Si se trata de dos o  mas ecuaciones $x_0 =[-, -,...,-]$. \n",
        "\n",
        "La solución $\\textbf{x}$ deberá ser una matriz de $d \\times N$, donde $d$ es la cantidad de variables del problema y $N$ es el número de pasos temporales.\n"
      ],
      "metadata": {
        "id": "S7NQ3CNbkz6O"
      }
    },
    {
      "cell_type": "markdown",
      "source": [
        "En la celda de abajo modificamos a manera de ejemplo la funcion **euler** para que resuleva sistemas de ecuaciones. Hacer algo similar para las rutinas Euler modificado y Runge Kutta de orden 4 "
      ],
      "metadata": {
        "id": "Uqgn-m1Wnnh3"
      }
    },
    {
      "cell_type": "markdown",
      "source": [
        "## Euler"
      ],
      "metadata": {
        "id": "mg3jeYLZOhB5"
      }
    },
    {
      "cell_type": "code",
      "source": [
        "\n",
        "def Euler(f,t0, T,  x0, n):\n",
        "    \n",
        "    t = np.linspace(t0, T, n+1)\n",
        "    h = (T-t0)/n\n",
        "    \n",
        "    X = np.zeros((len(x0), n))\n",
        "    X[:,0] = np.array(x0)   # en la primera columna ponemos el valor de x a tiempo 0\n",
        "\n",
        "    for j in range(1,n):\n",
        "        X[:,j] = X[:,j-1] + h*f(t[j-1],X[:,j-1])\n",
        "\n",
        "    return t,X "
      ],
      "metadata": {
        "id": "7ziE8Ei2k-AJ"
      },
      "execution_count": null,
      "outputs": []
    },
    {
      "cell_type": "markdown",
      "source": [
        "probemos con el ejemplo anterior comparando con **solve_ivp**"
      ],
      "metadata": {
        "id": "owDKxK-JNnmh"
      }
    },
    {
      "cell_type": "code",
      "source": [
        "l=1 # parametro lambda\n",
        "Xm = 5 # parametro Xm\n",
        "\n",
        "fun = lambda t, x: l * x * (1 - x/Xm)\n",
        "t0 = 0\n",
        "T = 10\n",
        "x0 = [1]\n",
        "n = 50\n",
        "\n",
        "\n",
        "(t,x) = Euler(fun, t0, T, x0, n)\n",
        "\n",
        "sol = solve_ivp(fun, t_span=(t0, T), y0 = x0)\n",
        "\n",
        "print(\"solucion numerica con Euler es: \\n\", x[0, :])\n",
        "print(\"solucion con el solver solve_ivp es: \\n\", sol.y[0, :])"
      ],
      "metadata": {
        "colab": {
          "base_uri": "https://localhost:8080/"
        },
        "id": "s2hzpvLbNnQr",
        "outputId": "d9afb567-864c-4375-d9c2-74433eff1759"
      },
      "execution_count": null,
      "outputs": [
        {
          "output_type": "stream",
          "name": "stdout",
          "text": [
            "solucion numerica con Euler es: \n",
            " [1.         1.16       1.338176   1.5341826  1.74687047 1.97418231\n",
            " 2.21312294 2.459831   2.70976646 2.95800638 3.19961558 3.43003711\n",
            " 3.64543834 3.84295718 4.02081582 4.17830059 4.31563288 4.43377197\n",
            " 4.53419301 4.61867536 4.68912395 4.7474334  4.79539513 4.83464157\n",
            " 4.86661952 4.892584   4.91360568 4.93058598 4.94427605 4.95529664\n",
            " 4.96415737 4.97127451 4.9769866  4.9815681  4.98524089 4.988184\n",
            " 4.99054161 4.99242971 4.99394148 4.99515171 4.99612043 4.99689574\n",
            " 4.99751621 4.99801272 4.99841002 4.99872791 4.99898227 4.99918577\n",
            " 4.99934859 4.99947886]\n",
            "solucion con el solver solve_ivp es: \n",
            " [1.         1.08629685 2.20668215 4.08865971 4.71140673 4.91709289\n",
            " 4.98252349 4.99695141 4.99890277]\n"
          ]
        }
      ]
    },
    {
      "cell_type": "markdown",
      "source": [
        "## Euler modificado"
      ],
      "metadata": {
        "id": "K_gUQ3QjOeXH"
      }
    },
    {
      "cell_type": "code",
      "source": [
        "def euler_mod(f,t0,T,x0,n):\n",
        "  \"\"\"\n",
        "  Esta funcion implementa el metodo de Euler modificado \n",
        "  x_i = x_{i-1} + h f(t_{i-1}+0.5*h, x_{i-1} + 0.5*h*f(t_{i-1}, x_{i-1})\n",
        "  para resolver \n",
        "                   x'(t) = f(t,x)\n",
        "  en n pasos, en el intervalo [t0, T]  con condicion inicial x(t0) =x0\n",
        "\n",
        "  \"\"\"\n",
        "\n",
        "  t = np.linspace(t0, T, n+1) \n",
        "\n",
        "  x = np.zeros(n+1) \n",
        "  x[0]=x0 \n",
        "  h = (T-t0)/n #paso\n",
        "\n",
        "  for i in range(1, n+1): \n",
        "    x[i] = x[i-1] + h * f(t[i-1] + 0.5*h, x[i-1] + 0.5 * h * f(t[i-1], x[i-1]))\n",
        "\n",
        "\n",
        "  return(t,x) \n",
        "\n",
        "# euler modificado para sistemas:\n",
        "\n",
        "\n",
        "\n",
        "def Euler_mod(f, t0, T, x0, n):\n",
        "  \"\"\"\n",
        "  Esta funcion implementa el metodo de Euler modificado \n",
        "  x_i = x_{i-1} + h f(t_{i-1}+0.5*h, x_{i-1} + 0.5*h*f(t_{i-1}, x_{i-1})\n",
        "  para resolver \n",
        "                   x'(t) = f(t,x)\n",
        "  en n pasos, en el intervalo [t0, T]  con condicion inicial x(t0) =x0 donde x puede ser un vector de R^d\n",
        "\n",
        "  \"\"\"\n",
        "\n",
        "  t = np.linspace(t0, T, n+1)\n",
        "  h = (T-t0)/n\n",
        "    \n",
        "  \n",
        "  X = np.zeros((len(x0), n+1))\n",
        "  X[:,0] = x0   # en la primera columna ponemos el valor o vector de x a tiempo 0\n",
        "\n",
        "  for j in range(1,n):\n",
        "      X[:,j] = # completar   \n",
        "\n",
        "  return t,X \n",
        "\n",
        "\n"
      ],
      "metadata": {
        "id": "YjConTEqnNBQ"
      },
      "execution_count": null,
      "outputs": []
    },
    {
      "cell_type": "markdown",
      "source": [
        "probemos con el ejemplo:"
      ],
      "metadata": {
        "id": "R99c1IwDSSZm"
      }
    },
    {
      "cell_type": "code",
      "source": [
        "l=1 # parametro lambda\n",
        "Xm = 5 # parametro Xm\n",
        "\n",
        "fun = lambda t, x: l * x * (1 - x/Xm)\n",
        "t0 = 0\n",
        "T = 10\n",
        "x0 = [1]\n",
        "n = 20\n",
        "\n",
        "(t,x) = Euler_mod(fun, t0, T, x0, n)\n",
        "\n",
        "sol = solve_ivp(fun, t_span=(t0, T), y0 = x0)\n",
        "\n",
        "print(\"solucion numerica con Euler modificado es: \\n\", x[0, :])\n",
        "print(\"solucion con el solver solve_ivp es: \\n\", sol.y[0, :])"
      ],
      "metadata": {
        "colab": {
          "base_uri": "https://localhost:8080/"
        },
        "id": "7xCCqtkASU5V",
        "outputId": "09171a91-32a5-45e3-d21e-b84d6bcb0693"
      },
      "execution_count": null,
      "outputs": [
        {
          "output_type": "stream",
          "name": "stdout",
          "text": [
            "solucion numerica con Euler modificado es: \n",
            " [1.         1.456      2.0192209  2.64098679 3.2455118  3.76437598\n",
            " 4.16529195 4.45205127 4.64689286 4.77507755 4.85775655 4.91044387\n",
            " 4.94377138 4.96475697 4.97793397 4.98619343 4.99136492 4.99460074\n",
            " 4.99662455 4.99788999]\n",
            "solucion con el solver solve_ivp es: \n",
            " [1.         1.08629685 2.20668215 4.08865971 4.71140673 4.91709289\n",
            " 4.98252349 4.99695141 4.99890277]\n"
          ]
        }
      ]
    },
    {
      "cell_type": "code",
      "source": [
        "x"
      ],
      "metadata": {
        "colab": {
          "base_uri": "https://localhost:8080/"
        },
        "id": "1NquTH8PS22A",
        "outputId": "5b529866-4f35-44e8-9571-4e7b4a138d21"
      },
      "execution_count": null,
      "outputs": [
        {
          "output_type": "execute_result",
          "data": {
            "text/plain": [
              "array([[1.        , 1.456     , 2.0192209 , 2.64098679, 3.2455118 ,\n",
              "        3.76437598, 4.16529195, 4.45205127, 4.64689286, 4.77507755,\n",
              "        4.85775655, 4.91044387, 4.94377138, 4.96475697, 4.97793397,\n",
              "        4.98619343, 4.99136492, 4.99460074, 4.99662455, 4.99788999]])"
            ]
          },
          "metadata": {},
          "execution_count": 36
        }
      ]
    },
    {
      "cell_type": "markdown",
      "source": [
        "## Runge Kutta"
      ],
      "metadata": {
        "id": "-78HGo5iYZSE"
      }
    },
    {
      "cell_type": "code",
      "source": [
        "# runge Kutta\n",
        "\n",
        "\n",
        "def orden4(f, tval, x, h):\n",
        "    \n",
        "    k1 = f(tval, x)\n",
        "    k2 = f(tval + 0.5*h, x + 0.5*h*k1)\n",
        "    k3 = f(tval + 0.5*h, x + 0.5*h*k2)\n",
        "    k4 = f(tval + h, x + h*k3)\n",
        "    \n",
        "    x = x +h*(k1 + 2*k2 +2*k3 + k4)/6\n",
        "    \n",
        "    return x\n",
        "\n",
        "\n",
        "    \n",
        "\n",
        "def RK4(f, t0, T, x0, n):\n",
        "    \n",
        "    t = np.linspace(t0, T, n+1)\n",
        "    h  = (T - t0)/n\n",
        "    \n",
        "    X = np.zeros((len(x0),n+1))\n",
        "    \n",
        "    X[:,0] = x0\n",
        "    for j in range(1,n):\n",
        "        X[:,j] = orden4(f, t[j-1], X[:, j-1], h)\n",
        "\n",
        "    return t, X\n"
      ],
      "metadata": {
        "id": "tbqPl_A4883e"
      },
      "execution_count": null,
      "outputs": []
    },
    {
      "cell_type": "markdown",
      "source": [
        "probemos con el ejemplo:"
      ],
      "metadata": {
        "id": "mX0fLlnUUojm"
      }
    },
    {
      "cell_type": "code",
      "source": [
        "l=1 # parametro lambda\n",
        "Xm = 5 # parametro Xm\n",
        "\n",
        "fun = lambda t, x: l * x * (1 - x/Xm)\n",
        "t0 = 0\n",
        "T = 10\n",
        "x0 = [1]\n",
        "n = 20\n",
        "\n",
        "(t,x) = RK4(fun, t0, T, x0, n)\n",
        "\n",
        "sol = solve_ivp(fun, t_span=(t0, T), y0 = x0)\n",
        "\n",
        "print(\"solucion numerica con Runge Kutta 4 es: \\n\", x[0, :])\n",
        "print(\"solucion con el solver solve_ivp es: \\n\", sol.y[0, :])"
      ],
      "metadata": {
        "colab": {
          "base_uri": "https://localhost:8080/"
        },
        "outputId": "d3143db9-2b71-4380-bdf5-8dea70131ed2",
        "id": "5GrF80W-Uojn"
      },
      "execution_count": null,
      "outputs": [
        {
          "output_type": "stream",
          "name": "stdout",
          "text": [
            "solucion numerica con Runge Kutta 4 es: \n",
            " [1.         1.45931802 2.02294155 2.64184566 3.24378321 3.76393358\n",
            " 4.16943397 4.46092545 4.65847481 4.78707475 4.86861174 4.91944853\n",
            " 4.95081344 4.97003963 4.98177817 4.98892773 4.99327584 4.99591783\n",
            " 4.99752226 4.99849629]\n",
            "solucion con el solver solve_ivp es: \n",
            " [1.         1.08629685 2.20668215 4.08865971 4.71140673 4.91709289\n",
            " 4.98252349 4.99695141 4.99890277]\n"
          ]
        }
      ]
    },
    {
      "cell_type": "markdown",
      "source": [
        "## Ejemplos de Sistemas:\n",
        "\n",
        "## Ejercicio 14\n",
        "\n",
        "Sistema predador-presa. Sea el sistema\n",
        "\n",
        "$$\n",
        "\\left\\{\\begin{array}{l}\n",
        "\\dot{x}(t)=-\\alpha x(t)+\\gamma x(t) y(t), \\\\\n",
        "\\dot{y}(t)=\\beta y(t)-\\delta x(t) y(t) .\n",
        "\\end{array}\\right.\n",
        "$$\n",
        "\n",
        "\n",
        "Tomando $\\alpha=0.25, \\beta=1, \\gamma=\\delta=0.01$ resolver usando el comando **solve_ivp** de Python y realizar gráficos para distintos valores de $x(0)$ e $y(0)$. \n"
      ],
      "metadata": {
        "id": "1t3AiXiLYuGp"
      }
    },
    {
      "cell_type": "code",
      "source": [
        "# seteamos parametros\n",
        "\n",
        "\n",
        "alpha = 0.25\n",
        "beta = 1\n",
        "gamma = 0.01\n",
        "delta = gamma\n",
        "\n",
        "def depredador(t, X):\n",
        "    \n",
        "    x = X[0]\n",
        "    y = X[1]\n",
        "    xpunto = -alpha*x + gamma*x*y\n",
        "    ypunto = beta*y - delta*x*y\n",
        "    \n",
        "    Xpunto = np.hstack((xpunto, ypunto))\n",
        "    \n",
        "    return Xpunto\n"
      ],
      "metadata": {
        "id": "0eBV65ucUwoC"
      },
      "execution_count": null,
      "outputs": []
    },
    {
      "cell_type": "code",
      "source": [
        "x0 = [1, 2]\n",
        "t0 = 0\n",
        "T = 1\n",
        "h = 0.0001\n",
        "n = int((T-t0)/h)\n",
        "\n",
        "(t, x) =  RK4(#completar)\n",
        "sol = solve_ivp(#completar)\n",
        "\n",
        "\n",
        "\n",
        "# ploteamos:\n",
        "plt.figure(figsize = (20, 6))\n",
        "plt.subplot(121)\n",
        "plt.plot(t, x[0,:],  label = \"x(t) usando nuestro RK4\")\n",
        "plt.plot(sol.t, sol.y[0,:], label = \"x(t) usando solve_ivp\")\n",
        "plt.legend()\n",
        "\n",
        "plt.subplot(122)\n",
        "plt.plot(t, x[1,:],  label = \"x(t) usando nuestro RK4\")\n",
        "plt.plot(sol.t, sol.y[1,:], label = \"y(t) usando solve_ivp\")\n",
        "plt.legend()\n",
        "plt.show()"
      ],
      "metadata": {
        "id": "tf8yhrKbazR8"
      },
      "execution_count": null,
      "outputs": []
    },
    {
      "cell_type": "markdown",
      "source": [
        "## Ejercicio 18\n",
        "\n",
        "Péndulo: Se considera el problema del péndulo\n",
        "\n",
        "$$\n",
        "\\left\\{\\begin{array}{l}\n",
        "\\ddot{\\theta}(t)=-A \\operatorname{sen}(\\theta(t)) \\\\\n",
        "\\theta(0)=\\theta_{0} \\\\\n",
        "\\dot{\\theta}(0)=v_{0}\n",
        "\\end{array}\\right.\n",
        "$$\n",
        "\n",
        "donde $\\theta$ representa el ángulo que forma la vara del péndulo con la vertical.\n",
        "\n",
        "1. Formular el problema como un sistema de ecuaciones de primer orden.\n",
        "\n",
        "2. Utilizar el método de Euler modificado, con paso $h=0.05$ para obtener una aproximación de la solución en $[0, T]$ y graficarla.\n",
        "\n",
        "3. Graficar la solución que se obtiene al utilizar método de Runge-Kutta del Ejercicio 9.\n",
        "\n",
        "Pueden considerarse, a modo de ejemplo, los valores $A=7, T=10, \\theta_{0}=\\pi / 4, v_{0}=0$."
      ],
      "metadata": {
        "id": "6vfkZ7HDn5rX"
      }
    },
    {
      "cell_type": "code",
      "source": [
        "def pendulo(t, X):\n",
        "    A = 7\n",
        "    x = X[0]\n",
        "    y = X[1]\n",
        "    xpunto = # completar\n",
        "    ypunto = # completar\n",
        "    \n",
        "    Xpunto = np.hstack((xdot, ydot))\n",
        "    \n",
        "    return Xpunto\n"
      ],
      "metadata": {
        "id": "pM8dHuY9oFQe"
      },
      "execution_count": null,
      "outputs": []
    },
    {
      "cell_type": "code",
      "source": [
        "# seteamos los parámetros:\n",
        "t0 = 0\n",
        "T = 10\n",
        "x0 = np.array([np.pi/4, 0])\n",
        "h = 0.05\n",
        "n= int((T-t0)/h)\n"
      ],
      "metadata": {
        "id": "quErEVSOKM2q"
      },
      "execution_count": null,
      "outputs": []
    },
    {
      "cell_type": "code",
      "source": [
        "t_EM, X_EM = Euler_mod(pendulo, t0, T, x0, n)\n",
        "\n",
        "t, X_RK4 = RK4(pendulo, t0, T, x0, n)\n",
        "\n",
        "sol = solve_ivp(pendulo, t_span = (t0, T), y0 = x0, t_eval = t)"
      ],
      "metadata": {
        "id": "KTidc2UiKUvU"
      },
      "execution_count": null,
      "outputs": []
    },
    {
      "cell_type": "code",
      "source": [
        "plt.figure(figsize = (20,12))\n",
        "\n",
        "plt.subplot(321)\n",
        "plt.plot(t_EM, X_EM[0,:])\n",
        "plt.xlabel('time [s]')\n",
        "plt.ylabel('angle [rads]')\n",
        "plt.title('Posicion angular $\\theta(t)$ usando Euler Modificado')\n",
        "\n",
        "\n",
        "plt.subplot(322)\n",
        "plt.plot(X_EM[0,:], X_EM[1,:])\n",
        "plt.xlabel('theta [rad]')\n",
        "plt.ylabel('dot{theta} [rad/s]')\n",
        "plt.title('diagrama de fases')\n",
        "\n",
        "plt.subplot(323)\n",
        "plt.plot(t, X_RK4[0,:], color = 'darkblue')\n",
        "plt.xlabel('time [s]')\n",
        "plt.ylabel('angle [rads]')\n",
        "plt.title('Posicion angular usando RK4')\n",
        "\n",
        "plt.subplot(324)\n",
        "plt.plot(X_RK4[0,:], X_RK4[1,:],color = 'darkblue')\n",
        "plt.xlabel('theta [rad]')\n",
        "plt.ylabel('dot{theta} [rad/s]')\n",
        "plt.title('diagrama de fases')\n",
        "\n",
        "\n",
        "plt.subplot(325)\n",
        "plt.plot(sol.t, sol.y[0,:], color = 'darkblue')\n",
        "plt.xlabel('time [s]')\n",
        "plt.ylabel('angle [rads]')\n",
        "plt.title('Posicion angular usando solve_ivp')\n",
        "\n",
        "plt.subplot(326)\n",
        "plt.plot(sol.y[0,:], sol.y[1,:],color = 'darkblue')\n",
        "plt.xlabel('theta [rad]')\n",
        "plt.ylabel('dot{theta} [rad/s]')\n",
        "plt.title('diagrama de fases')\n",
        "\n",
        "\n",
        "\n",
        "plt.tight_layout(pad=3.0)\n",
        "\n",
        "plt.show()\n"
      ],
      "metadata": {
        "id": "PbKLNwbMKr7d"
      },
      "execution_count": null,
      "outputs": []
    },
    {
      "cell_type": "code",
      "source": [
        "# todas las soluciones juntas:\n",
        "\n",
        "plt.figure(figsize = (20,6))\n",
        "plt.subplot(121)\n",
        "plt.plot(t_e, X_EM[0,:], label = \"Euler mod\", linestyle =\"dashed\", color = \"red\")\n",
        "plt.plot(t, X_RK4[0,:], label = \"RK4\", linestyle =\"dotted\", color = \"green\")\n",
        "plt.plot(sol.t, sol.y[0,:], label = \"solve_ivp\", linestyle =\"dotted\", color = \"yellow\")\n",
        "plt.xlabel('time [s]')\n",
        "plt.ylabel('angle [rads]')\n",
        "plt.title('Posicion angular $theta(t)$')\n",
        "plt.legend()\n",
        "\n",
        "\n",
        "plt.subplot(122)\n",
        "plt.plot(X_EM[0,:], X_EM[1,:], label = \"Euler mod\", linestyle =\"dashed\", color = \"red\")\n",
        "plt.plot(X_RK4[0,:], X_RK4[1,:], label = \"RK4\", linestyle =\"dotted\", color = \"green\")\n",
        "plt.plot(sol.y[0,:], sol.y[1,:], label = \"solve_ivp\", linestyle =\"dotted\", color = \"yellow\")\n",
        "plt.xlabel('theta [rad]')\n",
        "plt.ylabel('dot{theta} [rad/s]')\n",
        "plt.title('diagrama de fases')\n",
        "plt.legend()\n",
        "\n",
        "plt.show()\n",
        "\n",
        "\n",
        "\n"
      ],
      "metadata": {
        "colab": {
          "base_uri": "https://localhost:8080/",
          "height": 417
        },
        "id": "im_edMY-sv0d",
        "outputId": "49daa9ee-4d61-4154-f8a5-2af5b25cd5fc"
      },
      "execution_count": null,
      "outputs": [
        {
          "output_type": "display_data",
          "data": {
            "text/plain": [
              "<Figure size 2000x600 with 2 Axes>"
            ],
            "image/png": "[encoded data removed]"
          },
          "metadata": {}
        }
      ]
    },
    {
      "cell_type": "markdown",
      "source": [
        "## Ejercicio 19 p3. Oscilador no lineal:\n",
        "Dada la ecuación $\\ddot{x}(t) = -2 x^{3}(t) + x(t)$\n",
        "\n",
        "a) Formular el problema como un sistema de ecuaciones de primer orden.\n",
        "\n",
        "b) Utilizar el método de Runge-Kutta de cuarto orden para obtener las soluciones correspondientes a las condiciones iniciales $x(0) = -2;-1.9;\\ldots;1.9;2$ y $\\dot{x}(0) = 0$.\n",
        "\n",
        "c) Graficarlas en el diagrama de fases.\n",
        "\n",
        "d) Graficar la cantidad $H(t) = \\dot{x}^{2}(t) + x^{4}(t) - x^{2}(t)$ para cada solución.\n",
        "\n"
      ],
      "metadata": {
        "id": "eGVIyvxFzzp-"
      }
    },
    {
      "cell_type": "code",
      "source": [],
      "metadata": {
        "id": "UsLBtitx0J4P"
      },
      "execution_count": null,
      "outputs": []
    }
  ]
}