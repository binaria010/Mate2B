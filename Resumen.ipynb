{
  "nbformat": 4,
  "nbformat_minor": 0,
  "metadata": {
    "colab": {
      "provenance": [],
      "collapsed_sections": [
        "2Dn-P1jGcaJJ",
        "fLO9ILvBckLw",
        "8UcEXJYteITA",
        "lzRMxkNlhphR"
      ],
      "toc_visible": true,
      "authorship_tag": "ABX9TyONxALnBtMaqHQbRkU5f7cG",
      "include_colab_link": true
    },
    "kernelspec": {
      "name": "python3",
      "display_name": "Python 3"
    },
    "language_info": {
      "name": "python"
    }
  },
  "cells": [
    {
      "cell_type": "markdown",
      "metadata": {
        "id": "view-in-github",
        "colab_type": "text"
      },
      "source": [
        "<a href=\"https://colab.research.google.com/github/binaria010/Mate2B/blob/main/Resumen.ipynb\" target=\"_parent\"><img src=\"https://colab.research.google.com/assets/colab-badge.svg\" alt=\"Open In Colab\"/></a>"
      ]
    },
    {
      "cell_type": "markdown",
      "source": [
        "# Resumen \n",
        "\n",
        "Este notebook es un resumen de las funciones y métodos numéricos usados en las prácticas 1-4"
      ],
      "metadata": {
        "id": "KNWG8iPePy0W"
      }
    },
    {
      "cell_type": "markdown",
      "source": [
        "## Práctica 1: Taylor e interpolacion:\n",
        "\n",
        "En esta práctica usamos python para:\n",
        "\n"
      ],
      "metadata": {
        "id": "89f0evINQF8F"
      }
    },
    {
      "cell_type": "markdown",
      "source": [
        "### Grafico de funciones:\n",
        "definimos funciones matemáticas y graficamos usando la libreria <font color = \"magenta\">matplotlib.pyplot</font>\n",
        "\n"
      ],
      "metadata": {
        "id": "RnVNx5zWbn4R"
      }
    },
    {
      "cell_type": "markdown",
      "source": [
        "#### Ejemplo:\n",
        "\n",
        "Queremos graficar la función $f(x) = \\cos(x) +1$ en el intervalo $[-3,3]$. \n",
        "Para esto definimos la funcion en python que calcula los valores de $f$, definimos una tabla de valores o grilla.\n",
        "\n",
        "Para la grilla de valores usamos la función <font color =\"magenta\">linspace</font> de numpy"
      ],
      "metadata": {
        "id": "CXk_-GmbfgIb"
      }
    },
    {
      "cell_type": "code",
      "source": [
        "import matplotlib.pyplot as plt\n",
        "import numpy as np\n",
        "\n",
        "def f(x):\n",
        "  y = np.cos(x) + 1\n",
        "\n",
        "  return y\n",
        "\n",
        "\n",
        "grilla = np.linspace(-3, 3, 100)    # me da 100 puntos en el [-3,3] equiespaciados\n",
        "\n",
        "print(grilla)\n"
      ],
      "metadata": {
        "colab": {
          "base_uri": "https://localhost:8080/"
        },
        "id": "zmYPaCZZgE_O",
        "outputId": "7537aea6-945e-4009-8348-73ad7ae01ffd"
      },
      "execution_count": 1,
      "outputs": [
        {
          "output_type": "stream",
          "name": "stdout",
          "text": [
            "[-3.         -2.93939394 -2.87878788 -2.81818182 -2.75757576 -2.6969697\n",
            " -2.63636364 -2.57575758 -2.51515152 -2.45454545 -2.39393939 -2.33333333\n",
            " -2.27272727 -2.21212121 -2.15151515 -2.09090909 -2.03030303 -1.96969697\n",
            " -1.90909091 -1.84848485 -1.78787879 -1.72727273 -1.66666667 -1.60606061\n",
            " -1.54545455 -1.48484848 -1.42424242 -1.36363636 -1.3030303  -1.24242424\n",
            " -1.18181818 -1.12121212 -1.06060606 -1.         -0.93939394 -0.87878788\n",
            " -0.81818182 -0.75757576 -0.6969697  -0.63636364 -0.57575758 -0.51515152\n",
            " -0.45454545 -0.39393939 -0.33333333 -0.27272727 -0.21212121 -0.15151515\n",
            " -0.09090909 -0.03030303  0.03030303  0.09090909  0.15151515  0.21212121\n",
            "  0.27272727  0.33333333  0.39393939  0.45454545  0.51515152  0.57575758\n",
            "  0.63636364  0.6969697   0.75757576  0.81818182  0.87878788  0.93939394\n",
            "  1.          1.06060606  1.12121212  1.18181818  1.24242424  1.3030303\n",
            "  1.36363636  1.42424242  1.48484848  1.54545455  1.60606061  1.66666667\n",
            "  1.72727273  1.78787879  1.84848485  1.90909091  1.96969697  2.03030303\n",
            "  2.09090909  2.15151515  2.21212121  2.27272727  2.33333333  2.39393939\n",
            "  2.45454545  2.51515152  2.57575758  2.63636364  2.6969697   2.75757576\n",
            "  2.81818182  2.87878788  2.93939394  3.        ]\n"
          ]
        }
      ]
    },
    {
      "cell_type": "code",
      "source": [
        "# plot de la funcion en los valores de la grilla definida\n",
        "\n",
        "plt.plot(grilla, f(grilla))\n",
        "plt.show()"
      ],
      "metadata": {
        "colab": {
          "base_uri": "https://localhost:8080/",
          "height": 430
        },
        "id": "gzZBDgY4gpg_",
        "outputId": "49360342-59ec-4d75-eca6-b4fd377d221d"
      },
      "execution_count": 2,
      "outputs": [
        {
          "output_type": "display_data",
          "data": {
            "text/plain": [
              "<Figure size 640x480 with 1 Axes>"
            ],
            "image/png": "[encoded data removed]"
          },
          "metadata": {}
        }
      ]
    },
    {
      "cell_type": "markdown",
      "source": [
        "### Interpolación: \n",
        "\n",
        "Dadas dos listas $x = [x_0, x_1,\\dots, x_{n+1}]$, $y = [y_0,y_1,\\dots,y_n]$\n",
        "\n",
        "\n",
        "* la función <font color = \"magenta\">lagrange</font> de la libreria <font color = \"magenta\">scipy.interpolate</font> nos da el polinomio interpolador en dichos puntos.\n",
        "\n",
        "Una forma de importar esta función es: <font color = \"magenta\">from scipy.interpolate import lagrange</font> una vez importada la usamos en los $x's$ e $y's$:\n",
        "$$\n",
        "  p = \\text{lagrange}(x,y)\n",
        "$$\n",
        "\n",
        "esto nos devuelve un <font color = \"magenta\">objeto polinomio</font> $p$ (como un poly1d) de grado $n=\\text{ longitud de la lista } x -1$ que podemos evaluar en distintos valores. \n",
        "\n",
        "* Usando <font color = \"magenta\">polyfit</font> y <font color = \"magenta\">poly1d</font> de la libreria <font color = \"magenta\">numpy</font>. Por ejemplo para las mismas listas definimos:\n",
        "\n",
        "$$\n",
        "\\text{coefs} = \\text{np.polyfit}(x,y, grado)\n",
        "$$\n",
        "\n",
        "esto nos devuelve una lista de numeros que representan los coeficientes del polinomio interpolador, ordenados en mayor a menor grado. Una vez obtenidos los coeficientes podemos definir el polinomio interpolador con la función <font color = \"magenta\">poly1d</font> de numpy\n",
        "\n",
        "$$\n",
        "p = \\text{np.poly1d}(\\text{coefs})\n",
        "$$\n",
        "\n",
        "este $p$ es tambien un objeto polinomio al que podemos evaluar en distintos valores.\n",
        "\n",
        "\n"
      ],
      "metadata": {
        "id": "2Dn-P1jGcaJJ"
      }
    },
    {
      "cell_type": "markdown",
      "source": [
        "#### Ejemplo:\n",
        "\n"
      ],
      "metadata": {
        "id": "fLO9ILvBckLw"
      }
    },
    {
      "cell_type": "code",
      "source": [
        "import numpy as np\n",
        "import matplotlib.pyplot as plt\n",
        "from scipy.interpolate import lagrange\n"
      ],
      "metadata": {
        "id": "FzGxYinWcmnU"
      },
      "execution_count": 3,
      "outputs": []
    },
    {
      "cell_type": "code",
      "execution_count": 4,
      "metadata": {
        "colab": {
          "base_uri": "https://localhost:8080/"
        },
        "id": "pbJUoZhUPwQW",
        "outputId": "abaefad2-cf1d-4894-f734-a67fecf9f7cb"
      },
      "outputs": [
        {
          "output_type": "stream",
          "name": "stdout",
          "text": [
            "         3       2\n",
            "0.03333 x - 0.3 x + 1.267 x + 1\n"
          ]
        }
      ],
      "source": [
        "# usando funcion lagrange:\n",
        "\n",
        "x = np.array([0,1,3,5])\n",
        "y = np.array([1,2,3,4])\n",
        "\n",
        "p = lagrange(x,y)\n",
        "\n",
        "print(p)"
      ]
    },
    {
      "cell_type": "code",
      "source": [
        "# evaluar p en algun valor o valores\n",
        "\n",
        "p([1,2,3,4])"
      ],
      "metadata": {
        "colab": {
          "base_uri": "https://localhost:8080/"
        },
        "id": "4GUWykx9dXK7",
        "outputId": "982d5a22-bb88-4dd2-cf80-c13d1c18d36c"
      },
      "execution_count": 5,
      "outputs": [
        {
          "output_type": "execute_result",
          "data": {
            "text/plain": [
              "array([2. , 2.6, 3. , 3.4])"
            ]
          },
          "metadata": {},
          "execution_count": 5
        }
      ]
    },
    {
      "cell_type": "code",
      "source": [
        "# usando polyfit y poly1d:\n",
        "\n",
        "coefs = np.polyfit(x,y, deg = len(x)-1)\n",
        "q = np.poly1d(coefs)\n",
        "\n",
        "print(q)"
      ],
      "metadata": {
        "colab": {
          "base_uri": "https://localhost:8080/"
        },
        "id": "NDP92KATc9g_",
        "outputId": "b593c730-d811-49fb-c526-550cdc1efe3e"
      },
      "execution_count": 6,
      "outputs": [
        {
          "output_type": "stream",
          "name": "stdout",
          "text": [
            "         3       2\n",
            "0.03333 x - 0.3 x + 1.267 x + 1\n"
          ]
        }
      ]
    },
    {
      "cell_type": "code",
      "source": [
        "# evaluar q en algun valor o valores\n",
        "\n",
        "q([1,2,3,4])"
      ],
      "metadata": {
        "colab": {
          "base_uri": "https://localhost:8080/"
        },
        "id": "NwIKnPTpdiJ1",
        "outputId": "bcd15492-ba71-4c58-e47d-87ed6d1bb17c"
      },
      "execution_count": 7,
      "outputs": [
        {
          "output_type": "execute_result",
          "data": {
            "text/plain": [
              "array([2. , 2.6, 3. , 3.4])"
            ]
          },
          "metadata": {},
          "execution_count": 7
        }
      ]
    },
    {
      "cell_type": "code",
      "source": [],
      "metadata": {
        "id": "fxYvj7EUc8E3"
      },
      "execution_count": 7,
      "outputs": []
    },
    {
      "cell_type": "markdown",
      "source": [
        "#### Interpolacion en nodos de Chebyshev:\n",
        "\n",
        "Si elegimos como lista de x's los ceros de un polinomio de Chebyshev, llamamos al polinomio \"el interpolador en nodos de Chebyshev\"\n",
        "\n",
        "\n",
        "Si la interpolación ocurre en el intervalo $[-1,1]$ entonces los ceros del polinomio de Chebyshev de grado $n$ en dicho intervalo son:\n",
        "$$\n",
        "x_j = \\cos\\left(\\frac{(2j+1)\\pi}{2n} \\right),\\qquad j=0,1,2\\dots, n-1\n",
        "$$\n",
        "\n",
        "En python definimos esta lista de $x's$ como:\n",
        "$$\n",
        "x = \\text{[ np.cos((2*j+1)*np.pi/(2*n))  for j in range(n)]}\n",
        "$$\n",
        "\n",
        "para obtener los $y's$ y hacer la interpolacion es necesario tener la funcion que queremos interpolar pues $y_j=f(x_j)$"
      ],
      "metadata": {
        "id": "8UcEXJYteITA"
      }
    },
    {
      "cell_type": "markdown",
      "source": [
        "##### ejemplo:\n",
        "\n",
        "Queremos hallar el polinomio interpolador de grado $n=4$ de $f(x) = e^{x^2}$ en $[-1,1]$ en los nodos de Chebyshev.  \n",
        "\n",
        "Ojo: si queremos un polinomio interpolador de grado 4 necesitamos $5$ nodos, es decir necesitamos las raices del polinomio de Chebyshev de grado $n=5$\n"
      ],
      "metadata": {
        "id": "lzRMxkNlhphR"
      }
    },
    {
      "cell_type": "code",
      "source": [
        "n =5\n",
        "\n",
        "x = np.array([np.cos((2*j +1)*np.pi/(2*n)) for j in range(n)]) \n",
        "\n",
        "print(\"la longitud de x = cantidad nodos = \", len(x))"
      ],
      "metadata": {
        "colab": {
          "base_uri": "https://localhost:8080/"
        },
        "id": "Stm_N78KfJnb",
        "outputId": "50271800-a61a-47ab-f936-19e9f8f08e82"
      },
      "execution_count": 8,
      "outputs": [
        {
          "output_type": "stream",
          "name": "stdout",
          "text": [
            "la longitud de x = cantidad nodos =  5\n"
          ]
        }
      ]
    },
    {
      "cell_type": "code",
      "source": [
        "# defino la funcion f: usamos la forma abreviada lambda pero se puede usar def.\n",
        "func = lambda x: np.exp(x**2)\n",
        "\n",
        "# defino los y's :\n",
        "\n",
        "y = func(x)\n",
        "\n",
        "print(y)"
      ],
      "metadata": {
        "colab": {
          "base_uri": "https://localhost:8080/"
        },
        "id": "RWqrSGwLik0v",
        "outputId": "39084dbc-9b37-4965-cdec-50d9d167d065"
      },
      "execution_count": 9,
      "outputs": [
        {
          "output_type": "stream",
          "name": "stdout",
          "text": [
            "[2.47071726 1.41268409 1.         1.41268409 2.47071726]\n"
          ]
        }
      ]
    },
    {
      "cell_type": "code",
      "source": [
        "# defino el polinomio interpolador: podemos usar lagrange o polyfit + poly1d:\n",
        "\n",
        "p = lagrange(x,y)\n",
        "\n",
        "print(p)"
      ],
      "metadata": {
        "colab": {
          "base_uri": "https://localhost:8080/"
        },
        "id": "O6Bj4hXrjPIP",
        "outputId": "5b5627ab-71c2-400a-bd37-4cd9c3f7010b"
      },
      "execution_count": 10,
      "outputs": [
        {
          "output_type": "stream",
          "name": "stdout",
          "text": [
            "        4             3          2\n",
            "0.7719 x - 3.109e-15 x + 0.9278 x - 2.22e-16 x + 1\n"
          ]
        }
      ]
    },
    {
      "cell_type": "code",
      "source": [
        "# grafiquemos f y p:\n",
        "\n",
        "grilla  = np.linspace(-1.5,1.5, 100) #defino la grilla donde voy a graficar\n",
        "\n",
        "plt.plot(grilla, func(grilla), label = \"f\", color = \"red\")\n",
        "plt.plot(grilla, p(grilla), label = \"polinomio\", color = \"yellow\")\n",
        "plt.legend()\n",
        "plt.show()"
      ],
      "metadata": {
        "colab": {
          "base_uri": "https://localhost:8080/",
          "height": 0
        },
        "id": "dkAcgLiQjph2",
        "outputId": "6dc6021a-cfa2-411c-f9a6-ff888b76df3b"
      },
      "execution_count": 11,
      "outputs": [
        {
          "output_type": "display_data",
          "data": {
            "text/plain": [
              "<Figure size 640x480 with 1 Axes>"
            ],
            "image/png": "[encoded data removed]"
          },
          "metadata": {}
        }
      ]
    },
    {
      "cell_type": "code",
      "source": [
        "# grafiquemos el modulo de la diferencia entre la funcion y el polinomio. Esto es el error:\n",
        "grilla = np.linspace(-1,1, 100)\n",
        "\n",
        "error = np.abs(func(grilla) - p(grilla))  # esto ya es una lista de numeros que me da la diferencia entre f y p en cada valor de la grilla\n",
        "\n",
        "plt.plot(grilla, error, label = \"error\")\n",
        "plt.legend()\n",
        "plt.show()"
      ],
      "metadata": {
        "colab": {
          "base_uri": "https://localhost:8080/",
          "height": 0
        },
        "id": "SpW3lV-TkA4n",
        "outputId": "1745981c-f828-4974-e96a-b7afb0594247"
      },
      "execution_count": 12,
      "outputs": [
        {
          "output_type": "display_data",
          "data": {
            "text/plain": [
              "<Figure size 640x480 with 1 Axes>"
            ],
            "image/png": "[encoded data removed]"
          },
          "metadata": {}
        }
      ]
    },
    {
      "cell_type": "code",
      "source": [
        "# una estimacion numerica del error en la interpolacion se obtiene calculando el maximo valor de error:\n",
        "\n",
        "estimacion = np.max(error)\n",
        "\n",
        "print(\"estimacion numerica del error de interpolacion es:\", estimacion)"
      ],
      "metadata": {
        "colab": {
          "base_uri": "https://localhost:8080/"
        },
        "id": "jMEKvsgck6B_",
        "outputId": "7e8ce030-0e13-47d9-abe0-e63ccc61cc8d"
      },
      "execution_count": 13,
      "outputs": [
        {
          "output_type": "stream",
          "name": "stdout",
          "text": [
            "estimacion numerica del error de interpolacion es: 0.018587650755703677\n"
          ]
        }
      ]
    },
    {
      "cell_type": "markdown",
      "source": [
        "## Práctica 2: Soluciones de ecuaciones no lineales\n",
        "\n",
        "En esta práctica usamos distintos métodos iterativos para hallar en forma aproximada una solución de una ecuación no lineal (equivalentemente una raiz de una función no lineal):\n",
        "\n",
        "* Bisección\n",
        "* Newton\n",
        "* Secante\n",
        "* punto fijo\n",
        "\n",
        "\n"
      ],
      "metadata": {
        "id": "rX-eLxZGl8DY"
      }
    },
    {
      "cell_type": "markdown",
      "source": [
        "### Bisección: \n",
        "\n",
        "En este metodo vamos particionando el intervalo de partida (donde sabemos que hay una raiz) en intervalos de tamaño la mitad del anterior.\n"
      ],
      "metadata": {
        "id": "MlIwpsXal-hP"
      }
    },
    {
      "cell_type": "markdown",
      "source": [
        "#### Ejemplo:\n",
        "\n",
        "Queremos hallar una aproximacion de la solucion de $x = \\sqrt[3]{0.9}$\n",
        "\n",
        "Sabemos por Bolzano que $f(x) = x^3 -0.9$ tiene una raiz en $[0,1]$"
      ],
      "metadata": {
        "id": "h-1FPJZ4vWjD"
      }
    },
    {
      "cell_type": "code",
      "source": [
        "f = lambda x: x**(3) - 0.9\n",
        "\n",
        "a = 0\n",
        "b = 1\n",
        "tol = 1e-8\n",
        "\n",
        "# iteracion de biseccion:\n",
        "\n",
        "i = 0\n",
        "fa = f(a)\n",
        "\n",
        "while abs(b-a) > tol :\n",
        "    \n",
        "    p = (a+b)/2\n",
        "    fp = f(p)\n",
        "  \n",
        "    print(\"en la iteración \" + str(i) +\"-esima p = \", p) # le pido imprima, pero no es necesario\n",
        "            \n",
        "    if fp == 0:    # si p justo es la raiz le pido que pare el while\n",
        "        break\n",
        "            \n",
        "    if fa*fp > 0 : # chequeo si NO hay cambio de signo en [a,p]. Si no hay cambio se ejecuta el if\n",
        "        a = p      # redefino el intervalo como  [p, b]\n",
        "        fa = fp    # f(a) pasa a ser lo que habiamos calculado antes: fp\n",
        "\n",
        "    else:          # si SI hay cambio en [a,p] se ejecuta este else\n",
        "        b = p      # redefino el intervalo como [a, p]\n",
        "\n",
        "    i = i+1        # me permite ir contando los pasos"
      ],
      "metadata": {
        "colab": {
          "base_uri": "https://localhost:8080/"
        },
        "id": "yjQSvrTSvINc",
        "outputId": "f9722368-2144-43ca-f8ca-ffd9235fadaa"
      },
      "execution_count": 14,
      "outputs": [
        {
          "output_type": "stream",
          "name": "stdout",
          "text": [
            "en la iteración 0-esima p =  0.5\n",
            "en la iteración 1-esima p =  0.75\n",
            "en la iteración 2-esima p =  0.875\n",
            "en la iteración 3-esima p =  0.9375\n",
            "en la iteración 4-esima p =  0.96875\n",
            "en la iteración 5-esima p =  0.953125\n",
            "en la iteración 6-esima p =  0.9609375\n",
            "en la iteración 7-esima p =  0.96484375\n",
            "en la iteración 8-esima p =  0.966796875\n",
            "en la iteración 9-esima p =  0.9658203125\n",
            "en la iteración 10-esima p =  0.96533203125\n",
            "en la iteración 11-esima p =  0.965576171875\n",
            "en la iteración 12-esima p =  0.9654541015625\n",
            "en la iteración 13-esima p =  0.96551513671875\n",
            "en la iteración 14-esima p =  0.965484619140625\n",
            "en la iteración 15-esima p =  0.9654998779296875\n",
            "en la iteración 16-esima p =  0.9654922485351562\n",
            "en la iteración 17-esima p =  0.9654884338378906\n",
            "en la iteración 18-esima p =  0.9654903411865234\n",
            "en la iteración 19-esima p =  0.965489387512207\n",
            "en la iteración 20-esima p =  0.9654889106750488\n",
            "en la iteración 21-esima p =  0.9654891490936279\n",
            "en la iteración 22-esima p =  0.9654892683029175\n",
            "en la iteración 23-esima p =  0.9654893279075623\n",
            "en la iteración 24-esima p =  0.9654893577098846\n",
            "en la iteración 25-esima p =  0.9654893726110458\n",
            "en la iteración 26-esima p =  0.9654893800616264\n"
          ]
        }
      ]
    },
    {
      "cell_type": "markdown",
      "source": [
        "### Newton:\n",
        "\n",
        "El metodo consiste en inicializar en una semilla $x_0$ e iterar lo siguiente:\n",
        "\n",
        "$$\n",
        "x_j = x_{j-1} - \\frac{f(x_j)}{f'(x_{j-1}}, \\qquad j=1,...\n",
        "$$\n",
        "\n",
        "El criterio de parada es cuando se llegue a $|x_{j}-x_{j-1}|<tol$ para una toleracia dada."
      ],
      "metadata": {
        "id": "GT_Rnk9JIe9p"
      }
    },
    {
      "cell_type": "markdown",
      "source": [
        "#### Ejemplo: \n",
        "Para el problema de hallar $\\sqrt[3]{0.3}$:"
      ],
      "metadata": {
        "id": "Mou5pKD4JU3J"
      }
    },
    {
      "cell_type": "code",
      "source": [
        "f = lambda x: x**(3) - 0.9  # definimos f\n",
        "derf = lambda x: 3*x**2     # definimos f'\n",
        "\n",
        "tol = 1e-8\n",
        "\n",
        "x_old = 2  # empezamos en este valor\n",
        "\n",
        "x_new = x_old - f(x_old)/derf(x_old)\n",
        "         \n",
        "i = 1   #inicio i en 1 porque ya calculo un primer valor a partir de xold =2\n",
        "while np.abs(x_new- x_old) > tol :\n",
        "\n",
        "    print(\"en la iteración \"+ str(i) + \" la aprox es x = \", x_new) #    # si quiero que vaya imprimiendo los puntos:\n",
        "    x_old = x_new    # redefino: el nuevo pasa a ser el viejo\n",
        "    x_new = x_old - f(x_old)/derf(x_old)   #calculo un nuevo valor\n",
        "    \n",
        "    i = i + 1   # aumento el contador de pasos\n",
        "    "
      ],
      "metadata": {
        "colab": {
          "base_uri": "https://localhost:8080/"
        },
        "id": "nd-3l0c9wCaj",
        "outputId": "afcecf1c-03df-46ac-eddc-4f40eff362c3"
      },
      "execution_count": 15,
      "outputs": [
        {
          "output_type": "stream",
          "name": "stdout",
          "text": [
            "en la iteración 1 la aprox es x =  1.4083333333333332\n",
            "en la iteración 2 la aprox es x =  1.090144097039864\n",
            "en la iteración 3 la aprox es x =  0.9791999809640585\n",
            "en la iteración 4 la aprox es x =  0.965680462116926\n",
            "en la iteración 5 la aprox es x =  0.9654894224113105\n",
            "en la iteración 6 la aprox es x =  0.9654893846056313\n"
          ]
        }
      ]
    },
    {
      "cell_type": "markdown",
      "source": [
        "### Secante:\n",
        "\n",
        "Este método es similar a Newtom. Reemplazamos la defivada de $f$ por el cociente diferencial. Inicializamos en dos valores $x_0,x_1$, la iteración para calcular la siguiente aproximación es:\n",
        "$$\n",
        "x_{j+1} = x_j - f(x_j)\\frac{x_{j} - x_{j-1}}{f(x_{j}) - f(x_{j-1})} \\qquad j=1,2,....\n",
        "$$\n",
        "\n",
        "el criterio de parada es cuando llegamos a que la diferencia en modulo de dos valores sucesivos sea menor que una tolerancia dad: $|x_{j+1}-x_j|\\leq tol$"
      ],
      "metadata": {
        "id": "YMCxeh4iMn14"
      }
    },
    {
      "cell_type": "markdown",
      "source": [
        "#### Ejemplo:\n",
        "\n",
        "seguimos calculando $\\sqrt[3]{0.9}$"
      ],
      "metadata": {
        "id": "2D9HoMnDNsso"
      }
    },
    {
      "cell_type": "code",
      "source": [
        "f = lambda x: x**(3) - 0.9  # definimos f\n",
        "derf = lambda x: 3*x**2     # definimos f'\n",
        "\n",
        "tol = 1e-8\n",
        "\n",
        "x_oold, x_old = 1, 2  # empezamos en estos valores\n",
        "\n",
        "x_new = x_old - f(x_old)*(x_old - x_oold)/(f(x_old) - f(x_oold))  #calculamos un primer valor\n",
        "\n",
        "i = 1\n",
        "\n",
        "while np.abs(x_new - x_old) > tol:\n",
        "  \n",
        "    print(\"en la iteración \"+ str(i) + \" la aprox es x = \", x_new) #    # si quiero que vaya imprimiendo los puntos:\n",
        "    \n",
        "    x_oold = x_old   # redefinimos para que x my viejo pase a ser viejo\n",
        "    x_old = x_new    # redefino: el nuevo pasa a ser el viejo\n",
        "    \n",
        "    x_new = x_old - f(x_old)*(x_old - x_oold)/(f(x_old) - f(x_oold))   #calculo un nuevo valor\n",
        "\n",
        "    i = i + 1   # aumento el contador de pasos\n",
        "\n",
        "\n"
      ],
      "metadata": {
        "colab": {
          "base_uri": "https://localhost:8080/"
        },
        "id": "KsLoMqoyKpk7",
        "outputId": "32aa13fe-e67c-425f-824b-f3f668c548b1"
      },
      "execution_count": 16,
      "outputs": [
        {
          "output_type": "stream",
          "name": "stdout",
          "text": [
            "en la iteración 1 la aprox es x =  0.9857142857142858\n",
            "en la iteración 2 la aprox es x =  0.9773963140413274\n",
            "en la iteración 3 la aprox es x =  0.9657333863010046\n",
            "en la iteración 4 la aprox es x =  0.9654923686784345\n",
            "en la iteración 5 la aprox es x =  0.965489385359646\n"
          ]
        }
      ]
    },
    {
      "cell_type": "markdown",
      "source": [
        "### Punto fijo:\n",
        "\n",
        "La idea en este metodo es reemplazar el problema de hallar aproximacion de la solucion de $f(x)=0$ por el de hallar una aproximacion a la solucion de $g(x)=x$ con $g$ una función contractiva que hay que elegir (o determinar). La iteracion es:\n",
        "\n",
        "$$\n",
        "x_{n+1} = g(x_n)\n",
        "$$"
      ],
      "metadata": {
        "id": "K33VyeRxQ83_"
      }
    },
    {
      "cell_type": "markdown",
      "source": [
        "#### Ejemplo: \n",
        "\n",
        "Hallar una aproximacion de la raiz de $f(x) = x^3 -x +1$. \n",
        "\n",
        "tomamos como $g(x) = \\sqrt[3]{x+1}$ y hay que chequear que $g$ es contraccion en algun intervalo donde $f$ tenga raiz."
      ],
      "metadata": {
        "id": "a3yENPlQYaG3"
      }
    },
    {
      "cell_type": "code",
      "source": [
        "f = lambda x: x**3 -x -1\n",
        "g = lambda x: (x+1)**(1/3)\n",
        "derg = lambda x: 1/3*(x+1)**(-2/3)\n",
        "\n",
        "\n",
        "#ploteamos g para chequear si satisface ser\n",
        "x = np.linspace(1,2,100)\n",
        "plt.plot(x, f(x), label = \"f\")\n",
        "plt.plot(x, g(x), label = \"g\")\n",
        "plt.plot(x, np.abs(derg(x)), label = \"|g'|\")\n",
        "plt.legend()\n",
        "\n"
      ],
      "metadata": {
        "colab": {
          "base_uri": "https://localhost:8080/",
          "height": 0
        },
        "id": "QWPDtHJpQAa4",
        "outputId": "65f7c2ed-05c0-4e87-e7f1-9111263b334f"
      },
      "execution_count": 17,
      "outputs": [
        {
          "output_type": "execute_result",
          "data": {
            "text/plain": [
              "<matplotlib.legend.Legend at 0x7f6184178460>"
            ]
          },
          "metadata": {},
          "execution_count": 17
        },
        {
          "output_type": "display_data",
          "data": {
            "text/plain": [
              "<Figure size 640x480 with 1 Axes>"
            ],
            "image/png": "[encoded data removed]"
          },
          "metadata": {}
        }
      ]
    },
    {
      "cell_type": "code",
      "source": [
        "# aplicamos el metodo:\n",
        "xold = 2\n",
        "xnew = g(xold)\n",
        "tol = 1e-8\n",
        "\n",
        "i =1\n",
        "while np.abs(xold - xnew) > tol:\n",
        "  xold = xnew\n",
        "  xnew = g(xold)\n",
        "  print(\"en el paso \" + str(i)+ \" la aproximacion es: \", xnew)\n",
        "  i = i+1\n"
      ],
      "metadata": {
        "colab": {
          "base_uri": "https://localhost:8080/"
        },
        "id": "eMpY48cCPPW-",
        "outputId": "c1dee83e-017d-43d4-8b44-c20fef3bfdce"
      },
      "execution_count": 18,
      "outputs": [
        {
          "output_type": "stream",
          "name": "stdout",
          "text": [
            "en el paso 1 la aproximacion es:  1.346676703722613\n",
            "en el paso 2 la aproximacion es:  1.3288758858138945\n",
            "en el paso 3 la aproximacion es:  1.3255072719244825\n",
            "en el paso 4 la aproximacion es:  1.3248678680484822\n",
            "en el paso 5 la aproximacion es:  1.3247464317046989\n",
            "en el paso 6 la aproximacion es:  1.3247233658541786\n",
            "en el paso 7 la aproximacion es:  1.324718984591807\n",
            "en el paso 8 la aproximacion es:  1.3247181523859666\n",
            "en el paso 9 la aproximacion es:  1.3247179943111884\n",
            "en el paso 10 la aproximacion es:  1.3247179642853968\n",
            "en el paso 11 la aproximacion es:  1.324717958582095\n"
          ]
        }
      ]
    },
    {
      "cell_type": "markdown",
      "source": [
        "## Práctica 3: Ecuaciones diferenciales\n",
        "\n",
        "En esta práctica implementamos los métodos de Euler, Euler modificado, Taylor de orden 2 y Runge Kutta para resolver un problema del estilo:\n",
        "\n",
        "$$\n",
        "x'(t)=f(t,x(t)),\\qquad x(t_{0})=x_{0}\n",
        "$$\n",
        "\n",
        "en algun intervalo $[t_0, T]$.\n",
        "\n",
        "$x(t)\\in \\mathbb{R}^n$. Primero hacemos el caso 1-dimensional y despues pasamos a sistemas y ecuaciones de orden 2."
      ],
      "metadata": {
        "id": "Y9EuotcMtFlf"
      }
    },
    {
      "cell_type": "markdown",
      "source": [
        "### Euler\n",
        "\n",
        "\n",
        "La iteracion del metodo es:\n",
        "\n",
        "$$\n",
        "x_{n+1}=x_{n}+hf(t_{n},x_{n}),\n",
        "$$\n",
        "donde $h$ es el paso y $t_n = t_0 + nh$."
      ],
      "metadata": {
        "id": "4DtmH25kuRwf"
      }
    },
    {
      "cell_type": "code",
      "source": [
        "def euler(f,t0,T,x0,n):\n",
        "\n",
        "  t = np.linspace(t0, T, n+1) #Esto tiene todos los tiempos separados por el paso h, recordar h = (T-t0)/n\n",
        "  \n",
        "  x = np.zeros(n+1) #Una lista de 0s que vamos a ir rellenando con las solucion en cada t_i\n",
        "  \n",
        "  x[0]=x0           #El primer valor es la condicion inicial\n",
        "  \n",
        "  h = (T-t0)/n      #paso\n",
        "\n",
        "  # la iteracion:\n",
        "\n",
        "  for i in range(1, n+1): #x[0] ya lo rellenamos, asique empezamos por el 1, y vamos hasta n\n",
        "    x[i] = x[i-1] + h * f(t[i-1], x[i-1])\n",
        "\n",
        "  return(t,x) #pedimos que nos devuelve la grilla de los tiempos (t) y el valor en cada punto (x)  para el grafico ."
      ],
      "metadata": {
        "id": "D8Sy0p8fd_p5"
      },
      "execution_count": 19,
      "outputs": []
    },
    {
      "cell_type": "markdown",
      "source": [
        "### Euler modificado\n",
        "\n",
        "La iteración de este método es:\n",
        "\n",
        "$$\n",
        "x_{i}=x_{i-1}+h f\\left(t_{i-1}+\\frac{h}{2}, x_{i-1}+\\frac{h}{2} f\\left(t_{i-1}, x_{i-1}\\right)\\right),\n",
        "$$"
      ],
      "metadata": {
        "id": "J_RWSFNDvXub"
      }
    },
    {
      "cell_type": "code",
      "source": [
        "def euler_mod(f,t0,T,x0,n):\n",
        "\n",
        "  t = np.linspace(t0, T, n+1) #Esto tiene todos los tiempos separados por el paso h, recordar h = (T-t0)/n\n",
        "\n",
        "  x = np.zeros(n+1) #Una lista de 0s que vamos a ir rellenando con las solucion\n",
        "  x[0]=x0           #El primer valor es la condicion inicial\n",
        "  h = (T-t0)/n      #paso\n",
        "\n",
        "  # la iteracion:\n",
        "  for i in range(1, n+1): \n",
        "\n",
        "    x[i] = x[i-1] + h * f(t[i-1] + h/2, x[i-1] + 0.5 * h * f(t[i-1], x[i-1]))\n",
        "\n",
        "\n",
        "  return(t,x) #Esta funcion ya nos devuelve la grilla para el grafico (t) y el valor en cada punto (x)."
      ],
      "metadata": {
        "id": "jWoTaFLUvDLw"
      },
      "execution_count": 20,
      "outputs": []
    },
    {
      "cell_type": "markdown",
      "source": [
        "### Taylor de orden 2\n",
        "\n",
        "la iteración es:\n",
        "\n",
        "\n",
        "$$\n",
        "x_{i}=x_{i-1}+h f\\left(t_{i-1}, x_{i-1})+ 0.5*h^2f'\\left(t_{i-1}, x_{i-1}\\right)\\right),\n",
        "$$\n",
        "\n",
        "donde $f'$ denota la derviada de $f(t, x(t))$ con respecto de $t$.\n"
      ],
      "metadata": {
        "id": "OvkFUlH1wSJz"
      }
    },
    {
      "cell_type": "code",
      "source": [
        "def Taylor2(f,derf, t0, T, x0, n):\n",
        "  \n",
        "  t = np.linspace(t0, T, n+1) #Esto tiene todos los tiempos separados por el paso h, recordar h = (T-t0)/n\n",
        "\n",
        "  x = np.zeros(n+1)          #Una lista de 0s que vamos a ir rellenando con las solucion\n",
        "  x[0]=x0                    # El primer valor es la condicion inicial\n",
        "  h = (T-t0)/n               #paso\n",
        "  \n",
        "  # La iteracion:\n",
        "\n",
        "  for i in range(1, n+1): \n",
        "\n",
        "    x[i] = x[i-1] + h * f(t[i-1], x[i-1]) + 0.5* h**2 * derf(t[i-1], x[i-1]) \n",
        "\n",
        "\n",
        "  return(t,x)            #Esta funcion ya nos devuelve la grilla para el grafico (t) y el valor en cada punto (x).\n"
      ],
      "metadata": {
        "id": "KRNlQOA_wKgS"
      },
      "execution_count": 21,
      "outputs": []
    },
    {
      "cell_type": "markdown",
      "source": [
        "### Runge Kutta de orden 4\n",
        "\n",
        "Implementar un programa para aproximar las solución de la ecuación diferencial\n",
        "\t$$\\begin{cases}\n",
        "\t\\dot{x}(t) = f(t, x(t)), \\\\\n",
        "\tx(t_{0}) = x_{0},\n",
        "\t\\end{cases}\n",
        "\t$$\n",
        "\tutilizando el método de Runge Kutta de orden 4 cuya iteración iesima es:\n",
        "\n",
        "$$\n",
        "\tx_{i} = x_{i-1} + \\frac{h}{6}(k_{1} + 2 k_{2} + 2 k_{3} + k_{4}),\n",
        "$$\n",
        "\t\n",
        "donde:\n",
        "\t\\begin{align*}\n",
        "\tk_{1} & = f(t_{i-1}, x_{i-1}),\\\\\n",
        "\tk_{2} & = f(t_{i-1} + h/2, x_{i-1} + h/2 k_{1}),\\\\\n",
        "\tk_{3} & = f(t_{i-1} + h/2, x_{i-1} + h/2 k_{2}),\\\\\n",
        "\tk_{4} & = f(t_{i-1} + h, x_{i-1} + h k_{3}).\n",
        "\t\\end{align*}\n",
        "\n",
        "\n",
        "La implementación se puede hacer en dos pasos: primero implementar una funcion que se llama orden4 que calcule los valores de $k_1,k_2,k_3, k_4$. Finalmente implementar la funcio RK4 que llame a la función orden4."
      ],
      "metadata": {
        "id": "6nf1MJN8w2kV"
      }
    },
    {
      "cell_type": "code",
      "source": [
        "def RK4(f, t0, T, x0, n):  \n",
        "\n",
        "  t = np.linspace(t0, T, n+1) #Esto tiene todos los tiempos separados por el paso h, recordar h = (T-t0)/n\n",
        "\n",
        "  x = np.zeros(n+1)   #Una lista de 0s que vamos a ir rellenando con las solucion\n",
        "  x[0]=x0              #El primer valor es la condicion inicial\n",
        "  h = (T-t0)/n        #paso\n",
        "\n",
        "  # la iteracion:\n",
        "  \n",
        "  for i in range(1, n+1): \n",
        "    # primero calculamos los k1,k2,k3,k4\n",
        "    k1 = f(t[i-1], x[i-1])\n",
        "    k2 = f(t[i-1] + 0.5*h, x[i-1] + 0.5*h * k1)\n",
        "    k3 = f(t[i-1] + 0.5* h, x[i-1] + 0.5*h*k2)\n",
        "    k4 = f(t[i-1] +h, x[i-1] +h*k3)\n",
        "    \n",
        "    x[i] = x[i-1] + h*(k1 + 2*k2 +2*k3 +k4)/6\n",
        "\n",
        "\n",
        "  return(t,x) #Esta funcion nos devuelve la grilla para el grafico (t) y el valor en cada punto (x)."
      ],
      "metadata": {
        "id": "BvbrjnMawuhO"
      },
      "execution_count": 22,
      "outputs": []
    },
    {
      "cell_type": "markdown",
      "source": [
        "### Ejemplos\n",
        "\n",
        "mirar los notebooks de clase. Importante calcular numericamente los errores y graficar \n",
        "\n",
        "1. https://github.com/binaria010/Mate2B/blob/928b0b572e980df8a5c4b035894dbdc6d0bf684c/Clase9M%C3%A9todo_de_Euler.ipynb\n",
        "\n",
        "2. https://github.com/binaria010/Mate2B/blob/928b0b572e980df8a5c4b035894dbdc6d0bf684c/Clase10Completa.ipynb\n",
        "\n",
        "3. Para ejemplos de sistemas y graficos de diagrama de fases mirar: https://github.com/binaria010/Mate2B/blob/928b0b572e980df8a5c4b035894dbdc6d0bf684c/Clase11Completa.ipynb\n",
        "\n"
      ],
      "metadata": {
        "id": "UD1kOGGZx2oS"
      }
    },
    {
      "cell_type": "markdown",
      "source": [
        "### solve_ivp\n",
        "\n",
        "Podemos resolver numericamente ecuaciones o sistemas usando la funcion <font color = \"magenta\">solve_ivp</font> de la libreria <font color = \"magenta\">scipy.integrate</font>\n",
        "\n",
        "from scipy.integrate import solve_ivp\n",
        "\n",
        "declarar el parametro **dense_output** como **True** "
      ],
      "metadata": {
        "id": "FDZpeMRAyvqK"
      }
    },
    {
      "cell_type": "markdown",
      "source": [
        "## Práctica 4: Procesos de Markov\n",
        "\n",
        "Recordemos un par de definiciones:\n",
        "\n",
        "Una matriz $P\\in\\mathbb{R}^{n\\times n}$ se dice de Markov si cumple las siguientes propiedades:\n",
        "\n",
        "1.   Cada entrada es no negativa\n",
        "2.   para cada columna: la suma de sus entradas es uno \n",
        "\n",
        "es decir, si \n",
        "$$\n",
        "P = \\begin{bmatrix}\n",
        "p_{11} & p_{12} & \\cdots & p_{1n}\\\\\n",
        "p_{21} & p_{22} & \\cdots & p_{2n}\\\\\n",
        "\\vdots & \\vdots & \\ddots & \\vdots\\\\\n",
        "p_{n1} & p_{n2} & \\cdots & p_{nn}\n",
        "\\end{bmatrix}\n",
        "$$\n",
        "entonces \n",
        "* $p_{ij} \\geq 0$\n",
        "* Para cada $j$ (que indexa la columna) $\\displaystyle\\sum_{i=1}^{n}p_{ij} = 1$\n",
        "\n",
        "\n",
        "Si el proceso de Markov tiene estados (representados por nodos) $s_1,s_2\\dots,s_n$ entonces la entrada $ij$ de la matriz $P$, $p_{ij}$ se interpreta como la probabilidad de transición (probabilidad de pasar) del estado $j$ al estado $i$.\n",
        "\n",
        "\n",
        "<br>\n",
        "\n",
        "<br>\n",
        "\n",
        "<br>\n",
        "\n",
        "## Conjunto de estados o distribuciones:\n",
        "\n",
        "$$\n",
        "\\mathbb{V}_n = \\{v = (_1,\\dots,v_n) \\in \\mathbb{R}^n ~:~ v_i \\geq 0 \\text{ y } \\sum_{i=1}^n v_i =1 \\}\n",
        "$$\n",
        "\n",
        "Las componentes de un vector $v$ en $\\mathbb{V}_n$ se interpretan como proporciones o probabilidades, por ejemplo si $v_1 = 1/3$, esto quiere decir que hay probabilidad 1/4 (o 25%) de estar en el estado $s_1 =1$.\n",
        "\n",
        "<font color = \"red\">Atención</font>: <div>Estamos abusando de la palabra estado, la usamos tanto para los $s_i$ como para los elementos de $\\mathbb{V}_n$. Este abuso no debería causar confusión.</div>\n",
        "\n",
        "<br>\n",
        "\n",
        "<br>\n",
        "\n",
        "## Estado o distribución a tiempo $t$\n",
        "\n",
        "Dada la matriz de transición $P$ de un proceso de Markov y una distribución inicial $v(0)$, la distribución a tiempo $t$ se calcula:\n",
        "\n",
        "$$\n",
        "v(t) = P^tv(0) \\qquad \\text{para todo } t \\in\\mathbb{N}\n",
        "$$ \n",
        "\n",
        "donde $P^t$ denota la potencia $t$-esima de $P$.\n",
        "\n",
        "\n",
        "<br>\n",
        "\n",
        "<br>\n",
        "\n",
        "<br>\n",
        "\n",
        "\n",
        "## Estado o distribución de equilibrio:\n",
        "\n",
        "Un elemento ${\\bf v}^*\\in \\mathbb{V}_n$ se llamaa estado o distribución de equilibrio para el proceso dado por la matriz $P$ si cumple que:\n",
        "$$\n",
        "P{\\bf v}^{*}  = {\\bf v}^{*} \n",
        "$$\n",
        "es decir, la distribución de equilibrio es un autovector de $P$ de autovalor 1. \n",
        "\n",
        "<font color = \"red\"> Atención </font>: <div style=\"color:blue;\">Como ${\\bf v}^* \\in\\mathbb{V}_n$ entonces sus componentes son no negativas y sumar todas 1.</div>\n",
        "\n",
        "</p>\n",
        "\n",
        "<p>Más aún, para una matriz de Markov, los únicos autovectores que pertenecen a $\\mathbb{V}_n$ son los de equilibrio (los asociados a autovalor 1}. \n",
        "</p>\n",
        "\n",
        "<br>\n",
        "\n",
        "<br>\n",
        "\n",
        "## Estado o Distribución límite:\n",
        "\n",
        "Dado un proceso de Markov con matriz de transición $P$ y estado o distribución inicial $v(0)$, llamamos distribución limite, en caso de que exista, al limite\n",
        "$$\n",
        "\\lim_{t\\to\\infty} v(t) = \\lim_{t\\to\\infty}P^t v(0) \n",
        "$$\n",
        "\n",
        "y denotamos $v^{\\infty}$ al estado límite del estado (o distribucion) inicial $v(0)$.  \n",
        "\n",
        "Notar que sin ninguna hipótesis adicional sobre $P$, la existencia depende de la distribución inicial $v(0)$.\n",
        "\n",
        "<p>\n",
        "<font color = \"red\"> Atención:</font> Si $v^{\\infty}$ es distribución límite de $v(0)$ entonces es una distribución de equilibrio, es decir $Pv^{\\infty} = v^{\\infty}$\n",
        "</p>\n",
        "\n",
        "<p>\n",
        "<font color = \"green\"> Propiedad </font>: Si el único autovalor de $P$ de módulo 1 es $\\lambda =1$ entonces para cualquier distribución inicial $v(0)$ hay distribución límite. Es decir, no importa en que distribución arranque el proceso, siempre se va a llegar a una distribución límite.\n",
        "</p>\n",
        "\n",
        "\n",
        "<br>\n",
        "<br>\n",
        "<br>\n",
        "\n",
        "## Existencia de la matriz $P^{\\infty}$:\n",
        "\n",
        "\n",
        "<font color = \"green\">Propiedad: </font> \n",
        "\n",
        "* Si $\\lambda =1$ es el unico autovalor de modulo 1 (es decir los otros autovalores tienen modulo $<1$ entonces existe $P^{\\infty}$.\n",
        "\n",
        "* Si $\\lambda=1$ es autovalor simple y es el unico de modulo 1 entonces $P^{\\infty}$ tiene por columnas a la distribucion de equilibrio (es decir, al autovector asociado al autovalor 1)\n",
        "\n",
        "* Si hay otro autovalor de modulo 1 y distinto del numero  1 entonces no existe $P^{\\infty}$ \n",
        "\n",
        "\n",
        "\n",
        "\n",
        "\n",
        "\n"
      ],
      "metadata": {
        "id": "5boEJYOE6KoQ"
      }
    },
    {
      "cell_type": "markdown",
      "source": [
        "#### Ejemplo"
      ],
      "metadata": {
        "id": "PbuOAwgqPuD8"
      }
    },
    {
      "cell_type": "code",
      "source": [
        "P = np.array([[1/4, 1/2, 1/2, 1/2], [1/4, 1/2, 0, 0], [1/4, 0, 1/2, 0], [1/4, 0, 0, 1/2]])\n",
        "\n",
        "\n",
        "# b) Calculamos los autovalores y autovectores de P con la funcion eig de numpy.linalg\n",
        "eigs= np.linalg.eig(P)\n",
        "\n",
        "\n",
        "# eigs nos devuelve una lista de dos cosas: la primera es la lista de autovalores y la segunda es la listaa de autovectores\n",
        "\n",
        "print(\"los autovalores de P son \", eigs[0])\n",
        "\n",
        "print(\"\\n\")\n",
        "\n",
        "print(\"los autovectores de P son: \\n \", eigs[1])\n"
      ],
      "metadata": {
        "colab": {
          "base_uri": "https://localhost:8080/"
        },
        "id": "fgp85X7s5oFT",
        "outputId": "f10dc012-1474-4eb5-8c7a-fb1b103422eb"
      },
      "execution_count": 27,
      "outputs": [
        {
          "output_type": "stream",
          "name": "stdout",
          "text": [
            "los autovalores de P son  [-0.25  1.    0.5   0.5 ]\n",
            "\n",
            "\n",
            "los autovectores de P son: \n",
            "  [[-8.66025404e-01  7.55928946e-01  0.00000000e+00 -1.27207555e-16]\n",
            " [ 2.88675135e-01  3.77964473e-01 -5.77350269e-01 -6.44503387e-01]\n",
            " [ 2.88675135e-01  3.77964473e-01  7.88675135e-01 -1.11869878e-01]\n",
            " [ 2.88675135e-01  3.77964473e-01 -2.11324865e-01  7.56373264e-01]]\n"
          ]
        }
      ]
    },
    {
      "cell_type": "code",
      "source": [
        "# La segunda columna es la unica distribucion de equilibrio, es la asociada al autovalor 1:\n",
        "\n",
        "v_equi = eigs[1][:, 1]  # accedo a la segunda columna de la matriz de autovectores eigs[1]\n",
        "\n",
        "v_equi = v_equi/np.sum(v_equi)   #normalizo el vector para que sus componentes sumen 1\n",
        "\n",
        "print(\"la distribucion de equilibrio es: \", v_equi)"
      ],
      "metadata": {
        "colab": {
          "base_uri": "https://localhost:8080/"
        },
        "id": "Mh-EOhCSQf52",
        "outputId": "85d2d056-bb0a-4b5d-f49e-fc0e92837d76"
      },
      "execution_count": 32,
      "outputs": [
        {
          "output_type": "stream",
          "name": "stdout",
          "text": [
            "la distribucion de equilibrio es:  [0.4 0.2 0.2 0.2]\n"
          ]
        }
      ]
    },
    {
      "cell_type": "markdown",
      "source": [
        "Si inicialmente empezamos con la distribucion\n",
        "\n",
        "$$\n",
        "v(0) = np.array([0.25,0.5, 0.15, 0.1])\n",
        "$$\n",
        "\n",
        "despues de $t=5$ periodos cual es la distribucion?"
      ],
      "metadata": {
        "id": "tBAYy2mgRd5c"
      }
    },
    {
      "cell_type": "code",
      "source": [
        "v0 = np.array([0.25,0.5, 0.15, 0.1])\n",
        "\n",
        "v = v0\n",
        "\n",
        "for t in range(1,6):\n",
        "\n",
        "  v_next = np.dot(P, v)    #calulo el siguiente v_next = Pv\n",
        "  print(\"la distribucion a tiempo \" + str(t) + \" es: \", v_next)\n",
        "  v = v_next          # ahora v_next pasa a ser v, el anterior.\n"
      ],
      "metadata": {
        "colab": {
          "base_uri": "https://localhost:8080/"
        },
        "id": "x4MEI5XsRdV8",
        "outputId": "b26b9d92-fd7f-4be6-f0f8-fceeb117f383"
      },
      "execution_count": 34,
      "outputs": [
        {
          "output_type": "stream",
          "name": "stdout",
          "text": [
            "la distribucion a tiempo 1 es:  [[0.4375]\n",
            " [0.3125]\n",
            " [0.1375]\n",
            " [0.1125]]\n",
            "la distribucion a tiempo 2 es:  [[0.390625]\n",
            " [0.265625]\n",
            " [0.178125]\n",
            " [0.165625]]\n",
            "la distribucion a tiempo 3 es:  [[0.40234375]\n",
            " [0.23046875]\n",
            " [0.18671875]\n",
            " [0.18046875]]\n",
            "la distribucion a tiempo 4 es:  [[0.39941406]\n",
            " [0.21582031]\n",
            " [0.19394531]\n",
            " [0.19082031]]\n",
            "la distribucion a tiempo 5 es:  [[0.40014648]\n",
            " [0.20776367]\n",
            " [0.19682617]\n",
            " [0.19526367]]\n"
          ]
        }
      ]
    },
    {
      "cell_type": "markdown",
      "source": [
        "Se observa que despues de 5 periodos se empieza a parecer a la distribucion de equilibrio.\n",
        "\n",
        "Calculemos la distribucion limite para esta distribucion inicial. \n",
        "Para esto descomponemos $v(0)$ como combinacion lineal de los autovectores de P\n"
      ],
      "metadata": {
        "id": "09zSer3vS1CS"
      }
    },
    {
      "cell_type": "code",
      "source": [
        "V1 = (eigs[1][:,0]).reshape((4,1))\n",
        "V2 = v_equi.reshape((4,1))     # este es el autovector del 1, lo convierto en vector columna\n",
        "V3 = eigs[1][:,2].reshape((4,1))\n",
        "V4 = eigs[1][:,3].reshape((4,1))\n",
        "\n",
        "V = np.hstack((V1, V2, V3, V4))  # definimos la matriz de autovectores\n",
        "\n",
        "a, b, c, d = np.linalg.solve(V, v0)\n",
        "\n",
        "print(\"v0 = aV1 + bV2 + cV3 + dV4 = \\n\", a*V1 + b*V2 + c*V3 +d*V4)"
      ],
      "metadata": {
        "colab": {
          "base_uri": "https://localhost:8080/"
        },
        "id": "mW29a88gR5oW",
        "outputId": "1ded5f43-830b-4496-c949-c497b8180a24"
      },
      "execution_count": 42,
      "outputs": [
        {
          "output_type": "stream",
          "name": "stdout",
          "text": [
            "v0 = aV1 + bV2 + cV3 + dV4 = \n",
            " [[0.25]\n",
            " [0.5 ]\n",
            " [0.15]\n",
            " [0.1 ]]\n"
          ]
        }
      ]
    },
    {
      "cell_type": "markdown",
      "source": [
        "La distribucion limite es: $v^{\\infty} = \\lim_{k\\to\\infty} P^kv(0)$"
      ],
      "metadata": {
        "id": "Omu0hgaKVSkj"
      }
    },
    {
      "cell_type": "code",
      "source": [
        "v_inf = b*V2 \n",
        "\n",
        "print(\"distrigucion limite asosciad a v0 es: \\n\", v_inf)"
      ],
      "metadata": {
        "colab": {
          "base_uri": "https://localhost:8080/"
        },
        "id": "FH7OMaeTTwUP",
        "outputId": "3f6864db-c7b3-4353-a417-ace86cc83805"
      },
      "execution_count": 44,
      "outputs": [
        {
          "output_type": "stream",
          "name": "stdout",
          "text": [
            "distrigucion limite asosciad a v0 es: \n",
            " [[0.4]\n",
            " [0.2]\n",
            " [0.2]\n",
            " [0.2]]\n"
          ]
        }
      ]
    },
    {
      "cell_type": "markdown",
      "source": [
        "#### Mas ejemplos\n",
        "\n",
        "\n",
        "mirar el notebook de la clase:\n",
        "\n",
        "https://github.com/binaria010/Mate2B/blob/f3a683a494ba6a3e2942c6b341b1da43332944e0/Clase12.ipynb"
      ],
      "metadata": {
        "id": "SSo06ntLV1Nj"
      }
    }
  ]
}