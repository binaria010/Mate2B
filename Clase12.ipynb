{
  "nbformat": 4,
  "nbformat_minor": 0,
  "metadata": {
    "colab": {
      "provenance": [],
      "authorship_tag": "ABX9TyP9IUigk//191ceKRrGulfR",
      "include_colab_link": true
    },
    "kernelspec": {
      "name": "python3",
      "display_name": "Python 3"
    },
    "language_info": {
      "name": "python"
    }
  },
  "cells": [
    {
      "cell_type": "markdown",
      "metadata": {
        "id": "view-in-github",
        "colab_type": "text"
      },
      "source": [
        "<a href=\"https://colab.research.google.com/github/binaria010/Mate2B/blob/main/Clase12.ipynb\" target=\"_parent\"><img src=\"https://colab.research.google.com/assets/colab-badge.svg\" alt=\"Open In Colab\"/></a>"
      ]
    },
    {
      "cell_type": "markdown",
      "source": [
        "# Procesos de Markov\n",
        "\n",
        "Recordemos un par de definiciones:\n",
        "\n",
        "Una matriz $P\\in\\mathbb{R}^{n\\times n}$ se dice de Markov si cumple las siguientes propiedades:\n",
        "\n",
        "1.   Cada entrada es no negativa\n",
        "2.   para cada columna: la suma de sus entradas es uno \n",
        "\n",
        "es decir, si \n",
        "$$\n",
        "P = \\begin{bmatrix}\n",
        "p_{11} & p_{12} & \\cdots & p_{1n}\\\\\n",
        "p_{21} & p_{22} & \\cdots & p_{2n}\\\\\n",
        "\\vdots & \\vdots & \\ddots & \\vdots\\\\\n",
        "p_{n1} & p_{n2} & \\cdots & p_{nn}\n",
        "\\end{bmatrix}\n",
        "$$\n",
        "entonces \n",
        "* $p_{ij} \\geq 0$\n",
        "* Para cada $j$ (que indexa la columna) $\\displaystyle\\sum_{i=1}^{n}p_{ij} = 1$\n",
        "\n",
        "\n",
        "Si el proceso de Markov tiene estados $s_1,s_2\\dots,s_n$ entonces la entrada $ij$ de la matriz $P$, $p_{ij}$ se interpreta como la probabilidad de transición (probabilidad de pasar) del estado $j$ al estado $i$\n",
        "\n",
        "Por ejemplo: Si tenemos el proceso de Markov dado por el siguiente diagrama:\n",
        "\n"
      ],
      "metadata": {
        "id": "zyS7AInaNtpP"
      }
    },
    {
      "cell_type": "markdown",
      "source": [
        "![chainExample.png](data:image/png;base64,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)"
      ],
      "metadata": {
        "id": "QADMStDXjEv-"
      }
    },
    {
      "cell_type": "markdown",
      "source": [
        "En este caso hay 4 estados: $\\{1,2,3,4\\}$ y la matriz de transición $P$ es de 4x4. Asi:\n",
        "$p_{12}$ es la probabilidad de pasar del estado 2 al 1 que es: 1/3\n",
        "\n",
        "$p_{21} = 0$ y así sucesivamente:\n",
        "\n",
        "entonces $P = \\begin{bmatrix}\n",
        "1 & 1/3 & 0 & 0\\\\\n",
        "0 & 0  &  2/3 & 0\\\\\n",
        "0 & 2/3  & 0 & 0 \\\\\n",
        "0 & 0   & 1/3  & 1\n",
        "\\end{bmatrix}$\n",
        "\n",
        "<br>\n",
        "\n",
        "<br>\n",
        "\n",
        "<br>\n",
        "\n",
        "## Conjunto de estados o distribuciones:\n",
        "\n",
        "$$\n",
        "\\mathbb{V}_n = \\{v = (_1,\\dots,v_n) \\in \\mathbb{R}^n ~:~ v_i \\geq 0 \\text{ y } \\sum_{i=1}^n v_i =1 \\}\n",
        "$$\n",
        "\n",
        "Las componentes de un vector $v$ en $\\mathbb{V}_n$ se interpretan como proporciones o probabilidades, por ejemplo si $v_1 = 1/3$, esto quiere decir que hay probabilidad 1/4 (o 25%) de estar en el estado $s_1 =1$.\n",
        "\n",
        "<font color = \"red\">Atención</font>: <div>Estamos abusando de la palabra estado, la usamos tanto para los $s_i$ como para los elementos de $\\mathbb{V}_n$. Este abuso no debería causar confusión.</div>\n",
        "\n",
        "<br>\n",
        "\n",
        "<br>\n",
        "\n",
        "## Estado o distribución a tiempo $t$\n",
        "\n",
        "Dada la matriz de transición $P$ de un proceso de Markov y una distribución inicial $v(0)$, la distribución a tiempo $t$ se calcula:\n",
        "\n",
        "$$\n",
        "v(t) = P^tv(0) \\qquad \\text{para todo } t \\in\\mathbb{N}\n",
        "$$ \n",
        "\n",
        "donde $P^t$ denota la potencia $t$-esima de $P$.\n",
        "\n",
        "\n",
        "<br>\n",
        "\n",
        "<br>\n",
        "\n",
        "<br>\n",
        "\n",
        "\n",
        "## Estado o distribución de equilibrio:\n",
        "\n",
        "Un elemento ${\\bf v}^*\\in \\mathbb{V}_n$ se llamaa estado o distribución de equilibrio para el proceso dado por la matriz $P$ si cumple que:\n",
        "$$\n",
        "P{\\bf v}^{*}  = {\\bf v}^{*} \n",
        "$$\n",
        "es decir, la distribución de equilibrio es un autovector de $P$ de autovalor 1. \n",
        "\n",
        "<font color = \"red\"> Atención </font>: <div style=\"color:blue;\">Como ${\\bf v}^* \\in\\mathbb{V}_n$ entonces sus componentes son no negativas y sumar todas 1.</div>\n",
        "\n",
        "</p>\n",
        "\n",
        "<p>Más aún, para una matriz de Markov, los únicos autovectores que pertenecen a $\\mathbb{V}_n$ son los de equilibrio (los asociados a autovalor 1}. \n",
        "\n",
        "\n",
        "</p>\n",
        "\n",
        "<br>\n",
        "\n",
        "<br>\n",
        "\n",
        "## Estado o Distribución límite:\n",
        "\n",
        "Dado un proceso de Markov con matriz de transición $P$ y estado o distribución inicial $v(0)$, llamamos distribución limite, en caso de que exista, al limite\n",
        "$$\n",
        "\\lim_{t\\to\\infty} v(t) = \\lim_{t\\to\\infty}P^t v(0) \n",
        "$$\n",
        "\n",
        "y denotamos $v^{\\infty}$ al estado límite del estado (o distribucion) inicial $v(0)$.  \n",
        "\n",
        "Notar que sin ninguna hipótesis adicional sobre $P$, la existencia depende de la distribución inicial $v(0)$.\n",
        "\n",
        "<p>\n",
        "<font color = \"red\"> Atención:</font> Si $v^{\\infty}$ es distribución límite de $v(0)$ entonces es una distribución de equilibrio, es decir $Pv^{\\infty} = v^{\\infty}$\n",
        "</p>\n",
        "\n",
        "<p>\n",
        "<font color = \"green\"> Propiedad </font>: Si el único autovalor de $P$ de módulo 1 es $\\lambda =1$ entonces para cualquier distribución inicial $v(0)$ hay distribución límite. Es decir, no importa en que distribución arranque el proceso, siempre se va a llegar a una distribución límite.\n",
        "</p>\n",
        "\n",
        "\n",
        "<br>\n",
        "<br>\n",
        "<br>\n",
        "\n",
        "## Existencia de la matriz $P^{\\infty}$:\n",
        "\n",
        "\n",
        "<font color = \"green\">Propiedad: </font> \n",
        "\n",
        "* Si $\\lambda =1$ es el unico autovalor de modulo 1 (es decir los otros autovalores tienen modulo $<1$ entonces existe $P^{\\infty}$.\n",
        "\n",
        "* Si $\\lambda=1$ es autovalor simple y es el unico de modulo 1 entonces $P^{\\infty}$ tiene por columnas a la distribucion de equilibrio (es decir, al autovector asociado al autovalor 1)\n",
        "\n",
        "* Si hay otro autovalor de modulo 1 y distinto del numero  1 entonces no existe $P^{\\infty}$ \n",
        "\n",
        "\n",
        "\n"
      ],
      "metadata": {
        "id": "d5JxDeRfh26t"
      }
    },
    {
      "cell_type": "markdown",
      "source": [
        "<br>\n",
        "<br>\n",
        "<br>"
      ],
      "metadata": {
        "id": "-1SuGNZBYnAe"
      }
    },
    {
      "cell_type": "markdown",
      "source": [
        "## Ejemplos:\n",
        "\n",
        "\n",
        "Ejercicio 10 y 8 "
      ],
      "metadata": {
        "id": "3CEy4MqlYndg"
      }
    },
    {
      "cell_type": "code",
      "source": [
        "import numpy as np"
      ],
      "metadata": {
        "id": "5OdRZjOEFw4R"
      },
      "execution_count": null,
      "outputs": []
    },
    {
      "cell_type": "markdown",
      "source": [
        "## Ejemplo 1:\n",
        "\n",
        "consideremos el proceso dado por el diagrama\n",
        "![chainExample.png](data:image/png;base64,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)"
      ],
      "metadata": {
        "id": "Im77nKs3uRg6"
      }
    },
    {
      "cell_type": "markdown",
      "source": [
        "Y supongamos que el proceso modela un problema de migración entre los sectores 1,2,3,4. Ya habiamos calculado la matriz $P$ del proceso. \n",
        "\n",
        "a) Dar la matriz P del proceso.\n",
        "\n",
        "b) Determinar si hay mas de una distribucion (o estado) de equilibrio.\n",
        "\n",
        "c) Analizar la existencia de distribución límite para distintas distribuciones iniciales\n",
        "\n",
        "d) Determinar si existe la matriz límite $P^{\\infty}$."
      ],
      "metadata": {
        "id": "0KSSGLjAueMl"
      }
    },
    {
      "cell_type": "code",
      "source": [
        "# a) ya habiamos determinado arriba de todo a P\n",
        "\n",
        "P = np.array([[1, 1/3,0,0],[0,0,2/3,0],[0, 2/3,0,0],[0,0,1/3,1]])\n",
        "\n",
        "\n",
        "# b) Calculamos los autovalores y autovectores de P con la funcion eig de numpy.linalg\n",
        "eigs= np.linalg.eig(P)\n",
        "\n",
        "\n",
        "# eigs nos devuelve una lista de dos cosas: la primera es la lista de autovalores y la segunda es la listaa de autovectores\n",
        "\n",
        "print(\"los auto valores de P son \", eigs[0])"
      ],
      "metadata": {
        "id": "hG6Ou3RDfwjz",
        "colab": {
          "base_uri": "https://localhost:8080/"
        },
        "outputId": "a8926a9e-ee1d-458f-fbcd-a5a882a14c38"
      },
      "execution_count": null,
      "outputs": [
        {
          "output_type": "stream",
          "name": "stdout",
          "text": [
            "los auto valores de P son  [ 1.          1.          0.66666667 -0.66666667]\n"
          ]
        }
      ]
    },
    {
      "cell_type": "code",
      "source": [
        "eigs"
      ],
      "metadata": {
        "colab": {
          "base_uri": "https://localhost:8080/"
        },
        "id": "-MsrM75nhErZ",
        "outputId": "0076fd2e-0581-4481-a120-f9c2a8571d5c"
      },
      "execution_count": null,
      "outputs": [
        {
          "output_type": "execute_result",
          "data": {
            "text/plain": [
              "(array([ 1.        ,  1.        ,  0.66666667, -0.66666667]),\n",
              " array([[ 1.        ,  0.        , -0.5       , -0.13867505],\n",
              "        [ 0.        ,  0.        ,  0.5       ,  0.69337525],\n",
              "        [ 0.        ,  0.        ,  0.5       , -0.69337525],\n",
              "        [ 0.        ,  1.        , -0.5       ,  0.13867505]]))"
            ]
          },
          "metadata": {},
          "execution_count": 16
        }
      ]
    },
    {
      "cell_type": "code",
      "source": [
        "V1 = eigs[1][:,0]\n",
        "V2 = eigs[1][:,1]\n",
        "V3 = eigs[1][:,2]\n",
        "V4 = eigs[1][:,3 ]\n",
        "\n",
        "\n",
        "print(\"los autovectores de P son: \\n \", V1, \"\\n\", V2, \"\\n\", V3,\"\\n\", V4)\n"
      ],
      "metadata": {
        "id": "y5n-G3NHTbko",
        "colab": {
          "base_uri": "https://localhost:8080/"
        },
        "outputId": "e1dbbc20-e456-4db8-8508-43e1910de058"
      },
      "execution_count": null,
      "outputs": [
        {
          "output_type": "stream",
          "name": "stdout",
          "text": [
            "los autovectores de P son: \n",
            "  [1. 0. 0. 0.] \n",
            " [0. 0. 0. 1.] \n",
            " [-0.5  0.5  0.5 -0.5] \n",
            " [-0.13867505  0.69337525 -0.69337525  0.13867505]\n"
          ]
        }
      ]
    },
    {
      "cell_type": "markdown",
      "source": [
        "Recordar que el o los autovectores de equilibrio deben ser distribuciones pues sus componentes las pensamos como probabilidades o proporciones. Asi, si no lo fueran los normalizamos para que la suma de sus componentes sea 1. "
      ],
      "metadata": {
        "id": "c5J7AiZlwB0k"
      }
    },
    {
      "cell_type": "code",
      "source": [
        "type(V1)"
      ],
      "metadata": {
        "id": "coAAYep0U_vh",
        "colab": {
          "base_uri": "https://localhost:8080/"
        },
        "outputId": "eccbde9d-1689-4fd1-fd74-0f4a360be65c"
      },
      "execution_count": null,
      "outputs": [
        {
          "output_type": "execute_result",
          "data": {
            "text/plain": [
              "numpy.ndarray"
            ]
          },
          "metadata": {},
          "execution_count": 18
        }
      ]
    },
    {
      "cell_type": "markdown",
      "source": [
        "en este caso hay dos distribuciones de equilibrio distintas pues la dimension geometrica del autovalor $\\lambda=1$ es 2."
      ],
      "metadata": {
        "id": "Smnaa1eNVE9A"
      }
    },
    {
      "cell_type": "markdown",
      "source": [
        "c) Para distintas distribuciones iniciales calculemos la distribucion limite:\n",
        "\n",
        "* Supongamos que inicialemente la distribucion entre los distintos sectores es: 100 habitantes en sector 1, y 0 en los demas sectores:\n",
        "\n",
        "es decir $v_0 = (1,0,0,0)^T$. En este caso la distribucion limite $v^{\\infty} = v_0$, pues como $v_0$ es justo un autovector de P\n",
        "\n",
        "$$\n",
        "\\lim_{t\\to \\infty}P^tv_0 = v_0\n",
        "$$\n",
        "\n",
        "<font color = \"green\">Interpretacion</font>: si inicialmente estan todos en sector 1, como la probabilidad de saltar del sector 1 a cualquier otro sector es 0, la poblacion se queda ahi para siempre.\n",
        "\n",
        "* Similarmente si $v_0 = (0,0,0,1)^T$, es decir inicialmente estan todos los 100 habitantes en sector 4: $v^{\\infty} = (0,0,0,1)^T$\n",
        "\n",
        "* Supongamos ahora que inicialmente la distribucion de la poblacion es: \n",
        "  \n",
        "  sector 1: 30 habs\n",
        "\n",
        "  sector 2: 40 habs\n",
        "  \n",
        "  sector 3: 0 habs\n",
        "  \n",
        "  sector 4: 30 habs\n",
        "\n",
        "en este caso $v0 = (30/100, 40/100, 0, 30/100) = (3/10, 4/10, 0, 3/10)^T$\n",
        "\n",
        "\n"
      ],
      "metadata": {
        "id": "oerml8ZdwkuX"
      }
    },
    {
      "cell_type": "code",
      "source": [
        "# convertimos lso v1,v2,v3,v4 a vectores columna con reshape:\n",
        "V1 = V1.reshape((4,1))\n",
        "V2 = V2.reshape((4,1))\n",
        "V3 = V3.reshape((4,1))\n",
        "V4 = V4.reshape((4,1))\n",
        "\n",
        "\n",
        "# la matriz de autovectores V:\n",
        "\n",
        "\n",
        "V = np.hstack((V1, V2, V3, V4))\n",
        "\n",
        "v0=(np.array([3/10,4/10,0,3/10])).reshape((4,1))\n",
        "\n",
        "print(V)"
      ],
      "metadata": {
        "colab": {
          "base_uri": "https://localhost:8080/"
        },
        "id": "pLan5A7ySvsE",
        "outputId": "25ade3e6-50d7-414a-f6d4-3318adb70c47"
      },
      "execution_count": null,
      "outputs": [
        {
          "output_type": "stream",
          "name": "stdout",
          "text": [
            "[[ 1.          0.         -0.5        -0.13867505]\n",
            " [ 0.          0.          0.5         0.69337525]\n",
            " [ 0.          0.          0.5        -0.69337525]\n",
            " [ 0.          1.         -0.5         0.13867505]]\n"
          ]
        }
      ]
    },
    {
      "cell_type": "markdown",
      "source": [
        "Escribimos $v0 = (3/10, 4/10, 0, 3/10)$ como combinacion de lineal de los autovectores $V_i$\n",
        "\n",
        "$$\n",
        "v0 = aV_1 +bV_2 + cV_3 +dV_4\n",
        "$$\n",
        "\n",
        "luego \n",
        "$$P^tv_0 = P^t(aV_1 +bV_2 + cV_3 +dV_4) = a\\lambda_1^tV_1 + b\\lambda_2^tV_2 +c\\lambda_3^tV_3 + d\\lambda_4^tV_4$$\n",
        "\n",
        "\n",
        "entonces como $\\lambda_3^t=(2/3)^t, \\lambda_4^t=(-2/3)^t$ ambos tienden a 0 cuando $t\\to\\infty$:\n",
        "\n",
        "$$\n",
        "v^{\\infty} = \\lim_{t\\to\\infty}P^tv_0 = aV_1 + bV_2\n",
        "$$"
      ],
      "metadata": {
        "id": "9-MHB3GGzKbU"
      }
    },
    {
      "cell_type": "code",
      "source": [
        "constantes= np.linalg.solve(V,v0)\n",
        "\n",
        "print(\"las constantes son: \\n a = \", constantes[0], \"\\n b= \", constantes[1], \"\\n c = \", constantes[2], \"\\n d = \", constantes[3])"
      ],
      "metadata": {
        "id": "WqNBXpeSUbnB",
        "colab": {
          "base_uri": "https://localhost:8080/"
        },
        "outputId": "880c823b-d84b-4103-abcd-b270ea3831df"
      },
      "execution_count": null,
      "outputs": [
        {
          "output_type": "stream",
          "name": "stdout",
          "text": [
            "las constantes son: \n",
            " a =  [0.54] \n",
            " b=  [0.46] \n",
            " c =  [0.4] \n",
            " d =  [0.2884441]\n"
          ]
        }
      ]
    },
    {
      "cell_type": "markdown",
      "source": [
        "Entonces en este caso la distribucion limite queda:\n"
      ],
      "metadata": {
        "id": "xJ1_AmxM0x4z"
      }
    },
    {
      "cell_type": "code",
      "source": [
        "vinf = constantes[0]*V1 + constantes[1]*V2\n",
        "\n",
        "print(\"Para la distribucion inicial : \\n \",v0, \"\\n la distribucion limite es: \\n\", vinf)"
      ],
      "metadata": {
        "colab": {
          "base_uri": "https://localhost:8080/"
        },
        "id": "_R9-ZoGV03vq",
        "outputId": "3404f2f1-a179-4161-ce9d-556f7d191e08"
      },
      "execution_count": null,
      "outputs": [
        {
          "output_type": "stream",
          "name": "stdout",
          "text": [
            "Para la distribucion inicial : \n",
            "  [[0.3]\n",
            " [0.4]\n",
            " [0. ]\n",
            " [0.3]] \n",
            " la distribucion limite es: \n",
            " [[0.54]\n",
            " [0.  ]\n",
            " [0.  ]\n",
            " [0.46]]\n"
          ]
        }
      ]
    },
    {
      "cell_type": "code",
      "source": [
        "vold = v0\n",
        "for t in range(10, 1000):\n",
        "  vnew = np.dot(P, vold)\n",
        "  vold = vnew\n",
        "\n",
        "print(vnew)"
      ],
      "metadata": {
        "colab": {
          "base_uri": "https://localhost:8080/"
        },
        "id": "mQhibtDste40",
        "outputId": "7e47e007-0ec7-46e1-f983-6428352d6efa"
      },
      "execution_count": null,
      "outputs": [
        {
          "output_type": "stream",
          "name": "stdout",
          "text": [
            "[[5.40000000e-001]\n",
            " [1.86944859e-175]\n",
            " [0.00000000e+000]\n",
            " [4.60000000e-001]]\n"
          ]
        }
      ]
    },
    {
      "cell_type": "code",
      "source": [
        "#Numericamente se puede llegar a esta distribucion:\n",
        "vold = v0\n",
        "\n",
        "for n in range(10, 2000, 100):\n",
        "\n",
        "  vnew = np.dot(P, vold)\n",
        "  print(\"para n = \"+str(n),\"\\n\", vnew, \"\\n\")\n",
        "  vold = vnew\n"
      ],
      "metadata": {
        "colab": {
          "base_uri": "https://localhost:8080/"
        },
        "id": "i1ASRhzC1PXY",
        "outputId": "7afea04f-8f51-431c-ae4a-61e30165e4b5"
      },
      "execution_count": null,
      "outputs": [
        {
          "output_type": "stream",
          "name": "stdout",
          "text": [
            "para n = 10 \n",
            " [[0.43333333]\n",
            " [0.        ]\n",
            " [0.26666667]\n",
            " [0.3       ]] \n",
            "\n",
            "para n = 110 \n",
            " [[0.43333333]\n",
            " [0.17777778]\n",
            " [0.        ]\n",
            " [0.38888889]] \n",
            "\n",
            "para n = 210 \n",
            " [[0.49259259]\n",
            " [0.        ]\n",
            " [0.11851852]\n",
            " [0.38888889]] \n",
            "\n",
            "para n = 310 \n",
            " [[0.49259259]\n",
            " [0.07901235]\n",
            " [0.        ]\n",
            " [0.42839506]] \n",
            "\n",
            "para n = 410 \n",
            " [[0.51893004]\n",
            " [0.        ]\n",
            " [0.0526749 ]\n",
            " [0.42839506]] \n",
            "\n",
            "para n = 510 \n",
            " [[0.51893004]\n",
            " [0.0351166 ]\n",
            " [0.        ]\n",
            " [0.44595336]] \n",
            "\n",
            "para n = 610 \n",
            " [[0.53063557]\n",
            " [0.        ]\n",
            " [0.02341107]\n",
            " [0.44595336]] \n",
            "\n",
            "para n = 710 \n",
            " [[0.53063557]\n",
            " [0.01560738]\n",
            " [0.        ]\n",
            " [0.45375705]] \n",
            "\n",
            "para n = 810 \n",
            " [[0.53583803]\n",
            " [0.        ]\n",
            " [0.01040492]\n",
            " [0.45375705]] \n",
            "\n",
            "para n = 910 \n",
            " [[0.53583803]\n",
            " [0.00693661]\n",
            " [0.        ]\n",
            " [0.45722536]] \n",
            "\n",
            "para n = 1010 \n",
            " [[0.53815024]\n",
            " [0.        ]\n",
            " [0.00462441]\n",
            " [0.45722536]] \n",
            "\n",
            "para n = 1110 \n",
            " [[0.53815024]\n",
            " [0.00308294]\n",
            " [0.        ]\n",
            " [0.45876682]] \n",
            "\n",
            "para n = 1210 \n",
            " [[0.53917788]\n",
            " [0.        ]\n",
            " [0.00205529]\n",
            " [0.45876682]] \n",
            "\n",
            "para n = 1310 \n",
            " [[0.53917788]\n",
            " [0.00137019]\n",
            " [0.        ]\n",
            " [0.45945192]] \n",
            "\n",
            "para n = 1410 \n",
            " [[0.53963461]\n",
            " [0.        ]\n",
            " [0.00091346]\n",
            " [0.45945192]] \n",
            "\n",
            "para n = 1510 \n",
            " [[0.53963461]\n",
            " [0.00060898]\n",
            " [0.        ]\n",
            " [0.45975641]] \n",
            "\n",
            "para n = 1610 \n",
            " [[5.39837607e-01]\n",
            " [0.00000000e+00]\n",
            " [4.05983691e-04]\n",
            " [4.59756410e-01]] \n",
            "\n",
            "para n = 1710 \n",
            " [[5.39837607e-01]\n",
            " [2.70655794e-04]\n",
            " [0.00000000e+00]\n",
            " [4.59891738e-01]] \n",
            "\n",
            "para n = 1810 \n",
            " [[5.39927825e-01]\n",
            " [0.00000000e+00]\n",
            " [1.80437196e-04]\n",
            " [4.59891738e-01]] \n",
            "\n",
            "para n = 1910 \n",
            " [[5.39927825e-01]\n",
            " [1.20291464e-04]\n",
            " [0.00000000e+00]\n",
            " [4.59951883e-01]] \n",
            "\n"
          ]
        }
      ]
    },
    {
      "cell_type": "markdown",
      "source": [
        "Interpretacion:??"
      ],
      "metadata": {
        "id": "kIBY_jCt1Nna"
      }
    },
    {
      "cell_type": "markdown",
      "source": [
        "d)  Existe la matriz limite $P^{\\infty}$?\n",
        "\n",
        "Sabemos que existe porque el unico autovalor de modulo 1 es el numero 1. Pero veamos como se puede ver su existencia:\n",
        "\n"
      ],
      "metadata": {
        "id": "dJD9rl7XqHBC"
      }
    },
    {
      "cell_type": "code",
      "source": [
        "# con esta dist inicial vamos a encontrar su respectiva distrib limite, y esto nos va a dar la columna 2 de P^{inf}\n",
        "\n",
        "v0 = np.array([0,1,0,0]).reshape((4,1))  \n",
        "\n",
        "a, b,c, d = np.linalg.solve(V, v0)"
      ],
      "metadata": {
        "id": "4p7e1zvQwRSi"
      },
      "execution_count": null,
      "outputs": []
    },
    {
      "cell_type": "code",
      "source": [
        "print(\"a = %.4f\" %a, \" b = %.4f\" %b, \" c = %.4f\" %c, \"d = %.4f\" %d )\n",
        "\n",
        "print(\"La columna 2 de P^{inf} es :\\n \", a*V1 + b*V2)"
      ],
      "metadata": {
        "colab": {
          "base_uri": "https://localhost:8080/"
        },
        "id": "OZFw8DDCwuHu",
        "outputId": "0786380e-33d4-4a94-d0ac-816f3c2483e5"
      },
      "execution_count": null,
      "outputs": [
        {
          "output_type": "stream",
          "name": "stdout",
          "text": [
            "a = 0.6000  b = 0.4000  c = 1.0000 d = 0.7211\n",
            "La columna 2 de P^{inf} es :\n",
            "  [[0.6]\n",
            " [0. ]\n",
            " [0. ]\n",
            " [0.4]]\n"
          ]
        }
      ]
    },
    {
      "cell_type": "code",
      "source": [
        "# con esta dist inicial vamos a encontrar su respectiva distrib limite, y esto nos va a dar la columna 3 de P^{inf}\n",
        "\n",
        "v0 = np.array([0,0,1,0]).reshape((4,1))  \n",
        "\n",
        "a, b,c, d = np.linalg.solve(V, v0)"
      ],
      "metadata": {
        "id": "afBAJuHjypA3"
      },
      "execution_count": null,
      "outputs": []
    },
    {
      "cell_type": "code",
      "source": [
        "print(\"a = %.4f\" %a, \" b = %.4f\" %b, \" c = %.4f\" %c, \"d = %.4f\" %d )\n",
        "print(\"La columna 2 de P^{inf} es :\\n \", a*V1 + b*V2)"
      ],
      "metadata": {
        "colab": {
          "base_uri": "https://localhost:8080/"
        },
        "id": "X7q4BQaQyvBz",
        "outputId": "01c08633-f914-4b0c-fe2c-9941d58df38c"
      },
      "execution_count": null,
      "outputs": [
        {
          "output_type": "stream",
          "name": "stdout",
          "text": [
            "a = 0.4000  b = 0.6000  c = 1.0000 d = -0.7211\n",
            "La columna 2 de P^{inf} es :\n",
            "  [[0.4]\n",
            " [0. ]\n",
            " [0. ]\n",
            " [0.6]]\n"
          ]
        }
      ]
    },
    {
      "cell_type": "code",
      "source": [
        "# chequeamos numericamente:\n",
        "#np.set_printoptions(formatter={'float':           \"{0:0.9f}\".format})\n",
        "for n in range(1, 100):\n",
        "  Pn = np.linalg.matrix_power(P, n)\n",
        "  if n%10 == 0:\n",
        "    print(Pn, \"\\n\")\n",
        "\n"
      ],
      "metadata": {
        "colab": {
          "base_uri": "https://localhost:8080/"
        },
        "id": "BaYLp0vozDdH",
        "outputId": "326dd9fd-217d-486c-e022-b2e2335cda18"
      },
      "execution_count": null,
      "outputs": [
        {
          "output_type": "stream",
          "name": "stdout",
          "text": [
            "[[1.         0.58959508 0.39306339 0.        ]\n",
            " [0.         0.01734153 0.         0.        ]\n",
            " [0.         0.         0.01734153 0.        ]\n",
            " [0.         0.39306339 0.58959508 1.        ]] \n",
            "\n",
            "[[1.00000000e+00 5.99819563e-01 3.99879709e-01 0.00000000e+00]\n",
            " [0.00000000e+00 3.00728660e-04 0.00000000e+00 0.00000000e+00]\n",
            " [0.00000000e+00 0.00000000e+00 3.00728660e-04 0.00000000e+00]\n",
            " [0.00000000e+00 3.99879709e-01 5.99819563e-01 1.00000000e+00]] \n",
            "\n",
            "[[1.00000000e+00 5.99996871e-01 3.99997914e-01 0.00000000e+00]\n",
            " [0.00000000e+00 5.21509505e-06 0.00000000e+00 0.00000000e+00]\n",
            " [0.00000000e+00 0.00000000e+00 5.21509505e-06 0.00000000e+00]\n",
            " [0.00000000e+00 3.99997914e-01 5.99996871e-01 1.00000000e+00]] \n",
            "\n",
            "[[1.00000000e+00 5.99999946e-01 3.99999964e-01 0.00000000e+00]\n",
            " [0.00000000e+00 9.04377268e-08 0.00000000e+00 0.00000000e+00]\n",
            " [0.00000000e+00 0.00000000e+00 9.04377268e-08 0.00000000e+00]\n",
            " [0.00000000e+00 3.99999964e-01 5.99999946e-01 1.00000000e+00]] \n",
            "\n",
            "[[1.00000000e+00 5.99999999e-01 3.99999999e-01 0.00000000e+00]\n",
            " [0.00000000e+00 1.56832855e-09 0.00000000e+00 0.00000000e+00]\n",
            " [0.00000000e+00 0.00000000e+00 1.56832855e-09 0.00000000e+00]\n",
            " [0.00000000e+00 3.99999999e-01 5.99999999e-01 1.00000000e+00]] \n",
            "\n",
            "[[1.00000000e+00 6.00000000e-01 4.00000000e-01 0.00000000e+00]\n",
            " [0.00000000e+00 2.71972164e-11 0.00000000e+00 0.00000000e+00]\n",
            " [0.00000000e+00 0.00000000e+00 2.71972164e-11 0.00000000e+00]\n",
            " [0.00000000e+00 4.00000000e-01 6.00000000e-01 1.00000000e+00]] \n",
            "\n",
            "[[1.00000000e+00 6.00000000e-01 4.00000000e-01 0.00000000e+00]\n",
            " [0.00000000e+00 4.71641342e-13 0.00000000e+00 0.00000000e+00]\n",
            " [0.00000000e+00 0.00000000e+00 4.71641342e-13 0.00000000e+00]\n",
            " [0.00000000e+00 4.00000000e-01 6.00000000e-01 1.00000000e+00]] \n",
            "\n",
            "[[1.00000000e+00 6.00000000e-01 4.00000000e-01 0.00000000e+00]\n",
            " [0.00000000e+00 8.17898244e-15 0.00000000e+00 0.00000000e+00]\n",
            " [0.00000000e+00 0.00000000e+00 8.17898244e-15 0.00000000e+00]\n",
            " [0.00000000e+00 4.00000000e-01 6.00000000e-01 1.00000000e+00]] \n",
            "\n",
            "[[1.00000000e+00 6.00000000e-01 4.00000000e-01 0.00000000e+00]\n",
            " [0.00000000e+00 1.41836069e-16 0.00000000e+00 0.00000000e+00]\n",
            " [0.00000000e+00 0.00000000e+00 1.41836069e-16 0.00000000e+00]\n",
            " [0.00000000e+00 4.00000000e-01 6.00000000e-01 1.00000000e+00]] \n",
            "\n"
          ]
        }
      ]
    },
    {
      "cell_type": "markdown",
      "source": [
        "##Ejemplo 2:\n",
        "\n",
        "La población en estudio es constante y está distribuida en un territorio dividido en 3 \n",
        "sectores. Día a día se observan los desplazamientos: \n",
        "\n",
        " el 100\\% de la población del Sector 1 se desplaza al Sector 2, \n",
        " \n",
        " el 100\\% de la población del Sector 2 se ha desplaza al Sector 1,\n",
        "\n",
        " la población del Sector 3 permanece (sin desplazarse) en su sector. \n",
        " \n",
        "Esta pauta de desplazamiento se mantiene en el tiempo.\n",
        "\n",
        "\n",
        "a) Determinar la matriz de transición ${\\rm P}$ que describe el proceso.\n",
        "\n",
        "b) Decidir si hay dos estados de equilibrio diferentes.\n",
        "\n",
        "c) Determinar si el proceso tiene un estado límite, y en caso afirmativo hallarlo, con una población inicial de:\n",
        "\t\t\n",
        "  * 200 habitantes en el Sector 1, 200 en el Sector 2 y 300 en el Sector 3.\n",
        "  * 100 habitantes en el Sector 1, 200 en el Sector 2 y 300      en el Sector 3.\n",
        "\t\n",
        "d)  Determinar si existe ${\\rm P}^{\\infty}$. Justificar.\n",
        "\n",
        "\n",
        "\n",
        "\n"
      ],
      "metadata": {
        "id": "tytUMVXCVjhU"
      }
    },
    {
      "cell_type": "code",
      "source": [
        "#a) matriz de transicion\n",
        "P = np.array([[0,1,0],[1,0,0],[0,0,1]])\n",
        "\n",
        "EIGS = np.linalg.eig(P)  # calculamos los eigenvalores y eigenvectores de P\n",
        "print(\"los autovalores son :\", EIGS[0])"
      ],
      "metadata": {
        "colab": {
          "base_uri": "https://localhost:8080/"
        },
        "id": "WFE--SJHCY4I",
        "outputId": "e1e678eb-0786-4d53-ae1b-97828246929b"
      },
      "execution_count": null,
      "outputs": [
        {
          "output_type": "stream",
          "name": "stdout",
          "text": [
            "los autovalores son : [1.000000000 -1.000000000 1.000000000]\n"
          ]
        }
      ]
    },
    {
      "cell_type": "markdown",
      "source": [
        "Nota que el auto valor 1 se repite dos vecte y que no es el unico de modulo 1!\n",
        "\n",
        "b) Para determinar si hay dos equilibrios miramos los autovectores:"
      ],
      "metadata": {
        "id": "p4wTZ1AFDTuW"
      }
    },
    {
      "cell_type": "code",
      "source": [
        "EIGS[1]"
      ],
      "metadata": {
        "colab": {
          "base_uri": "https://localhost:8080/"
        },
        "id": "MalMZUWxDSCE",
        "outputId": "06bfdbbe-09ae-45f4-be90-bd40933cbed5"
      },
      "execution_count": null,
      "outputs": [
        {
          "output_type": "execute_result",
          "data": {
            "text/plain": [
              "array([[0.707106781, -0.707106781, 0.000000000],\n",
              "       [0.707106781, 0.707106781, 0.000000000],\n",
              "       [0.000000000, 0.000000000, 1.000000000]])"
            ]
          },
          "metadata": {},
          "execution_count": 72
        }
      ]
    },
    {
      "cell_type": "markdown",
      "source": [
        "La primera columna es un autovector de autovalor 1, notar que asi como está sus componentes no suman 1, por lo que hay que nomarlizarlo. \n",
        "\n",
        "La tercera columna es otro autovector del autovalor 1, este cumple que sus componentes son positivas y suman 1."
      ],
      "metadata": {
        "id": "AIuKgpryECPt"
      }
    },
    {
      "cell_type": "code",
      "source": [
        "V_1 = EIGS[1][:,0]  \n",
        "V_1 = V_1/np.sum(V_1)  # normalizo esta para que sea distribucion \n",
        "V_2 = EIGS[1][:,1]\n",
        "V_3 = EIGS[1][:,2]  # no es necesario normalizarlo pues ya es distribucion\n"
      ],
      "metadata": {
        "id": "i2RUjcCID9tm"
      },
      "execution_count": null,
      "outputs": []
    },
    {
      "cell_type": "code",
      "source": [
        "print(\"los autovectores asociados a $\\lambda = 1$ son las distribuciones de equilibrio: \\n\", V_1, V_3)"
      ],
      "metadata": {
        "colab": {
          "base_uri": "https://localhost:8080/"
        },
        "id": "vZV7BkHHEtRP",
        "outputId": "515043c5-e0be-45b4-dd90-c32197d9549b"
      },
      "execution_count": null,
      "outputs": [
        {
          "output_type": "stream",
          "name": "stdout",
          "text": [
            "los autovectores asociados a $\\lambda = 1$ son las distribuciones de equilibrio: \n",
            " [0.500000000 0.500000000 0.000000000] [0.000000000 0.000000000 1.000000000]\n"
          ]
        }
      ]
    },
    {
      "cell_type": "code",
      "source": [
        "# convirtamos los autovectores en vectores columna:\n",
        "\n",
        "V_1 = V_1.reshape((3,1))\n",
        "V_2 = V_2.reshape((3,1))\n",
        "V_3 = V_3.reshape((3,1))\n",
        "\n"
      ],
      "metadata": {
        "id": "8ment0LBF6NY"
      },
      "execution_count": null,
      "outputs": []
    },
    {
      "cell_type": "markdown",
      "source": [
        "Buscamos la distribucion inicial $v(0) = (200/700, 200/700, 300/700)=(2/7,2/7, 3/7)$ como combinación lineal de los vectores $V_1,V_2, V_3$, si no aparece componente en la direccion de $V_2$ entonces para dicha distribucion inicial habrá distribucion limite! \n",
        "\n",
        "Resolvamos el problema de hallar constantes $a,b,c\\in \\mathbb R$ tales que \n",
        "$$\n",
        "(2/7,2/7,3/7)^T = aV_1 +bV_2 +cV_3 \n",
        "$$\n",
        "\n",
        "es decir $(a,b,c)^T = [V_1 | V_2 |V_3]^{-1}(2/7,2/7,3/7)^T$"
      ],
      "metadata": {
        "id": "fkm3lSQpE7Sy"
      }
    },
    {
      "cell_type": "code",
      "source": [
        "V = (np.hstack((V_1, V_2,V_3))) #\n",
        "v0 = (np.array([2/7, 2/7, 3/7])).reshape((3,1))\n",
        "\n",
        "print(\"V = \\n\", V, \"\\n v0 = \\n\", v0)\n"
      ],
      "metadata": {
        "colab": {
          "base_uri": "https://localhost:8080/"
        },
        "id": "3vhUK9RJEwpa",
        "outputId": "a198156e-3adf-4937-b41b-7121de2fce28"
      },
      "execution_count": null,
      "outputs": [
        {
          "output_type": "stream",
          "name": "stdout",
          "text": [
            "V = \n",
            " [[0.500000000 -0.707106781 0.000000000]\n",
            " [0.500000000 0.707106781 0.000000000]\n",
            " [0.000000000 0.000000000 1.000000000]] \n",
            " v0 = \n",
            " [[0.285714286]\n",
            " [0.285714286]\n",
            " [0.428571429]]\n"
          ]
        }
      ]
    },
    {
      "cell_type": "code",
      "source": [
        "constantes = np.linalg.solve(V, v0)\n",
        "\n",
        "print(constantes)"
      ],
      "metadata": {
        "colab": {
          "base_uri": "https://localhost:8080/"
        },
        "id": "i3JrzAHHGLLv",
        "outputId": "db604233-68d4-4026-e87b-db9329522c43"
      },
      "execution_count": null,
      "outputs": [
        {
          "output_type": "stream",
          "name": "stdout",
          "text": [
            "[[0.571428571]\n",
            " [0.000000000]\n",
            " [0.428571429]]\n"
          ]
        }
      ]
    },
    {
      "cell_type": "code",
      "source": [
        "v_inf = constantes[0]*V_1 + constantes[2]*V_3\n",
        "\n",
        "print(\"Como v(0) no tiene componente en la direccion de V_2 entonces hay distribucion limite y es: \\n\", v_inf)\n",
        "print(\"\\n \\n notar que la suma de las componentes de v^{inf} es: \", np.sum(v_inf))"
      ],
      "metadata": {
        "colab": {
          "base_uri": "https://localhost:8080/"
        },
        "id": "EVABYRvAGcSD",
        "outputId": "9dcbe0ea-5fcb-4174-f365-7866ce9e37e8"
      },
      "execution_count": null,
      "outputs": [
        {
          "output_type": "stream",
          "name": "stdout",
          "text": [
            "Como v(0) no tiene componente en la direccion de V_2 entonces hay distribucion limite y es: \n",
            " [[0.285714286]\n",
            " [0.285714286]\n",
            " [0.428571429]]\n",
            "\n",
            " \n",
            " notar que la suma de las componentes de v^{inf} es:  1.0\n"
          ]
        }
      ]
    },
    {
      "cell_type": "markdown",
      "source": [
        "Si $v(0) =(100/600, 200/600, 300/600) =(1/6,1/3,3/6)$ veamos si hay distribucion limite:\n"
      ],
      "metadata": {
        "id": "iIuIhFCNGxCV"
      }
    },
    {
      "cell_type": "code",
      "source": [
        "v0 = np.array([1/6, 1/3, 1/2])\n",
        "constantes = np.linalg.solve(V, v0)\n",
        "\n",
        "print(constantes)"
      ],
      "metadata": {
        "colab": {
          "base_uri": "https://localhost:8080/"
        },
        "id": "0QapM3cuGj_8",
        "outputId": "693d1b66-f9a6-4c43-a742-1e5d07cf1fdf"
      },
      "execution_count": null,
      "outputs": [
        {
          "output_type": "stream",
          "name": "stdout",
          "text": [
            "[0.500000000 0.117851130 0.500000000]\n"
          ]
        }
      ]
    },
    {
      "cell_type": "markdown",
      "source": [
        "en este caso no hay distribucion limite."
      ],
      "metadata": {
        "id": "Jpd-TKduG6S8"
      }
    },
    {
      "cell_type": "markdown",
      "source": [
        "d) Analicemos si existe $P^{\\infty}$:\n",
        "\n",
        "Recordemos como en el ejmplo anterior que la columna 1 de $P^{\\infty}$ es la distribucion limite que se obtendria (si existe) cuando inicialmente la distribucion es $(1,0,0)^T$, \n",
        "\n",
        "la columna 2 de $P^{\\infty}$ es la distribucion limite que se obtendria (si existe) cuando inicialmente la distribucion es $(0,1,0)^T$ y \n",
        "\n",
        "la columna 3 de $P^{\\infty}$ es la distribucion limite que se obtendria (si existe) cuando inicialmente la distribucion es $(0,0,1)^T$\n",
        "\n",
        "entonces una forma de determinar la matriz limite es: hallando las distribuciones limite para cada una de estas distribuciones iniciales:"
      ],
      "metadata": {
        "id": "4ED-RqR_HC9V"
      }
    },
    {
      "cell_type": "code",
      "source": [
        "v0 = np.array([1,0,0]).reshape((3,1))\n",
        "a, b, c = np.linalg.solve(V, v0) #los coefs a, b,c de la combinacion \n",
        "\n",
        "print(\"a = %.f\" %a, \"b = %.f\" %b, \"c = %.f\" %c)"
      ],
      "metadata": {
        "colab": {
          "base_uri": "https://localhost:8080/"
        },
        "id": "JzFq-LZGG00C",
        "outputId": "8ff0e479-2475-486b-e213-c6a7c34f4d7e"
      },
      "execution_count": null,
      "outputs": [
        {
          "output_type": "stream",
          "name": "stdout",
          "text": [
            "a = 1 b = -1 c = 0\n"
          ]
        }
      ]
    },
    {
      "cell_type": "markdown",
      "source": [
        "en este caso vemos que no existe distribucion limite asociada a la distribucion inicial $(1,0,0)$ con lo cual no puede existir la matrix $P^{\\infty}$. Esto es coherente con la propiedad vista en la teorica."
      ],
      "metadata": {
        "id": "xvoERRNecu-F"
      }
    },
    {
      "cell_type": "markdown",
      "source": [
        "## Ejercicio: \n",
        "\n",
        "* Ejercicio 6 y 12 de practica 4\n",
        "\n",
        "* Completar la practica 4."
      ],
      "metadata": {
        "id": "CC4tOSI_eAt7"
      }
    },
    {
      "cell_type": "code",
      "source": [],
      "metadata": {
        "id": "M9FBR6EdG4ho"
      },
      "execution_count": null,
      "outputs": []
    }
  ]
}