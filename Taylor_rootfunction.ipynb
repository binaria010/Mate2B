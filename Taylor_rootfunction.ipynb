{
  "nbformat": 4,
  "nbformat_minor": 0,
  "metadata": {
    "colab": {
      "provenance": [],
      "authorship_tag": "ABX9TyOvogkfwvSSALQcUjH2qIoJ",
      "include_colab_link": true
    },
    "kernelspec": {
      "name": "python3",
      "display_name": "Python 3"
    },
    "language_info": {
      "name": "python"
    }
  },
  "cells": [
    {
      "cell_type": "markdown",
      "metadata": {
        "id": "view-in-github",
        "colab_type": "text"
      },
      "source": [
        "<a href=\"https://colab.research.google.com/github/binaria010/Mate2B/blob/main/Taylor_rootfunction.ipynb\" target=\"_parent\"><img src=\"https://colab.research.google.com/assets/colab-badge.svg\" alt=\"Open In Colab\"/></a>"
      ]
    },
    {
      "cell_type": "code",
      "execution_count": 1,
      "metadata": {
        "id": "EcCPyVhcOV09"
      },
      "outputs": [],
      "source": [
        "import numpy as np"
      ]
    },
    {
      "cell_type": "code",
      "source": [
        "k =2\n",
        "\n",
        "factor = np.zeros(k)\n",
        "for i in range(1, k+1):\n",
        "  factor[i-1] = (1/3 - (i-1))\n",
        "  print(factor[i-1])\n",
        "\n",
        "p = np.prod(factor)\n",
        "p\n"
      ],
      "metadata": {
        "colab": {
          "base_uri": "https://localhost:8080/"
        },
        "id": "HTmwi44tOaeA",
        "outputId": "f5cea903-6af1-408b-d714-b75c68dc4361"
      },
      "execution_count": 52,
      "outputs": [
        {
          "output_type": "stream",
          "name": "stdout",
          "text": [
            "0.3333333333333333\n",
            "-0.6666666666666667\n"
          ]
        },
        {
          "output_type": "execute_result",
          "data": {
            "text/plain": [
              "-0.22222222222222224"
            ]
          },
          "metadata": {},
          "execution_count": 52
        }
      ]
    },
    {
      "cell_type": "code",
      "source": [
        "def der_k_f(k, x_0):\n",
        "    \"\"\"\n",
        "    Calcula la la der k-esima de f(x) = (1+x)^{1/3}\n",
        "    \"\"\"\n",
        "\n",
        "    factor = np.zeros(k)\n",
        "    for i in range(1, k+1):\n",
        "      factor[i-1] = (1/3 - (i-1))\n",
        "    coef = np.prod(factor)\n",
        "\n",
        "    f_k = coef*(1+x_0)**(1/3 - k)\n",
        "\n",
        "    return f_k\n"
      ],
      "metadata": {
        "id": "cfxDkWvyOdPx"
      },
      "execution_count": 94,
      "outputs": []
    },
    {
      "cell_type": "code",
      "source": [
        "def der_k(k, x_0):\n",
        "    \"\"\"\n",
        "    Calcula la la der k-esima de f(x) = (1+x)^{1/3}\n",
        "    \"\"\"\n",
        "\n",
        "    factor = 1\n",
        "    for i in range(1, k+1):\n",
        "      factor = factor*(1/3 - (i-1))\n",
        "\n",
        "    f_k = factor*(1+x_0)**(1/3 - k)\n",
        "\n",
        "    return f_k"
      ],
      "metadata": {
        "id": "ekimWHhhnXOu"
      },
      "execution_count": 103,
      "outputs": []
    },
    {
      "cell_type": "code",
      "source": [
        "print(der_k_f(3, 0))\n",
        "print(der_k(3, 0))\n"
      ],
      "metadata": {
        "colab": {
          "base_uri": "https://localhost:8080/"
        },
        "id": "14iiFO5sOeEH",
        "outputId": "453817be-7817-49ea-f3fa-36de051811cc"
      },
      "execution_count": 104,
      "outputs": [
        {
          "output_type": "stream",
          "name": "stdout",
          "text": [
            "0.3703703703703704\n",
            "0.3703703703703704\n"
          ]
        }
      ]
    },
    {
      "cell_type": "markdown",
      "source": [
        "El polinomio de grado n lo armamos con estas funciones:"
      ],
      "metadata": {
        "id": "HC5Rrg5GTZIP"
      }
    },
    {
      "cell_type": "code",
      "source": [
        "def Taylor_n_f(n, x, x_0):\n",
        "  \"\"\"\n",
        "  Calcula el poli de taylor de orden n de f(x)=(1+x)^{1/3}\n",
        "  \"\"\"\n",
        "\n",
        "  P = 1  # f(0)=1\n",
        "  for k in range(1, n+1):\n",
        "    P = P + der_k_f(k, x_0)/np.math.factorial(k)*(x-x_0)**k\n",
        "    print(\"P en grado \" + str(k) + \" es: \", P)\n",
        "\n",
        "  return P"
      ],
      "metadata": {
        "id": "-ukD6cg_Pwlm"
      },
      "execution_count": 97,
      "outputs": []
    },
    {
      "cell_type": "code",
      "source": [
        "\n",
        "1+1/3-1/9+5/81"
      ],
      "metadata": {
        "colab": {
          "base_uri": "https://localhost:8080/"
        },
        "id": "NLMWnuiOTA-a",
        "outputId": "9d30466c-9219-4aae-ffc1-c66c67ee79c0"
      },
      "execution_count": 98,
      "outputs": [
        {
          "output_type": "execute_result",
          "data": {
            "text/plain": [
              "1.2839506172839505"
            ]
          },
          "metadata": {},
          "execution_count": 98
        }
      ]
    },
    {
      "cell_type": "code",
      "source": [
        "P=Taylor_n_f(3, 1,0)"
      ],
      "metadata": {
        "colab": {
          "base_uri": "https://localhost:8080/"
        },
        "id": "6LjxtovIU4JD",
        "outputId": "d922ed4e-8599-444b-f377-0084cb72e095"
      },
      "execution_count": 100,
      "outputs": [
        {
          "output_type": "stream",
          "name": "stdout",
          "text": [
            "P en grado 1 es:  1.3333333333333333\n",
            "P en grado 2 es:  1.222222222222222\n",
            "P en grado 3 es:  1.2839506172839505\n"
          ]
        }
      ]
    },
    {
      "cell_type": "code",
      "source": [
        "Taylor_n_f(3, -0.1, x_0 =0)"
      ],
      "metadata": {
        "colab": {
          "base_uri": "https://localhost:8080/"
        },
        "id": "n-SgViKPU7db",
        "outputId": "9bf50473-d617-4426-a7af-ccbcbf4a50b1"
      },
      "execution_count": 101,
      "outputs": [
        {
          "output_type": "stream",
          "name": "stdout",
          "text": [
            "P en grado 1 es:  0.9666666666666667\n",
            "P en grado 2 es:  0.9655555555555556\n",
            "P en grado 3 es:  0.9654938271604939\n"
          ]
        },
        {
          "output_type": "execute_result",
          "data": {
            "text/plain": [
              "0.9654938271604939"
            ]
          },
          "metadata": {},
          "execution_count": 101
        }
      ]
    },
    {
      "cell_type": "code",
      "source": [
        "(0.9)**(1/3)"
      ],
      "metadata": {
        "colab": {
          "base_uri": "https://localhost:8080/"
        },
        "id": "6N5vIt7Rmyam",
        "outputId": "8a21c4c6-7ac3-484d-8166-ee32ed9050a1"
      },
      "execution_count": 102,
      "outputs": [
        {
          "output_type": "execute_result",
          "data": {
            "text/plain": [
              "0.9654893846056297"
            ]
          },
          "metadata": {},
          "execution_count": 102
        }
      ]
    },
    {
      "cell_type": "code",
      "source": [],
      "metadata": {
        "id": "nELLqM8vm3yv"
      },
      "execution_count": null,
      "outputs": []
    }
  ]
}