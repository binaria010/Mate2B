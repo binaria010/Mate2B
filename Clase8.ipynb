{
  "nbformat": 4,
  "nbformat_minor": 0,
  "metadata": {
    "colab": {
      "provenance": [],
      "authorship_tag": "ABX9TyNT9Rlv4/3rPgsEnCa41CAh",
      "include_colab_link": true
    },
    "kernelspec": {
      "name": "python3",
      "display_name": "Python 3"
    },
    "language_info": {
      "name": "python"
    }
  },
  "cells": [
    {
      "cell_type": "markdown",
      "metadata": {
        "id": "view-in-github",
        "colab_type": "text"
      },
      "source": [
        "<a href=\"https://colab.research.google.com/github/binaria010/Mate2B/blob/main/Clase8.ipynb\" target=\"_parent\"><img src=\"https://colab.research.google.com/assets/colab-badge.svg\" alt=\"Open In Colab\"/></a>"
      ]
    },
    {
      "cell_type": "markdown",
      "source": [
        "# Métodos de Jacobi y Gauss Seidel\n",
        "\n",
        "Que vamos a ver?\n",
        "\n",
        "\n",
        "\n",
        "*   Trabajamos con matrices en numpy\n",
        "*   Jacobi\n",
        "*   Gauss Seidel\n",
        "\n"
      ],
      "metadata": {
        "id": "4l-zShLeKuaD"
      }
    },
    {
      "cell_type": "markdown",
      "source": [
        "## Matrices en numpy:"
      ],
      "metadata": {
        "id": "uM6CZIeELBx-"
      }
    },
    {
      "cell_type": "code",
      "execution_count": null,
      "metadata": {
        "id": "uAe7FsaOKsCv"
      },
      "outputs": [],
      "source": [
        "import numpy as np"
      ]
    },
    {
      "cell_type": "code",
      "source": [
        "A = np.array([[1,2,3],[4,-5,5],[7,3,8]])\n",
        "print(A)"
      ],
      "metadata": {
        "colab": {
          "base_uri": "https://localhost:8080/"
        },
        "id": "m1e7poARUyJX",
        "outputId": "c8d2afa2-4aa9-40a3-9412-acde35cfbc0c"
      },
      "execution_count": 50,
      "outputs": [
        {
          "output_type": "stream",
          "name": "stdout",
          "text": [
            "[[ 1  2  3]\n",
            " [ 4 -5  5]\n",
            " [ 7  3  8]]\n"
          ]
        }
      ]
    },
    {
      "cell_type": "code",
      "source": [
        "A.shape   # me da una tupla con las dimensiones de A"
      ],
      "metadata": {
        "colab": {
          "base_uri": "https://localhost:8080/"
        },
        "id": "eZqNPQO7U5k5",
        "outputId": "f8b7fa8e-5de8-4339-96ee-9641f4d95ce5"
      },
      "execution_count": null,
      "outputs": [
        {
          "output_type": "execute_result",
          "data": {
            "text/plain": [
              "(3, 3)"
            ]
          },
          "metadata": {},
          "execution_count": 11
        }
      ]
    },
    {
      "cell_type": "code",
      "source": [
        "d = np.diag(A)  # me devuelve un vector cuyas componentes son los elementos de la diagonal de A\n",
        "print(d)"
      ],
      "metadata": {
        "colab": {
          "base_uri": "https://localhost:8080/"
        },
        "id": "ctn9gbYSU7x-",
        "outputId": "77fd9c79-976e-4d98-f32f-808f5ad53872"
      },
      "execution_count": 51,
      "outputs": [
        {
          "output_type": "stream",
          "name": "stdout",
          "text": [
            "[ 1 -5  8]\n"
          ]
        }
      ]
    },
    {
      "cell_type": "code",
      "source": [
        "D = np.diag(d) # me construye una matriz diagonal con entradas los elementos de d\n",
        "print(D)"
      ],
      "metadata": {
        "colab": {
          "base_uri": "https://localhost:8080/"
        },
        "id": "tVTRQoGbVIOu",
        "outputId": "cd3af3f4-00e1-4dbf-f149-27b22d3462c4"
      },
      "execution_count": 52,
      "outputs": [
        {
          "output_type": "stream",
          "name": "stdout",
          "text": [
            "[[ 1  0  0]\n",
            " [ 0 -5  0]\n",
            " [ 0  0  8]]\n"
          ]
        }
      ]
    },
    {
      "cell_type": "markdown",
      "source": [
        "inversa de una matriz"
      ],
      "metadata": {
        "id": "laCKbYfxb6cp"
      }
    },
    {
      "cell_type": "code",
      "source": [
        "Dinv = np.linalg.inv(D) # calcula la inversa de una matriz.\n",
        "\n",
        "print(Dinv)\n"
      ],
      "metadata": {
        "colab": {
          "base_uri": "https://localhost:8080/"
        },
        "id": "rHOZ6X6zZ6Us",
        "outputId": "804fad16-d9f7-42a5-8d4a-95d186137ee6"
      },
      "execution_count": null,
      "outputs": [
        {
          "output_type": "stream",
          "name": "stdout",
          "text": [
            "[[ 1.     0.     0.   ]\n",
            " [-0.    -0.2   -0.   ]\n",
            " [ 0.     0.     0.125]]\n"
          ]
        }
      ]
    },
    {
      "cell_type": "code",
      "source": [
        "# otra forma para el caso de matrices diagonales es invertir coordenada a coordenada \n",
        "dinv = 1/d\n",
        "Diinv = np.diag(dinv)\n",
        "\n",
        "print(Diinv)"
      ],
      "metadata": {
        "colab": {
          "base_uri": "https://localhost:8080/"
        },
        "id": "pyWN200M3DrQ",
        "outputId": "2fe52d64-cdfa-4206-e49c-afe73bfb6f3f"
      },
      "execution_count": 53,
      "outputs": [
        {
          "output_type": "stream",
          "name": "stdout",
          "text": [
            "[[ 1.     0.     0.   ]\n",
            " [ 0.    -0.2    0.   ]\n",
            " [ 0.     0.     0.125]]\n"
          ]
        }
      ]
    },
    {
      "cell_type": "markdown",
      "source": [
        "multiplicacion de matrices"
      ],
      "metadata": {
        "id": "i7a3iHInb8kl"
      }
    },
    {
      "cell_type": "code",
      "source": [
        "np.dot(Dinv, A)# esto es la multiplicacion de matrices de algebra  que aprendimos. Sirve para multiplicar matriz con vector"
      ],
      "metadata": {
        "colab": {
          "base_uri": "https://localhost:8080/"
        },
        "id": "a3SASNASbwy2",
        "outputId": "0ae7e87b-b6ee-4b3f-f3b6-ddff5ebfc1c3"
      },
      "execution_count": null,
      "outputs": [
        {
          "output_type": "execute_result",
          "data": {
            "text/plain": [
              "array([[ 1.   ,  2.   ,  3.   ],\n",
              "       [-0.8  ,  1.   , -1.   ],\n",
              "       [ 0.875,  0.375,  1.   ]])"
            ]
          },
          "metadata": {},
          "execution_count": 16
        }
      ]
    },
    {
      "cell_type": "code",
      "source": [
        "Dinv@A   # otra forma de hacer la multiplicacion. prefiero np.dot!"
      ],
      "metadata": {
        "colab": {
          "base_uri": "https://localhost:8080/"
        },
        "id": "PxOzNpgxbnxz",
        "outputId": "8081d57c-bcc1-4077-e52d-c0b2bea35290"
      },
      "execution_count": null,
      "outputs": [
        {
          "output_type": "execute_result",
          "data": {
            "text/plain": [
              "array([[ 1.   ,  2.   ,  3.   ],\n",
              "       [-0.8  ,  1.   , -1.   ],\n",
              "       [ 0.875,  0.375,  1.   ]])"
            ]
          },
          "metadata": {},
          "execution_count": 17
        }
      ]
    },
    {
      "cell_type": "code",
      "source": [
        "Dinv * A  # esto es la multiplicacion coordenada a coordenada. En algebra no se usa mucho, en otros lugares si!"
      ],
      "metadata": {
        "colab": {
          "base_uri": "https://localhost:8080/"
        },
        "id": "7WsoYDzXcGbR",
        "outputId": "9bdd2b3f-a0de-49fd-ca04-134db81e3d5b"
      },
      "execution_count": null,
      "outputs": [
        {
          "output_type": "execute_result",
          "data": {
            "text/plain": [
              "array([[ 1.,  0.,  0.],\n",
              "       [-0.,  1., -0.],\n",
              "       [ 0.,  0.,  1.]])"
            ]
          },
          "metadata": {},
          "execution_count": 18
        }
      ]
    },
    {
      "cell_type": "markdown",
      "source": [
        "Vectores:"
      ],
      "metadata": {
        "id": "KqNb9zx9YlOZ"
      }
    },
    {
      "cell_type": "code",
      "source": [
        "v = np.array([1,2,3])\n",
        "\n",
        "print(v)\n",
        "print(v.shape)"
      ],
      "metadata": {
        "colab": {
          "base_uri": "https://localhost:8080/"
        },
        "id": "PygGDPSjVVmP",
        "outputId": "b1e4fc20-2f34-4dab-a015-b8b88af5ddc8"
      },
      "execution_count": null,
      "outputs": [
        {
          "output_type": "stream",
          "name": "stdout",
          "text": [
            "[1 2 3]\n",
            "(3,)\n"
          ]
        }
      ]
    },
    {
      "cell_type": "markdown",
      "source": [
        "multipliquemos D con v"
      ],
      "metadata": {
        "id": "bXIYgKHoh9tG"
      }
    },
    {
      "cell_type": "code",
      "source": [
        "print(\"D =\\n\" , D, \"por  v=\", v, \" es \\n\\n\", np.dot(D, v))\n"
      ],
      "metadata": {
        "colab": {
          "base_uri": "https://localhost:8080/"
        },
        "id": "O6o5pn2Zh6JJ",
        "outputId": "108a3158-fe24-4831-a372-c6c9774cb73a"
      },
      "execution_count": null,
      "outputs": [
        {
          "output_type": "stream",
          "name": "stdout",
          "text": [
            "D =\n",
            " [[ 1  0  0]\n",
            " [ 0 -5  0]\n",
            " [ 0  0  8]] por  v= [1 2 3]  es \n",
            "\n",
            " [  1 -10  24]\n"
          ]
        }
      ]
    },
    {
      "cell_type": "code",
      "source": [
        "w = np.array([[1,2,3,4]])\n",
        "print(w.shape)"
      ],
      "metadata": {
        "colab": {
          "base_uri": "https://localhost:8080/"
        },
        "id": "qA3gJPINYs5Q",
        "outputId": "cb8fd32c-41a2-4169-ca44-6c684c21c4b8"
      },
      "execution_count": null,
      "outputs": [
        {
          "output_type": "stream",
          "name": "stdout",
          "text": [
            "(1, 4)\n"
          ]
        }
      ]
    },
    {
      "cell_type": "code",
      "source": [
        "z = np.array([[1], [2], [3],[4]])\n",
        "print(z)\n",
        "print(z.shape)"
      ],
      "metadata": {
        "colab": {
          "base_uri": "https://localhost:8080/"
        },
        "id": "_utGevMKY0TP",
        "outputId": "733de371-8b29-493e-feca-bba1400ae6c1"
      },
      "execution_count": null,
      "outputs": [
        {
          "output_type": "stream",
          "name": "stdout",
          "text": [
            "[[1]\n",
            " [2]\n",
            " [3]\n",
            " [4]]\n",
            "(4, 1)\n"
          ]
        }
      ]
    },
    {
      "cell_type": "code",
      "source": [
        "w1 = z.reshape((4,1))\n",
        "print(w1)\n",
        "print(w1.shape)"
      ],
      "metadata": {
        "colab": {
          "base_uri": "https://localhost:8080/"
        },
        "id": "WZNqKnu6Y-jM",
        "outputId": "1c1abac1-27bf-4232-b8ca-9ef9bbe7135e"
      },
      "execution_count": null,
      "outputs": [
        {
          "output_type": "stream",
          "name": "stdout",
          "text": [
            "[[1]\n",
            " [2]\n",
            " [3]\n",
            " [4]]\n",
            "(4, 1)\n"
          ]
        }
      ]
    },
    {
      "cell_type": "code",
      "source": [
        "# reshape(-1) convierte a vector fila o columna segun sea el caso:\n",
        "\n",
        "z1 = z.reshape(-1)\n",
        "print(z1)\n",
        "print(z1.shape)"
      ],
      "metadata": {
        "colab": {
          "base_uri": "https://localhost:8080/"
        },
        "id": "LmRjDXdHZNHE",
        "outputId": "b5ba4393-f8d2-4a95-d1b8-9cef02c24965"
      },
      "execution_count": null,
      "outputs": [
        {
          "output_type": "stream",
          "name": "stdout",
          "text": [
            "[1 2 3 4]\n",
            "(4,)\n"
          ]
        }
      ]
    },
    {
      "cell_type": "markdown",
      "source": [
        "norma de un vector:"
      ],
      "metadata": {
        "id": "H9SfEq0deVJz"
      }
    },
    {
      "cell_type": "code",
      "source": [
        "np.linalg.norm(z1)  #calcula la norma euclidea del vector...hay otras normas posibles"
      ],
      "metadata": {
        "colab": {
          "base_uri": "https://localhost:8080/"
        },
        "id": "8JfP2NlReW00",
        "outputId": "76bc3cab-7a30-496f-fceb-bd76a624c53a"
      },
      "execution_count": null,
      "outputs": [
        {
          "output_type": "execute_result",
          "data": {
            "text/plain": [
              "5.477225575051661"
            ]
          },
          "metadata": {},
          "execution_count": 25
        }
      ]
    },
    {
      "cell_type": "markdown",
      "source": [
        "## Jacobi:\n",
        "\n",
        "El metodo consiste en obtener una sucesion de vectores $\\{x^{(k)}\\}$ que converge a la solucion de $Ax =b$ donde $A\\in\\ R^{n\\times n}$, $x,b\\in R^{n\\times 1}$.\n",
        "\n",
        "el criterio de parada es que el tamaño relativo de la diferencia de dos sucesivos sea menor que una cierta tolerancia tol dada como input por el usuario, es decir:\n",
        "\n",
        "$$\n",
        "\\frac{||x^{(k)} - x^{(k-1)}||_{2}}{||x^{(k)}||_{2}} = \\frac{\\displaystyle\\sum_{i=1}^n(x^{(k)}_i - x^{(k-1)}_i)^2}{\\displaystyle\\sum_{i=1}^n(x^{(k)}_i)^2} < tol\n",
        "$$\n",
        "\n",
        "\n",
        "A partir de una aproximacion inicial $x^{(0)}$, la formula para la aproximacion $k$-esima es:\n",
        "\n",
        "$$\n",
        "x^{(k)} = D^{-1}(L+U)x^{(k-1)} +D^{-1}b, \\qquad k\\geq 1\n",
        "$$\n",
        "\n",
        "donde $D= diag(A)$ es la matriz diagonal cuyos elementos son los de la diagonal de $A$.\n",
        "\n",
        "$L$ es la matriz triangular inferior que tiene 0s en la diagonal\n",
        "\n",
        "$U$ es la matriz triangular superior con 0's en la diagonal\n",
        "\n",
        "es decir $L+U = A -D$\n",
        "\n",
        "Pasemos a implementar una rutina (funcion) en python que reciba como inputs: $A$ $b$, $x0$, $tol$ $n=$ numero de iteraciones.\n"
      ],
      "metadata": {
        "id": "8PnPYBXUVabw"
      }
    },
    {
      "cell_type": "code",
      "source": [
        "def jacobi(A, b, x0, tol, n =500):\n",
        "\n",
        "  '''\n",
        "  esta funcion devuleve una aproximacion x  obtenida mediante el metodo de Jacobi de la solucion de Ax =b.\n",
        "\n",
        "\n",
        "  inputs:\n",
        "  A: numpy array de tamanio n x n. La matriz del sistema de ecuaciones\n",
        "  b: numpy array. Vector fila o columna. puede ser de tamanio (n, ), o (n,1) o (1, n)\n",
        "  x0: numpy array. Vector fila o columna. puede ser de tamanio (n, ), o (n,1) o (1, n)\n",
        "  tol: float. tolerancia. De esta forma le indicamo cuando parar\n",
        "  n: int. maximo numero de iteraciones.\n",
        "  '''\n",
        "\n",
        "  d = np.diag(A) #vector con los elementos de la diagonal de A\n",
        "  D = np.diag(d)  # matriz diagonal con entradas las de d\n",
        "  Dinv = np.diag(1/d)\n",
        "  LU = A - D\n",
        "\n",
        "  # buscamos primera iteracion \n",
        "  xold = x0\n",
        "  xnew = np.dot(Dinv, np.dot(-LU, x0) + b)\n",
        "  i = 1\n",
        "\n",
        "  \n",
        "  while np.linalg.norm(xnew -xold) > tol :\n",
        "  \n",
        "    print(\" en la iteracion \"+ str(i)+ \"-esima, x es :\", xnew)\n",
        "    i = i + 1\n",
        "\n",
        "    #seteo como x anterior al ultimo calculado\n",
        "    xold = xnew\n",
        "    \n",
        "    #calculo un nuevo x\n",
        "    xnew = np.dot(Dinv, np.dot(-LU, xold) + b)\n",
        "\n",
        "\n",
        "    if i > n:\n",
        "      print(\"despues de \"+ str(n) + \" pasos no se llegó a una aproximacion deseada\")\n",
        "      break\n",
        "  \n",
        "  return(i, xnew)\n",
        "\n"
      ],
      "metadata": {
        "id": "Uv9HhuODW8FY"
      },
      "execution_count": 54,
      "outputs": []
    },
    {
      "cell_type": "code",
      "source": [
        "#@title\n",
        "# version mejorada\n",
        "\n",
        "def Jacobi(A, b, x0, tol, n =500):\n",
        "\n",
        "  '''\n",
        "  esta funcion devuleve una aproximacion x  obtenida mediante el metodo de Jacobi de la solucion de Ax =b.\n",
        "\n",
        "\n",
        "  inputs:\n",
        "  A: numpy array de tamanio n x n. La matriz del sistema de ecuaciones\n",
        "  b: numpy array. Vector fila o columna. puede ser de tamanio (n, ), o (n,1) o (1, n)\n",
        "  x0: numpy array. Vector fila o columna. puede ser de tamanio (n, ), o (n,1) o (1, n)\n",
        "  tol: float. tolerancia. De esta forma le indicamo cuando parar\n",
        "  n: int. maximo numero de iteraciones.\n",
        "  '''\n",
        "\n",
        "  d = np.diag(A) #vector con los elementos de la diagonal de A\n",
        "  D = np.diag(d)  # matriz diagonal con entradas las de d\n",
        "  \n",
        "  LU = A - D\n",
        "\n",
        "  # buscamos primera iteracion \n",
        "  xold = x0\n",
        "  xnew = np.linalg.solve(D, np.dot(-LU, x0) + b)\n",
        "  i = 0\n",
        "\n",
        "  \n",
        "  while np.linalg.norm(xnew -xold) >= tol :\n",
        "  \n",
        "    print(\" en la iteracion \"+ str(i)+ \"-esima, x es :\", xnew)\n",
        "    i = i + 1\n",
        "\n",
        "    #seteo como x anterior al ultimo calculado\n",
        "    xold = xnew\n",
        "    \n",
        "    #calculo un nuevo x\n",
        "    xnew = np.linalg.solve(D, np.dot(-LU, x0) + b)\n",
        "\n",
        "\n",
        "    if i > n:\n",
        "      print(\"despues de \"+ str(n) + \" pasos no se llegó a una aproximacion deseada\")\n",
        "      break\n",
        "  \n",
        "  return(i, xnew)"
      ],
      "metadata": {
        "id": "MhD4HpjoCePj",
        "cellView": "form"
      },
      "execution_count": null,
      "outputs": []
    },
    {
      "cell_type": "markdown",
      "source": [
        "Vamos con el ejemplo:\n",
        "\n",
        "$$\n",
        "\\begin{align}\n",
        "10x_1 -x_2 +2x_3 ~~ &= 6\\\\\n",
        "-x_1 +11x_2 -x_3 +3x_4 &= 25\\\\\n",
        "2x_1 -x_2 +10x_3 -x_4 &= -11\\\\\n",
        "~~   3x_2 - x_3 + 8x_4 &= 15\n",
        "\\end{align}\n",
        "$$\n"
      ],
      "metadata": {
        "id": "YKAYAtTLflS7"
      }
    },
    {
      "cell_type": "code",
      "source": [
        "A = np.array([[10, -1, 2, 0], [-1, 11, -1, 3], [2, -1, 10, -1], [0, 3, -1, 8]])\n",
        "b = np.array([6, 25, -11, 15])\n",
        "print(\"A = \", A, \"\\n\\n b = \", b)"
      ],
      "metadata": {
        "colab": {
          "base_uri": "https://localhost:8080/"
        },
        "id": "r8pATBfsW8C0",
        "outputId": "bdbadcba-62b9-4f88-f5a6-deb64a5212c0"
      },
      "execution_count": 55,
      "outputs": [
        {
          "output_type": "stream",
          "name": "stdout",
          "text": [
            "A =  [[10 -1  2  0]\n",
            " [-1 11 -1  3]\n",
            " [ 2 -1 10 -1]\n",
            " [ 0  3 -1  8]] \n",
            "\n",
            " b =  [  6  25 -11  15]\n"
          ]
        }
      ]
    },
    {
      "cell_type": "code",
      "source": [
        "D = np.diag(np.diag(A))\n",
        "\n",
        "print(D)"
      ],
      "metadata": {
        "colab": {
          "base_uri": "https://localhost:8080/"
        },
        "id": "JzPW33PDVcX_",
        "outputId": "d024eef3-31dc-4eff-9308-6bfc7f7d6210"
      },
      "execution_count": 56,
      "outputs": [
        {
          "output_type": "stream",
          "name": "stdout",
          "text": [
            "[[10  0  0  0]\n",
            " [ 0 11  0  0]\n",
            " [ 0  0 10  0]\n",
            " [ 0  0  0  8]]\n"
          ]
        }
      ]
    },
    {
      "cell_type": "code",
      "source": [
        "LU = A - D\n",
        "\n",
        "print(-LU) # antes de pasar a dividir por los coeficientes"
      ],
      "metadata": {
        "colab": {
          "base_uri": "https://localhost:8080/"
        },
        "id": "Pjs3JyXZhRIk",
        "outputId": "a03e592a-2a1f-4a35-c053-abec33b4193f"
      },
      "execution_count": 57,
      "outputs": [
        {
          "output_type": "stream",
          "name": "stdout",
          "text": [
            "[[ 0  1 -2  0]\n",
            " [ 1  0  1 -3]\n",
            " [-2  1  0  1]\n",
            " [ 0 -3  1  0]]\n"
          ]
        }
      ]
    },
    {
      "cell_type": "code",
      "source": [
        "Dinv = np.diag(1/np.diag(A))\n",
        "print(\"D^{-1}b = \",Dinv)"
      ],
      "metadata": {
        "colab": {
          "base_uri": "https://localhost:8080/"
        },
        "id": "nEispEnmhV9b",
        "outputId": "35809141-4fa5-49fa-e327-e56d5b62df31"
      },
      "execution_count": 59,
      "outputs": [
        {
          "output_type": "stream",
          "name": "stdout",
          "text": [
            "D^{-1}b =  [[0.1        0.         0.         0.        ]\n",
            " [0.         0.09090909 0.         0.        ]\n",
            " [0.         0.         0.1        0.        ]\n",
            " [0.         0.         0.         0.125     ]]\n"
          ]
        }
      ]
    },
    {
      "cell_type": "code",
      "source": [
        "x0 = np.array([0,0,0,0])\n"
      ],
      "metadata": {
        "id": "Mj_mgdlZizgD"
      },
      "execution_count": null,
      "outputs": []
    },
    {
      "cell_type": "code",
      "source": [
        "  # otra forma es: \n",
        "x0 =np.zeros(4)"
      ],
      "metadata": {
        "id": "OhOM50-BjJW5"
      },
      "execution_count": 60,
      "outputs": []
    },
    {
      "cell_type": "code",
      "source": [
        "jacobi(A, b, x0, tol =1e-8)"
      ],
      "metadata": {
        "colab": {
          "base_uri": "https://localhost:8080/"
        },
        "id": "TLP6xi0DjKGq",
        "outputId": "dec8839b-2cf0-4b83-fb0e-78f4e2d9f1f0"
      },
      "execution_count": 61,
      "outputs": [
        {
          "output_type": "stream",
          "name": "stdout",
          "text": [
            " en la iteracion 1-esima, x es : [ 0.6         2.27272727 -1.1         1.875     ]\n",
            " en la iteracion 2-esima, x es : [ 1.04727273  1.71590909 -0.80522727  0.88522727]\n",
            " en la iteracion 3-esima, x es : [ 0.93263636  2.05330579 -1.04934091  1.13088068]\n",
            " en la iteracion 4-esima, x es : [ 1.01519876  1.95369576 -0.96810863  0.97384272]\n",
            " en la iteracion 5-esima, x es : [ 0.9889913   2.01141473 -1.0102859   1.02135051]\n",
            " en la iteracion 6-esima, x es : [ 1.00319865  1.99224126 -0.99452174  0.99443374]\n",
            " en la iteracion 7-esima, x es : [ 0.99812847  2.00230688 -1.00197223  1.00359431]\n",
            " en la iteracion 8-esima, x es : [ 1.00062513  1.9986703  -0.99903558  0.99888839]\n",
            " en la iteracion 9-esima, x es : [ 0.99967415  2.00044767 -1.00036916  1.00061919]\n",
            " en la iteracion 10-esima, x es : [ 1.0001186   1.99976795 -0.99982814  0.99978598]\n",
            " en la iteracion 11-esima, x es : [ 0.99994242  2.00008477 -1.00006833  1.0001085 ]\n",
            " en la iteracion 12-esima, x es : [ 1.00002214  1.99995896 -0.99996916  0.99995967]\n",
            " en la iteracion 13-esima, x es : [ 0.99998973  2.00001582 -1.00001257  1.00001924]\n",
            " en la iteracion 14-esima, x es : [ 1.00000409  1.99999268 -0.99999444  0.9999925 ]\n",
            " en la iteracion 15-esima, x es : [ 0.99999816  2.00000292 -1.0000023   1.00000344]\n",
            " en la iteracion 16-esima, x es : [ 1.00000075  1.99999868 -0.99999899  0.99999862]\n",
            " en la iteracion 17-esima, x es : [ 0.99999967  2.00000054 -1.00000042  1.00000062]\n",
            " en la iteracion 18-esima, x es : [ 1.00000014  1.99999976 -0.99999982  0.99999975]\n",
            " en la iteracion 19-esima, x es : [ 0.99999994  2.0000001  -1.00000008  1.00000011]\n",
            " en la iteracion 20-esima, x es : [ 1.00000003  1.99999996 -0.99999997  0.99999995]\n",
            " en la iteracion 21-esima, x es : [ 0.99999999  2.00000002 -1.00000001  1.00000002]\n",
            " en la iteracion 22-esima, x es : [ 1.          1.99999999 -0.99999999  0.99999999]\n",
            " en la iteracion 23-esima, x es : [ 1.  2. -1.  1.]\n"
          ]
        },
        {
          "output_type": "execute_result",
          "data": {
            "text/plain": [
              "(24, array([ 1.,  2., -1.,  1.]))"
            ]
          },
          "metadata": {},
          "execution_count": 61
        }
      ]
    },
    {
      "cell_type": "markdown",
      "source": [
        "El solver de ecuaciones lineales de python nos da:"
      ],
      "metadata": {
        "id": "6XBC2Inika3c"
      }
    },
    {
      "cell_type": "code",
      "source": [
        "np.linalg.solve(A,b)"
      ],
      "metadata": {
        "colab": {
          "base_uri": "https://localhost:8080/"
        },
        "id": "PKZC5eKHjojK",
        "outputId": "1a52b4d9-5a6d-4e2a-ce04-b10de0289996"
      },
      "execution_count": 62,
      "outputs": [
        {
          "output_type": "execute_result",
          "data": {
            "text/plain": [
              "array([ 1.,  2., -1.,  1.])"
            ]
          },
          "metadata": {},
          "execution_count": 62
        }
      ]
    },
    {
      "cell_type": "markdown",
      "source": [
        "## Gauss- Seidel\n",
        "\n",
        "la iteración k-esima es:\n",
        "\n",
        "$$\n",
        "x^{(k)} = (D + L)^{-1}(-Ux^{(k-1)}) +(D + L)^{-1}b\n",
        "$$\n",
        "\n",
        "donde se inicializa $x0$ como antes y el criterio de parada es de acuerdo a la norma de la diferencia.\n",
        "\n",
        "\n",
        "Para obener las matrices $L,U$ triangular inferior y superior de $A$ usemos las funciones de numpy: `numpy.tril`, `numpy.triu`"
      ],
      "metadata": {
        "id": "EURu6YlhlE7W"
      }
    },
    {
      "cell_type": "code",
      "source": [
        "print(\"L = \\n\", np.tril(A))   # Parte abajo de la diagonal. Agregamos la opción -1 para que no incluya a la diagonal\n",
        "print(\"U = \\n\", np.triu(A, +1))   # Parte arriba de la diagonal. Agregamos la opción +1 para que no incluya a la diagonal\n"
      ],
      "metadata": {
        "colab": {
          "base_uri": "https://localhost:8080/"
        },
        "id": "xq-_Yr2x6w9b",
        "outputId": "a5e17ba5-4ff6-4232-a797-82e755f7c1a0"
      },
      "execution_count": null,
      "outputs": [
        {
          "output_type": "stream",
          "name": "stdout",
          "text": [
            "L = \n",
            " [[10  0  0  0]\n",
            " [-1 11  0  0]\n",
            " [ 2 -1 10  0]\n",
            " [ 0  3 -1  8]]\n",
            "U = \n",
            " [[ 0 -1  2  0]\n",
            " [ 0  0 -1  3]\n",
            " [ 0  0  0 -1]\n",
            " [ 0  0  0  0]]\n"
          ]
        }
      ]
    },
    {
      "cell_type": "code",
      "source": [
        "def gauss_seidel(A, b, x0, tol, n=500):\n",
        "  '''\n",
        "  esta funcion devuleve una aproximacion x  obtenida mediante el metodo de Gauss-Seidel de la solucion de Ax =b.\n",
        "\n",
        "\n",
        "  inputs:\n",
        "  A: numpy array de tamanio n x n. La matriz del sistema de ecuaciones\n",
        "  b: numpy array. Vector fila o columna. puede ser de tamanio (n, ), o (n,1) o (1, n)\n",
        "  x0: numpy array. Vector fila o columna. puede ser de tamanio (n, ), o (n,1) o (1, n)\n",
        "  tol: float. tolerancia. De esta forma le indicamo cuando parar\n",
        "  '''\n",
        "\n",
        "  d = np.diag(A) #vector con los elementos de la diagonal de A\n",
        "  D = np.diag(d)  # matriz diagonal con entradas las de d\n",
        "\n",
        "  # las matrices L y U:\n",
        " \n",
        "  L = np.tril(A, -1)\n",
        "  U = np.triu(A, +1)\n",
        "\n",
        "  #DLinv = np.linalg.inv(D + L)  #esto no lo hacemos\n",
        "\n",
        "  # buscamos primera iteracion \n",
        "  xold = x0\n",
        "  xnew = np.linalg.solve(D+L, np.dot(-U, xold) + b)\n",
        "  i = 1\n",
        "\n",
        "  \n",
        "  while np.linalg.norm(xnew -xold) > tol :\n",
        "  \n",
        "    print(\" en la iteracion \"+ str(i)+ \"-esima, x es :\", xnew)\n",
        "    i = i + 1\n",
        "\n",
        "    #seteo como x anterior al ultimo calculado\n",
        "    xold = xnew\n",
        "    \n",
        "    #calculo un nuevo x\n",
        "    xnew = np.linalg.solve(D + L, np.dot(-U, xold) + b) \n",
        "\n",
        "\n",
        "    if i > n:\n",
        "      print(\"despues de \"+ str(n) + \" pasos no se llegó a una aproximacion deseada\")\n",
        "      break\n",
        "  \n",
        "  return(i, xnew)\n",
        "\n",
        "\n",
        "\n"
      ],
      "metadata": {
        "id": "va9MKRJy4Sz1"
      },
      "execution_count": 63,
      "outputs": []
    },
    {
      "cell_type": "code",
      "source": [
        "A = np.array([[10, -1, 2, 0], [-1, 11, -1, 3], [2, -1, 10, -1], [0, 3, -1, 8]])\n",
        "b = np.array([6, 25, -11, 15])\n",
        "x0 = np.zeros(4)\n",
        "\n",
        "\n",
        "gauss_seidel(A, b, x0, tol = 1e-4)"
      ],
      "metadata": {
        "colab": {
          "base_uri": "https://localhost:8080/"
        },
        "id": "wsDXzUiS7y0A",
        "outputId": "bbce6240-6db9-46a5-c122-2fc8de31f372"
      },
      "execution_count": 64,
      "outputs": [
        {
          "output_type": "stream",
          "name": "stdout",
          "text": [
            " en la iteracion 1-esima, x es : [ 0.6         2.32727273 -0.98727273  0.87886364]\n",
            " en la iteracion 2-esima, x es : [ 1.03018182  2.03693802 -1.0144562   0.98434122]\n",
            " en la iteracion 3-esima, x es : [ 1.00658504  2.00355502 -1.00252738  0.99835095]\n",
            " en la iteracion 4-esima, x es : [ 1.00086098  2.00029825 -1.00030728  0.99984975]\n",
            " en la iteracion 5-esima, x es : [ 1.00009128  2.00002134 -1.00003115  0.9999881 ]\n"
          ]
        },
        {
          "output_type": "execute_result",
          "data": {
            "text/plain": [
              "(6, array([ 1.00000836,  2.00000117, -1.00000275,  0.99999922]))"
            ]
          },
          "metadata": {},
          "execution_count": 64
        }
      ]
    },
    {
      "cell_type": "markdown",
      "source": [
        "### Observacion\n",
        "En este ejemplo el metodo de Gauss -Seidel llego mas rapido que Jacobi, sin embargo esto no siempre es asi. Hay sistemas para los que Gauss -Seidel no converge y Jacobi si.\n"
      ],
      "metadata": {
        "id": "egdmOsW63-0y"
      }
    },
    {
      "cell_type": "code",
      "source": [
        "A2 = np.array([[1, 2, -2], [1, 1, 1], [2, 2, 1]])\n",
        "b2 = np.array([7,2,5])\n",
        "x0 = np.zeros(3)\n"
      ],
      "metadata": {
        "id": "ep6O9amg73rU"
      },
      "execution_count": null,
      "outputs": []
    },
    {
      "cell_type": "code",
      "source": [
        "# con jacobi:\n",
        "\n",
        "jacobi(A2, b2, x0, tol = 1e-5)"
      ],
      "metadata": {
        "colab": {
          "base_uri": "https://localhost:8080/"
        },
        "id": "y8TLVIA54jZg",
        "outputId": "d27e0e2c-6d25-484e-c994-4addc6a6aadd"
      },
      "execution_count": null,
      "outputs": [
        {
          "output_type": "stream",
          "name": "stdout",
          "text": [
            " en la iteracion 0-esima, x es : [7. 2. 5.]\n",
            " en la iteracion 1-esima, x es : [ 13. -10. -13.]\n",
            " en la iteracion 2-esima, x es : [ 1.  2. -1.]\n"
          ]
        },
        {
          "output_type": "execute_result",
          "data": {
            "text/plain": [
              "(3, array([ 1.,  2., -1.]))"
            ]
          },
          "metadata": {},
          "execution_count": 47
        }
      ]
    },
    {
      "cell_type": "code",
      "source": [
        "gauss_seidel(A2, b2, x0, tol= 1e-5)"
      ],
      "metadata": {
        "colab": {
          "base_uri": "https://localhost:8080/"
        },
        "id": "aG8kMpEf4qfd",
        "outputId": "b606d345-38c4-4413-eaa2-2d958fa95e12"
      },
      "execution_count": null,
      "outputs": [
        {
          "output_type": "stream",
          "name": "stdout",
          "text": [
            " en la iteracion 0-esima, x es : [ 7. -5.  1.]\n",
            " en la iteracion 1-esima, x es : [ 19. -18.   3.]\n",
            " en la iteracion 2-esima, x es : [ 49. -50.   7.]\n",
            " en la iteracion 3-esima, x es : [ 121. -126.   15.]\n",
            " en la iteracion 4-esima, x es : [ 289. -302.   31.]\n",
            " en la iteracion 5-esima, x es : [ 673. -702.   63.]\n",
            " en la iteracion 6-esima, x es : [ 1537. -1598.   127.]\n",
            " en la iteracion 7-esima, x es : [ 3457. -3582.   255.]\n",
            " en la iteracion 8-esima, x es : [ 7681. -7934.   511.]\n",
            " en la iteracion 9-esima, x es : [ 16897. -17406.   1023.]\n",
            " en la iteracion 10-esima, x es : [ 36865. -37886.   2047.]\n",
            " en la iteracion 11-esima, x es : [ 79873. -81918.   4095.]\n",
            " en la iteracion 12-esima, x es : [ 172033. -176126.    8191.]\n",
            " en la iteracion 13-esima, x es : [ 368641. -376830.   16383.]\n",
            " en la iteracion 14-esima, x es : [ 786433. -802814.   32767.]\n",
            " en la iteracion 15-esima, x es : [ 1671169. -1703934.    65535.]\n",
            " en la iteracion 16-esima, x es : [ 3538945. -3604478.   131071.]\n",
            " en la iteracion 17-esima, x es : [ 7471105. -7602174.   262143.]\n",
            " en la iteracion 18-esima, x es : [ 15728641. -15990782.    524287.]\n",
            " en la iteracion 19-esima, x es : [ 33030145. -33554430.   1048575.]\n",
            " en la iteracion 20-esima, x es : [ 69206017. -70254590.   2097151.]\n",
            " en la iteracion 21-esima, x es : [ 1.44703489e+08 -1.46800638e+08  4.19430300e+06]\n",
            " en la iteracion 22-esima, x es : [ 3.01989889e+08 -3.06184190e+08  8.38860700e+06]\n",
            " en la iteracion 23-esima, x es : [ 6.29145601e+08 -6.37534206e+08  1.67772150e+07]\n",
            " en la iteracion 24-esima, x es : [ 1.30862285e+09 -1.32540006e+09  3.35544310e+07]\n",
            " en la iteracion 25-esima, x es : [ 2.71790899e+09 -2.75146342e+09  6.71088630e+07]\n",
            " en la iteracion 26-esima, x es : [ 5.63714458e+09 -5.70425344e+09  1.34217727e+08]\n",
            " en la iteracion 27-esima, x es : [ 1.16769423e+10 -1.18111601e+10  2.68435455e+08]\n",
            " en la iteracion 28-esima, x es : [ 2.41591910e+10 -2.44276265e+10  5.36870911e+08]\n",
            " en la iteracion 29-esima, x es : [ 4.99289948e+10 -5.04658657e+10  1.07374182e+09]\n",
            " en la iteracion 30-esima, x es : [ 1.03079215e+11 -1.04152957e+11  2.14748365e+09]\n",
            " en la iteracion 31-esima, x es : [ 2.12600881e+11 -2.14748365e+11  4.29496730e+09]\n",
            " en la iteracion 32-esima, x es : [ 4.38086664e+11 -4.42381631e+11  8.58993459e+09]\n",
            " en la iteracion 33-esima, x es : [ 9.01943132e+11 -9.10533067e+11  1.71798692e+10]\n",
            " en la iteracion 34-esima, x es : [ 1.85542587e+12 -1.87260574e+12  3.43597384e+10]\n",
            " en la iteracion 35-esima, x es : [ 3.81393096e+12 -3.84829070e+12  6.87194767e+10]\n",
            " en la iteracion 36-esima, x es : [ 7.83402035e+12 -7.90273982e+12  1.37438953e+11]\n",
            " en la iteracion 37-esima, x es : [ 1.60803576e+13 -1.62177965e+13  2.74877907e+11]\n",
            " en la iteracion 38-esima, x es : [ 3.29853488e+13 -3.32602267e+13  5.49755814e+11]\n",
            " en la iteracion 39-esima, x es : [ 6.76199651e+13 -6.81697209e+13  1.09951163e+12]\n",
            " en la iteracion 40-esima, x es : [ 1.38538465e+14 -1.39637977e+14  2.19902326e+12]\n",
            " en la iteracion 41-esima, x es : [ 2.83674000e+14 -2.85873023e+14  4.39804651e+12]\n",
            " en la iteracion 42-esima, x es : [ 5.80542139e+14 -5.84940186e+14  8.79609302e+12]\n",
            " en la iteracion 43-esima, x es : [ 1.18747256e+15 -1.19626865e+15  1.75921860e+13]\n",
            " en la iteracion 44-esima, x es : [ 2.42772167e+15 -2.44531386e+15  3.51843721e+13]\n",
            " en la iteracion 45-esima, x es : [ 4.96099646e+15 -4.99618084e+15  7.03687442e+13]\n",
            " en la iteracion 46-esima, x es : [ 1.01330992e+16 -1.02034679e+16  1.40737488e+14]\n",
            " en la iteracion 47-esima, x es : [ 2.06884108e+16 -2.08291483e+16  2.81474977e+14]\n",
            " en la iteracion 48-esima, x es : [ 4.22212465e+16 -4.25027215e+16  5.62949953e+14]\n",
            " en la iteracion 49-esima, x es : [ 8.61313429e+16 -8.66942928e+16  1.12589991e+15]\n",
            " en la iteracion 50-esima, x es : [ 1.75640385e+17 -1.76766285e+17  2.25179981e+15]\n",
            " en la iteracion 51-esima, x es : [ 3.58036170e+17 -3.60287970e+17  4.50359963e+15]\n",
            " en la iteracion 52-esima, x es : [ 7.29583140e+17 -7.34086739e+17  9.00719925e+15]\n",
            " en la iteracion 53-esima, x es : [ 1.48618788e+18 -1.49519508e+18  1.80143985e+16]\n",
            " en la iteracion 54-esima, x es : [ 3.02641895e+18 -3.04443335e+18  3.60287970e+16]\n",
            " en la iteracion 55-esima, x es : [ 6.16092429e+18 -6.19695309e+18  7.20575940e+16]\n",
            " en la iteracion 56-esima, x es : [ 1.25380214e+19 -1.26100790e+19  1.44115188e+17]\n",
            " en la iteracion 57-esima, x es : [ 2.55083883e+19 -2.56525035e+19  2.88230376e+17]\n",
            " en la iteracion 58-esima, x es : [ 5.18814677e+19 -5.21696981e+19  5.76460752e+17]\n",
            " en la iteracion 59-esima, x es : [ 1.05492318e+20 -1.06068778e+20  1.15292150e+18]\n",
            " en la iteracion 60-esima, x es : [ 2.14443400e+20 -2.15596321e+20  2.30584301e+18]\n",
            " en la iteracion 61-esima, x es : [ 4.35804329e+20 -4.38110172e+20  4.61168602e+18]\n",
            " en la iteracion 62-esima, x es : [ 8.85443716e+20 -8.90055402e+20  9.22337204e+18]\n",
            " en la iteracion 63-esima, x es : [ 1.79855755e+21 -1.80778092e+21  1.84467441e+19]\n",
            " en la iteracion 64-esima, x es : [ 3.65245533e+21 -3.67090207e+21  3.68934881e+19]\n",
            " en la iteracion 65-esima, x es : [ 7.41559112e+21 -7.45248461e+21  7.37869763e+19]\n",
            " en la iteracion 66-esima, x es : [ 1.50525432e+22 -1.51263301e+22  1.47573953e+20]\n",
            " en la iteracion 67-esima, x es : [ 3.05478082e+22 -3.06953821e+22  2.95147905e+20]\n",
            " en la iteracion 68-esima, x es : [ 6.19810601e+22 -6.22762080e+22  5.90295810e+20]\n",
            " en la iteracion 69-esima, x es : [ 1.25733008e+23 -1.26323303e+23  1.18059162e+21]\n",
            " en la iteracion 70-esima, x es : [ 2.55007790e+23 -2.56188382e+23  2.36118324e+21]\n",
            " en la iteracion 71-esima, x es : [ 5.17099130e+23 -5.19460313e+23  4.72236648e+21]\n",
            " en la iteracion 72-esima, x es : [ 1.04836536e+24 -1.05308773e+24  9.44473297e+21]\n",
            " en la iteracion 73-esima, x es : [ 2.12506492e+24 -2.13450965e+24  1.88894659e+22]\n",
            " en la iteracion 74-esima, x es : [ 4.30679823e+24 -4.32568770e+24  3.77789319e+22]\n",
            " en la iteracion 75-esima, x es : [ 8.72693326e+24 -8.76471219e+24  7.55578637e+22]\n",
            " en la iteracion 76-esima, x es : [ 1.76805401e+25 -1.77560980e+25  1.51115727e+23]\n",
            " en la iteracion 77-esima, x es : [ 3.58144274e+25 -3.59655431e+25  3.02231455e+23]\n",
            " en la iteracion 78-esima, x es : [ 7.25355492e+25 -7.28377806e+25  6.04462910e+23]\n",
            " en la iteracion 79-esima, x es : [ 1.46884487e+26 -1.47488950e+26  1.20892582e+24]\n",
            " en la iteracion 80-esima, x es : [ 2.97395752e+26 -2.98604677e+26  2.41785164e+24]\n",
            " en la iteracion 81-esima, x es : [ 6.02045058e+26 -6.04462910e+26  4.83570328e+24]\n",
            " en la iteracion 82-esima, x es : [ 1.21859723e+27 -1.22343293e+27  9.67140656e+24]\n",
            " en la iteracion 83-esima, x es : [ 2.46620867e+27 -2.47588008e+27  1.93428131e+25]\n",
            " en la iteracion 84-esima, x es : [ 4.99044578e+27 -5.00978860e+27  3.86856262e+25]\n",
            " en la iteracion 85-esima, x es : [ 1.00969484e+28 -1.01356341e+28  7.73712525e+25]\n",
            " en la iteracion 86-esima, x es : [ 2.04260106e+28 -2.05033819e+28  1.54742505e+26]\n",
            " en la iteracion 87-esima, x es : [ 4.13162488e+28 -4.14709913e+28  3.09485010e+26]\n",
            " en la iteracion 88-esima, x es : [ 8.35609527e+28 -8.38704377e+28  6.18970020e+26]\n",
            " en la iteracion 89-esima, x es : [ 1.68978815e+29 -1.69597785e+29  1.23794004e+27]\n",
            " en la iteracion 90-esima, x es : [ 3.41671451e+29 -3.42909391e+29  2.47588008e+27]\n",
            " en la iteracion 91-esima, x es : [ 6.90770542e+29 -6.93246422e+29  4.95176016e+27]\n",
            " en la iteracion 92-esima, x es : [ 1.39639636e+30 -1.40134812e+30  9.90352031e+27]\n",
            " en la iteracion 93-esima, x es : [ 2.82250329e+30 -2.83240681e+30  1.98070406e+28]\n",
            " en la iteracion 94-esima, x es : [ 5.70442770e+30 -5.72423474e+30  3.96140813e+28]\n",
            " en la iteracion 95-esima, x es : [ 1.15276976e+31 -1.15673117e+31  7.92281625e+28]\n",
            " en la iteracion 96-esima, x es : [ 2.32930798e+31 -2.33723079e+31  1.58456325e+29]\n",
            " en la iteracion 97-esima, x es : [ 4.70615285e+31 -4.72199849e+31  3.16912650e+29]\n",
            " en la iteracion 98-esima, x es : [ 9.50737950e+31 -9.53907077e+31  6.33825300e+29]\n",
            " en la iteracion 99-esima, x es : [ 1.92049066e+32 -1.92682891e+32  1.26765060e+30]\n",
            " en la iteracion 100-esima, x es : [ 3.87901084e+32 -3.89168734e+32  2.53530120e+30]\n",
            "despues de 100 pasos no se llegó a una aproximacion deseada\n"
          ]
        },
        {
          "output_type": "execute_result",
          "data": {
            "text/plain": [
              "(101, array([ 7.83408071e+32, -7.85943372e+32,  5.07060240e+30]))"
            ]
          },
          "metadata": {},
          "execution_count": 48
        }
      ]
    },
    {
      "cell_type": "code",
      "source": [
        "np.linalg.solve(A2, b2)"
      ],
      "metadata": {
        "colab": {
          "base_uri": "https://localhost:8080/"
        },
        "id": "tfAldASn442F",
        "outputId": "80c29d13-154c-4176-9dbd-512f5d42a451"
      },
      "execution_count": null,
      "outputs": [
        {
          "output_type": "execute_result",
          "data": {
            "text/plain": [
              "array([ 1.,  2., -1.])"
            ]
          },
          "metadata": {},
          "execution_count": 49
        }
      ]
    },
    {
      "cell_type": "code",
      "source": [],
      "metadata": {
        "id": "3oS5DuOB4_C6"
      },
      "execution_count": null,
      "outputs": []
    }
  ]
}