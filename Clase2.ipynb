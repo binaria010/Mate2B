{
  "nbformat": 4,
  "nbformat_minor": 0,
  "metadata": {
    "colab": {
      "provenance": [],
      "authorship_tag": "ABX9TyORtjFmHeZj0mY+VcJzpjw2",
      "include_colab_link": true
    },
    "kernelspec": {
      "name": "python3",
      "display_name": "Python 3"
    },
    "language_info": {
      "name": "python"
    }
  },
  "cells": [
    {
      "cell_type": "markdown",
      "metadata": {
        "id": "view-in-github",
        "colab_type": "text"
      },
      "source": [
        "<a href=\"https://colab.research.google.com/github/binaria010/Mate2B/blob/main/Clase2.ipynb\" target=\"_parent\"><img src=\"https://colab.research.google.com/assets/colab-badge.svg\" alt=\"Open In Colab\"/></a>"
      ]
    },
    {
      "cell_type": "markdown",
      "source": [
        "# Clase 2: Practica 1\n",
        "Que veremos:\n",
        "\n",
        "1. Polinomio de Taylor y el calculo de su resto\n",
        "2. acotar el error \"a mano\" y usando python\n",
        "3. ploteamos funciones y distintos polinomios\n",
        "4. Hallar n para lograr un error menor a algo.\n",
        "\n"
      ],
      "metadata": {
        "id": "1_64OqoLs_HU"
      }
    },
    {
      "cell_type": "code",
      "source": [
        "import numpy as np #paquete para manejar arreglos\n",
        "from matplotlib import pyplot as plt #para graficar\n",
        "\n",
        "plt.rcParams[\"figure.figsize\"] = (20,7) #tamaño de los gráficos: ancho x alto"
      ],
      "metadata": {
        "id": "5Jz6yy6H3FWC"
      },
      "execution_count": null,
      "outputs": []
    },
    {
      "cell_type": "markdown",
      "source": [
        "# Calcular un polinomio de Taylor y graficarlo junto con la función\n",
        "\n",
        "## Objetivo: graficar $\\cos(x)$ y pol. Taylor con $x_0 = 1$ entre -4 y 7, para órdenes 1, 2 y 3."
      ],
      "metadata": {
        "id": "ms4bfeJjrHD8"
      }
    },
    {
      "cell_type": "code",
      "execution_count": null,
      "source": [
        "def func(x):\n",
        "  y = np.cos(x)\n",
        "  return y\n",
        "\n",
        "# defino pols de taylor\n",
        "def taylor1(x):\n",
        "    y = np.cos(1) - np.sin(1)*(x-1)\n",
        "    return y\n",
        "\n",
        "def taylor2(x):\n",
        "    y = np.cos(1) - np.sin(1)*(x-1) - (np.cos(1)/2) * (x-1)**2\n",
        "    return y\n",
        "\n",
        "def taylor3(x):\n",
        "    y = np.cos(1) - np.sin(1)*(x-1) - (np.cos(1)/2) * (x-1)**2 + (np.sin(1)/np.math.factorial(3))*(x-1)**3\n",
        "    #otra forma\n",
        "    # y = taylor2(x) - (np.cos(1)/np.math.factorial(3))*(x-1)**3\n",
        "    return y\n",
        "\n"
      ],
      "outputs": [],
      "metadata": {
        "id": "PFCvlF3VrHD9"
      }
    },
    {
      "cell_type": "code",
      "source": [
        "print(\"usando el Taylor de orden 3 tenenmos cos(1.1) es aprox: \", taylor3(1.1))\n",
        "print(\"usando python para calcular cos(1.1)\", np.cos(1.1))"
      ],
      "metadata": {
        "colab": {
          "base_uri": "https://localhost:8080/"
        },
        "id": "5AmWJSJi0_m4",
        "outputId": "baf39b39-f9ee-4682-c0e9-56fb0fc1bdb1"
      },
      "execution_count": null,
      "outputs": [
        {
          "output_type": "stream",
          "name": "stdout",
          "text": [
            "usando el Taylor de orden 3 tenenmos cos(1.1) es aprox:  0.45359394102214395\n",
            "usando python para calcular cos(1.1) 0.4535961214255773\n"
          ]
        }
      ]
    },
    {
      "cell_type": "code",
      "source": [
        "# np.math.factorial(3) #factorial\n"
      ],
      "metadata": {
        "id": "AgrsMS4X0s-3"
      },
      "execution_count": null,
      "outputs": []
    },
    {
      "cell_type": "code",
      "execution_count": null,
      "source": [
        "\n",
        "\n",
        "valores_x = np.linspace(-5,7,10000)\n",
        "valores_y = func(valores_x)\n",
        "valores_taylor1 = taylor1(valores_x)\n",
        "valores_taylor2 = taylor2(valores_x)\n",
        "valores_taylor3 = taylor3(valores_x)"
      ],
      "outputs": [],
      "metadata": {
        "id": "QQGNguxSrHD-"
      }
    },
    {
      "cell_type": "code",
      "execution_count": null,
      "source": [
        "plt.subplot(131)\n",
        "plt.plot(valores_x, valores_y, label=\"$\\cos(x)$\") #función cos(x)\n",
        "plt.plot(valores_x, valores_taylor1, label=\"orden 1\") #taylor órden 1\n",
        "plt.axvline(x = 1, linestyle = 'dashed', linewidth = 0.3, color = \"black\")\n",
        "plt.legend() #muestra las etiquetas\n",
        "\n",
        "plt.subplot(132)\n",
        "plt.plot(valores_x, valores_y, label=\"$\\cos(x)$\") #función cos(x)\n",
        "plt.plot(valores_x, valores_taylor2, label=\"orden 2\") #taylor órden 2\n",
        "plt.axvline(x = 1, linestyle = 'dashed', linewidth = 0.3, color = \"black\")\n",
        "plt.legend()\n",
        "\n",
        "plt.subplot(133)\n",
        "plt.plot(valores_x, valores_y, label=\"$\\cos(x)$\") #función cos(x)\n",
        "plt.plot(valores_x, valores_taylor3, label=\"orden 3\") #taylor órden 3\n",
        "plt.axvline(x = 1, linestyle = 'dashed', linewidth = 0.3, color = \"black\")\n",
        "plt.legend()\n",
        "plt.ylim(-2,2)\n",
        "plt.show()\n"
      ],
      "outputs": [
        {
          "output_type": "display_data",
          "data": {
            "text/plain": [
              "<Figure size 1440x504 with 3 Axes>"
            ],
            "image/png": "[encoded data removed]"
          },
          "metadata": {
            "needs_background": "light"
          }
        }
      ],
      "metadata": {
        "colab": {
          "base_uri": "https://localhost:8080/",
          "height": 432
        },
        "id": "M0tJB7D-rHD_",
        "outputId": "1d46a479-b22b-4c4e-cff0-bd2aec63344f"
      }
    },
    {
      "cell_type": "code",
      "source": [
        "\n",
        "\n",
        "\n"
      ],
      "metadata": {
        "id": "nkhgI5i4SrON"
      },
      "execution_count": null,
      "outputs": []
    },
    {
      "cell_type": "markdown",
      "source": [
        "# Chequear errores\n",
        "\n",
        "## Objetivo: aproximar cos(1.1) con distintos órdenes y ver el error que se está cometiendo."
      ],
      "metadata": {
        "id": "0mzy2I4rrHEB"
      }
    },
    {
      "cell_type": "code",
      "execution_count": null,
      "source": [
        "a = 1.1\n",
        "print(np.cos(a)) \n",
        "print(taylor1(a)) #aprox a orden 1\n",
        "print(taylor2(a)) #aprox a orden 2\n",
        "print(taylor3(a)) #aprox a orden 3\n",
        "\n",
        "print(\"-------------------------------------\")\n",
        "print(\"error orden 1: \", np.abs(taylor1(a) - func(a)))\n",
        "print(\"error orden 2: \", np.abs(taylor2(a) - func(a)))\n",
        "print(\"error orden 3: \", np.abs(taylor2(a) - func(a)))"
      ],
      "outputs": [
        {
          "output_type": "stream",
          "name": "stdout",
          "text": [
            "0.4535961214255773\n",
            "0.45615520738735005\n",
            "0.4534536958580093\n",
            "0.45359394102214395\n",
            "-------------------------------------\n",
            "error orden 1:  0.0025590859617727335\n",
            "error orden 2:  0.00014242556756799418\n",
            "error orden 3:  0.00014242556756799418\n"
          ]
        }
      ],
      "metadata": {
        "colab": {
          "base_uri": "https://localhost:8080/"
        },
        "id": "ZM0pwYIwrHEB",
        "outputId": "10054f2e-d9d2-4ff0-e60c-aa39feca697e"
      }
    },
    {
      "cell_type": "markdown",
      "source": [
        "# Averiguar el orden para que el error sea menor a uno deseado\n",
        "## Objetivo: acotar el error del pol. Taylor para cos(x) con $x_0 = 1$, y encontrar el órden para asegurar error menor a cierto valor."
      ],
      "metadata": {
        "id": "xfay2MbxrHEC"
      }
    },
    {
      "cell_type": "code",
      "execution_count": null,
      "source": [
        "# primero hacer a mano. Recordar que el objetivo es aproximar sen(1.1)\n",
        "\n",
        "def cota_error_taylor(n):\n",
        "    error = (0.1)**(n+1) / np.math.factorial(n+1)\n",
        "    return error\n",
        "\n"
      ],
      "outputs": [],
      "metadata": {
        "id": "bGgEN9rJrHED"
      }
    },
    {
      "cell_type": "markdown",
      "source": [
        "Si queremos hallar el $n$ para que el error sea menor que $10^{-6}$ lo podemos hacer con un while:"
      ],
      "metadata": {
        "id": "idCX1JwgxUWn"
      }
    },
    {
      "cell_type": "code",
      "source": [
        "err = 1e-6  #10^-6\n",
        "n = 1\n",
        "while cota_error_taylor(n) > err:\n",
        "    n = n + 1\n",
        "\n",
        "print(n)"
      ],
      "metadata": {
        "colab": {
          "base_uri": "https://localhost:8080/"
        },
        "id": "gWgmU-5SxTA-",
        "outputId": "dfc842d9-84f2-464c-908a-6643e6df1ef3"
      },
      "execution_count": null,
      "outputs": [
        {
          "output_type": "stream",
          "name": "stdout",
          "text": [
            "4\n"
          ]
        }
      ]
    },
    {
      "cell_type": "markdown",
      "source": [
        "La funcion math.factorial de numpy solo calcula factorial de un escalar (entero). Tenenmos otra funcion que calcula el factorial de un vector (coordenanda a coordenada). Para esto importamos esta funcion de la libreria scipy\n",
        "\n",
        "***from scipy.special import factorial ***"
      ],
      "metadata": {
        "id": "UhusYpNtwshd"
      }
    },
    {
      "cell_type": "code",
      "source": [
        "from scipy.special import factorial\n",
        "def cota_err(n):\n",
        "    error = (0.1)**(n+1) / factorial(n+1)\n",
        "    return error\n"
      ],
      "metadata": {
        "id": "7aK3eQ8lxicJ"
      },
      "execution_count": null,
      "outputs": []
    },
    {
      "cell_type": "code",
      "source": [
        "N = np.array(range(1,10))\n",
        "cota_err(N)\n"
      ],
      "metadata": {
        "colab": {
          "base_uri": "https://localhost:8080/"
        },
        "id": "-1LW3JgkoenB",
        "outputId": "65997d8f-0258-41b1-a88b-eff705589d3a"
      },
      "execution_count": null,
      "outputs": [
        {
          "output_type": "execute_result",
          "data": {
            "text/plain": [
              "array([5.00000000e-03, 1.66666667e-04, 4.16666667e-06, 8.33333333e-08,\n",
              "       1.38888889e-09, 1.98412698e-11, 2.48015873e-13, 2.75573192e-15,\n",
              "       2.75573192e-17])"
            ]
          },
          "metadata": {},
          "execution_count": 20
        }
      ]
    },
    {
      "cell_type": "code",
      "source": [
        "plt.scatter(N, np.log10(cota_err(N)), s = range(20, 2, -2), color = \"r\")\n",
        "plt.show()"
      ],
      "metadata": {
        "colab": {
          "base_uri": "https://localhost:8080/",
          "height": 428
        },
        "id": "1gPgN8RgyCYu",
        "outputId": "c5ee2ff5-969d-40ea-c656-f7af92eb3940"
      },
      "execution_count": null,
      "outputs": [
        {
          "output_type": "display_data",
          "data": {
            "text/plain": [
              "<Figure size 1440x504 with 1 Axes>"
            ],
            "image/png": "[encoded data removed]"
          },
          "metadata": {
            "needs_background": "light"
          }
        }
      ]
    },
    {
      "cell_type": "code",
      "source": [
        "np.arange(20, 10,-1)"
      ],
      "metadata": {
        "colab": {
          "base_uri": "https://localhost:8080/"
        },
        "id": "DMf_TZIR0jow",
        "outputId": "e4d74236-2fe3-4efe-90ff-c35a2f206c78"
      },
      "execution_count": null,
      "outputs": [
        {
          "output_type": "execute_result",
          "data": {
            "text/plain": [
              "array([20, 19, 18, 17, 16, 15, 14, 13, 12, 11])"
            ]
          },
          "metadata": {},
          "execution_count": 42
        }
      ]
    },
    {
      "cell_type": "markdown",
      "source": [
        "Veamos que en este caso podemos dar una expresion general del resto de Taylor:$R_n(x)$"
      ],
      "metadata": {
        "id": "zBMp5Q_JfTca"
      }
    },
    {
      "cell_type": "code",
      "source": [
        "#@title\n",
        "#definamos la derviada de orden k de f:\n",
        "def der_f(k, x):\n",
        "\n",
        "    if k%2 == 0:\n",
        "      f_k = (-1)**(k/2 +2)*np.cos(x)\n",
        "    else:\n",
        "      f_k = (-1)**((k+1)/2)*np.sin(x)\n",
        "\n",
        "    return f_k\n",
        "\n",
        "\n",
        "def Resto_taylor(n, a, y):\n",
        "    \n",
        "    R = der_f(n+1, y)/(np.math.factorial(n+1))*(a - 1)**(n+1) \n",
        "\n",
        "    return R\n",
        "\n"
      ],
      "metadata": {
        "id": "zr5y2WMCfSS3",
        "cellView": "form"
      },
      "execution_count": null,
      "outputs": []
    },
    {
      "cell_type": "code",
      "source": [
        "#@title\n",
        "y = np.linspace(1,1.1, 30)\n",
        "R = Resto_taylor(2, 1.1, y)\n",
        "\n",
        "plt.plot(y, (np.abs(R)), linestyle = 'dashed', color = 'black')\n",
        "plt.plot(y, (np.abs(np.sin(y)/6*(0.1)**3)), color = 'yellow')"
      ],
      "metadata": {
        "id": "jDt9sAegfmEQ",
        "cellView": "form"
      },
      "execution_count": null,
      "outputs": []
    },
    {
      "cell_type": "code",
      "source": [
        "#@title\n",
        "y = np.linspace(1,1.1, 30)\n",
        "a = 1.1\n",
        "for n in range(2, 5):\n",
        "    R = np.abs(Resto_taylor(n, a, y))\n",
        "    plt.figure(figsize=(8,6))\n",
        "    plt.plot(y, (R), label = \"Resto de orden \"+str(n))\n",
        "    plt.legend()\n",
        "    plt.ylim(np.min(R), np.max(R))"
      ],
      "metadata": {
        "id": "8IiKLRd_iLhz",
        "cellView": "form"
      },
      "execution_count": null,
      "outputs": []
    },
    {
      "cell_type": "markdown",
      "source": [
        "# Ejercicio\n",
        "##- Graficar $e^x$ entre -3 y 2\n",
        "##- Graficar los pols. de Taylor de órdenes 1, 2 y 3 con $x_0=0$ junto a la función\n",
        "##- Aproximar $e^{0.2}$ y ver el error que se está cometiendo para cada órden.\n",
        "##- Acotar el error de Taylor y encontrar el órden para que el error sea menor a $10^{-10}$"
      ],
      "metadata": {
        "id": "M9muAyQsrHEE"
      }
    }
  ]
}