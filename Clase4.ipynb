{
  "nbformat": 4,
  "nbformat_minor": 0,
  "metadata": {
    "colab": {
      "provenance": [],
      "authorship_tag": "ABX9TyMP7fNPnfjPGGzFVNdlQWg3",
      "include_colab_link": true
    },
    "kernelspec": {
      "name": "python3",
      "display_name": "Python 3"
    },
    "language_info": {
      "name": "python"
    }
  },
  "cells": [
    {
      "cell_type": "markdown",
      "metadata": {
        "id": "view-in-github",
        "colab_type": "text"
      },
      "source": [
        "<a href=\"https://colab.research.google.com/github/binaria010/Mate2B/blob/main/Clase4.ipynb\" target=\"_parent\"><img src=\"https://colab.research.google.com/assets/colab-badge.svg\" alt=\"Open In Colab\"/></a>"
      ]
    },
    {
      "cell_type": "markdown",
      "source": [
        "# Ceros de Chebyshev e interpolación de Hermite\n",
        "\n",
        "1. Primero acotamos el error en la interpolación de $f(x) = \\frac{1}{(1+x)^2}$ con $x\\in[0,3]$\n",
        "  *   Usando nodos (puntos para interpolar) equiespaciados\n",
        "  *   Usando los nodos de Chebyshev (las raíces del polinomio de     Chebyshev)\n",
        "\n",
        "2. Vamos a la compu e implementamos funciones para estas cotas. De esta forma podemos calcular el grado del polinomio para que el error sea menor que uno deseado.\n",
        "\n",
        "3. Para la funcion de l item 1 calculamos polinomio interpolante segun criterio de Chebyshev de grado 4 y en nodos equiespaciados y graficamos\n",
        "\n"
      ],
      "metadata": {
        "id": "ioOFg-vchsvV"
      }
    },
    {
      "cell_type": "code",
      "execution_count": 24,
      "metadata": {
        "id": "KbUO8e39hnrs"
      },
      "outputs": [],
      "source": [
        "import numpy as np\n",
        "import matplotlib.pyplot as plt\n",
        "from scipy.special import factorial\n",
        "from scipy.interpolate import lagrange"
      ]
    },
    {
      "cell_type": "markdown",
      "source": [
        "\n",
        "\n",
        "como $f^{(k)}(x)= (-1)^{k+1}\\frac{(k+1)!}{(1+x)^{k+1}}$ tenemos como cotas para el error:\n",
        "\n",
        "* Si usamos nodos equiespaciados en $[0,3]$ tenemos dos cotas conocidas, una mas fina que la otra\n",
        "$$\n",
        "|r_n(x)|\\leq \\frac{n!(n+2)}{4}\\left(\\frac{3}{n}\\right)^{n+1}\n",
        "$$\n",
        "\n",
        "$$\n",
        "|r_n(x)|\\leq (n+2)\\left(\\frac{3}{2}\\right)^{n+1}\n",
        "$$\n",
        "\n",
        "* si usamos como nodos las raices de Chebyshev en $[0, 3]$:\n",
        "$$\n",
        "|r_n(x)|\\leq \\frac{(n+2)}{2^{n+1}}\\left(\\frac{3}{2}\\right)^{n+1}\n",
        "$$\n"
      ],
      "metadata": {
        "id": "NwYanoG-U1O0"
      }
    },
    {
      "cell_type": "code",
      "source": [
        "def cota_equi(n):\n",
        "    \n",
        "    cota = factorial(n)*(n+2)/4*(3/n)**(n+1)\n",
        "    \n",
        "    return cota\n",
        "\n",
        "def cota_cheby(n):\n",
        "\n",
        "    cota = ((n+2)*(3/2)**(n+1))/(2**n)\n",
        "\n",
        "    return cota\n",
        "\n",
        "def cota_equi2(n):\n",
        "\n",
        "    cota = (3/2)**(n+1)*(n+2)\n",
        "\n",
        "    return cota\n"
      ],
      "metadata": {
        "id": "UY56iGtiU0RY"
      },
      "execution_count": 2,
      "outputs": []
    },
    {
      "cell_type": "code",
      "source": [
        "cotaequi = [cota_equi(n) for n in range(1,8)]\n",
        "cotaequi2 = [cota_equi2(n) for n in range(1,8)]\n",
        "cotacheby = [cota_cheby(n) for n in range(1,8)]\n",
        "\n",
        "print(cotaequi)\n",
        "print(cotaequi2)\n",
        "print(cotacheby)"
      ],
      "metadata": {
        "colab": {
          "base_uri": "https://localhost:8080/"
        },
        "id": "kZUte8YJYfbM",
        "outputId": "24fc65f0-267a-4434-9966-499d9255cf7d"
      },
      "execution_count": 3,
      "outputs": [
        {
          "output_type": "stream",
          "name": "stdout",
          "text": [
            "[6.75, 6.75, 7.5, 8.54296875, 9.797759999999998, 11.25, 12.906211333227281]\n",
            "[6.75, 13.5, 25.3125, 45.5625, 79.734375, 136.6875, 230.66015625]\n",
            "[3.375, 3.375, 3.1640625, 2.84765625, 2.49169921875, 2.1357421875, 1.802032470703125]\n"
          ]
        }
      ]
    },
    {
      "cell_type": "markdown",
      "source": [
        "Ahora calculemos el grado del polinomio interpolador (en los nodos de Chebyshev) si se desea un error de como mucho $10^{-3}$:"
      ],
      "metadata": {
        "id": "2iTeZo_nduOh"
      }
    },
    {
      "cell_type": "code",
      "source": [
        "error = 1e-3\n",
        "\n",
        "n = 1\n",
        "\n",
        "while cota_cheby(n) > error:\n",
        "  n = n+1\n",
        "\n",
        "print(\"el grado es: \", n)"
      ],
      "metadata": {
        "colab": {
          "base_uri": "https://localhost:8080/"
        },
        "id": "airIfY7vYVLP",
        "outputId": "06cf4a91-2d84-4e4e-9dca-44d93b871e2c"
      },
      "execution_count": 4,
      "outputs": [
        {
          "output_type": "stream",
          "name": "stdout",
          "text": [
            "el grado es:  39\n"
          ]
        }
      ]
    },
    {
      "cell_type": "markdown",
      "source": [
        "Ahora vamos a calcular el polinio interpolador usando los nodos de Chebyshev. Para esto necesitamos calcular de forma automatizada los ceros!"
      ],
      "metadata": {
        "id": "onlq_wvUgDfW"
      }
    },
    {
      "cell_type": "markdown",
      "source": [
        "## Implementemos una función que nos de el polinomio de Chebyshev de grado n"
      ],
      "metadata": {
        "id": "jRJ6p6RnrsBx"
      }
    },
    {
      "cell_type": "code",
      "source": [
        "def Cheby(n,x):\n",
        "    \n",
        "    if n == 0:\n",
        "        T = 1\n",
        "    elif n == 1:\n",
        "        T = x\n",
        "    else: \n",
        "        T = 2*x*Cheby(n-1,x) - Cheby(n-2,x)\n",
        "    return T"
      ],
      "metadata": {
        "id": "F_LaYAC7rrPT"
      },
      "execution_count": 5,
      "outputs": []
    },
    {
      "cell_type": "markdown",
      "source": [
        "Versión pro! de esta función: queremos que nos devuelva un objeto polinomio de python!"
      ],
      "metadata": {
        "id": "6Hct6Jgmt8UX"
      }
    },
    {
      "cell_type": "code",
      "source": [
        "def Chebyshev(n):\n",
        "    if n == 0:\n",
        "        return(np.poly1d([1]))\n",
        "    if n == 1:\n",
        "        return(np.poly1d([1,0]))\n",
        "    else:\n",
        "        px = np.poly1d([1,0])\n",
        "        return(2 * px * Chebyshev(n-1) - Chebyshev(n-2))\n"
      ],
      "metadata": {
        "id": "msAiHAIJuJFU"
      },
      "execution_count": 6,
      "outputs": []
    },
    {
      "cell_type": "code",
      "source": [
        "print(Chebyshev(5))"
      ],
      "metadata": {
        "colab": {
          "base_uri": "https://localhost:8080/"
        },
        "id": "zSFcRTM0uHvY",
        "outputId": "b10f81a7-0b51-435a-8ebc-313f099f3901"
      },
      "execution_count": 7,
      "outputs": [
        {
          "output_type": "stream",
          "name": "stdout",
          "text": [
            "    5      3\n",
            "16 x - 20 x + 5 x\n"
          ]
        }
      ]
    },
    {
      "cell_type": "markdown",
      "source": [
        "Como Chebyshev(n) me devuelve un objeto polinomio, le podemos pedir que nos de sus raices. Esto se llama aplicarle un metodo a un objeto de python:"
      ],
      "metadata": {
        "id": "r89pI2zxge7K"
      }
    },
    {
      "cell_type": "code",
      "source": [],
      "metadata": {
        "id": "p0W9XN-G1ymt"
      },
      "execution_count": null,
      "outputs": []
    },
    {
      "cell_type": "code",
      "source": [
        "n = 5\n",
        "raices = Chebyshev(n).r   # son las raices del polinomio T_5 en el [-1,1]\n",
        "\n",
        "print(raices)\n",
        "\n",
        "print([np.cos((2*k+1)*np.pi/(2*n)) for k in range(n)])"
      ],
      "metadata": {
        "colab": {
          "base_uri": "https://localhost:8080/"
        },
        "id": "FSoZ2xVRu8Y6",
        "outputId": "e79a972f-8190-42fb-a633-d561431ea56d"
      },
      "execution_count": 19,
      "outputs": [
        {
          "output_type": "stream",
          "name": "stdout",
          "text": [
            "[-0.95105652 -0.58778525  0.95105652  0.58778525  0.        ]\n",
            "[0.9510565162951535, 0.5877852522924731, 6.123233995736766e-17, -0.587785252292473, -0.9510565162951535]\n"
          ]
        }
      ]
    },
    {
      "cell_type": "markdown",
      "source": [
        "Si queremos las raices de este polinomio en $[a,b]$ le aplicamos la transformacion $h(t)=\\frac{b-a}{2}t + \\frac{a+b}{2}$ a cada una de las xi calculadas en la celda de arriba:"
      ],
      "metadata": {
        "id": "9j9ecJzk1D7w"
      }
    },
    {
      "cell_type": "code",
      "source": [
        "a = 0\n",
        "b = 3\n",
        "\n",
        "xi = (b-a)/2*raices +(a+b)/2\n",
        "print(xi) "
      ],
      "metadata": {
        "colab": {
          "base_uri": "https://localhost:8080/"
        },
        "id": "m8V8Tco_1Zbv",
        "outputId": "44971e32-c434-4f95-c274-6e780298e0a0"
      },
      "execution_count": 20,
      "outputs": [
        {
          "output_type": "stream",
          "name": "stdout",
          "text": [
            "[0.07341523 0.61832212 2.92658477 2.38167788 1.5       ]\n"
          ]
        }
      ]
    },
    {
      "cell_type": "markdown",
      "source": [
        "Ahora le pedimos a python que nos fitee un polinomio (nos de un polinomio interpolador) en esos nodos. El polinomio es de grado $\\leq 4$ \n",
        "\n",
        "podemos usar la funcion lagrange de scipy.interpolate o la funcion polyfit de numpy"
      ],
      "metadata": {
        "id": "yjRjLxg3g0qT"
      }
    },
    {
      "cell_type": "code",
      "source": [
        "func = lambda x: 1/(1+x)**2\n",
        "\n",
        "yi = func(xi)"
      ],
      "metadata": {
        "id": "Y7Gg-_FDgp_a"
      },
      "execution_count": 23,
      "outputs": []
    },
    {
      "cell_type": "code",
      "source": [
        "# El polinomio interpolador en estos nodos es:\n",
        "\n",
        "P = lagrange(xi, yi)"
      ],
      "metadata": {
        "id": "ptmiKBI-hRM7"
      },
      "execution_count": 25,
      "outputs": []
    },
    {
      "cell_type": "code",
      "source": [
        "print(P)"
      ],
      "metadata": {
        "colab": {
          "base_uri": "https://localhost:8080/"
        },
        "id": "7Ft9qMbO7oEX",
        "outputId": "a3264c9e-a04a-4639-9681-383e2a81ad64"
      },
      "execution_count": 26,
      "outputs": [
        {
          "output_type": "stream",
          "name": "stdout",
          "text": [
            "         4          3         2\n",
            "0.04335 x - 0.3511 x + 1.057 x - 1.483 x + 0.9712\n"
          ]
        }
      ]
    },
    {
      "cell_type": "markdown",
      "source": [
        "Grafiquemos $f$ y su polinomio de Lagrange"
      ],
      "metadata": {
        "id": "-6Ws7_yG72ZV"
      }
    },
    {
      "cell_type": "code",
      "source": [
        "grilla_x = np.linspace(-1/2, 4, 100)\n",
        "\n",
        "\n",
        "plt.figure(figsize = (20, 7))\n",
        "plt.plot(grilla_x, func(grilla_x), label = \"f\", color = \"b\")\n",
        "plt.plot(grilla_x, P(grilla_x), label = \"P\", color = \"red\")\n",
        "plt.plot(xi, yi, '.', label =\"puntos\", color = \"black\")\n",
        "plt.legend()\n",
        "plt.show()"
      ],
      "metadata": {
        "colab": {
          "base_uri": "https://localhost:8080/",
          "height": 428
        },
        "id": "o2YATZuZ7yPo",
        "outputId": "f6b4a256-8a1e-4421-ef16-4c83508cc62a"
      },
      "execution_count": 35,
      "outputs": [
        {
          "output_type": "display_data",
          "data": {
            "text/plain": [
              "<Figure size 1440x504 with 1 Axes>"
            ],
            "image/png": "[encoded data removed]"
          },
          "metadata": {
            "needs_background": "light"
          }
        }
      ]
    },
    {
      "cell_type": "code",
      "source": [
        "# ploteemos para distintos grados: para esto definamos primero la transformacion h en forma de funcion de python:\n",
        "a = 0\n",
        "b = 3\n",
        "h = lambda x: (b-a)/2*x +(a+b)/2 # manda los x de [-1,1] al intervalo [a, b]\n",
        "\n",
        "grilla_x = np.linspace(-0.5, 4, 100)\n",
        "\n",
        "grados = [2,3,5,8] \n",
        "\n",
        "plt.figure(figsize = (20, 7))\n",
        "plt.subplots_adjust(hspace=0.5)\n",
        "for i,k in enumerate(grados):\n",
        "  \n",
        "  raices = Chebyshev(k+1).r  #hallamos las raices del polinomio de grado k+1, eso me da k+1 nodos y me permite calcular un P_k\n",
        "  xi = h(raices)\n",
        "  yi = func(xi)\n",
        "  \n",
        "  P = lagrange(xi, yi)  # hallo el poli interpolante en los xi, yi\n",
        "  \n",
        "\n",
        "  plt.subplot(2,2,i+1)\n",
        "  plt.plot(grilla_x, func(grilla_x), label = \"f\", color = \"r\")\n",
        "  plt.plot(grilla_x, P(grilla_x), label = \"deg = \"+ str(k))\n",
        "  plt.plot( xi, yi, '.', label =\"puntos\", color = \"black\")\n",
        "  plt.legend()\n",
        "  plt.title(str(P))\n",
        "\n",
        "plt.show()\n",
        "\n",
        "\n"
      ],
      "metadata": {
        "colab": {
          "base_uri": "https://localhost:8080/",
          "height": 459
        },
        "id": "hdKnEy078d0y",
        "outputId": "a6f35a60-dc5d-4a9a-85c0-1147a6b473bd"
      },
      "execution_count": 59,
      "outputs": [
        {
          "output_type": "display_data",
          "data": {
            "text/plain": [
              "<Figure size 1440x504 with 4 Axes>"
            ],
            "image/png": "[encoded data removed]"
          },
          "metadata": {
            "needs_background": "light"
          }
        }
      ]
    },
    {
      "cell_type": "markdown",
      "source": [
        "### Ejercicio: Hallar el polinomio interpolador en nodos de Chebyshev para $f(x) =\\frac{1}{1+25x^2}$ en el intervalo $[-1,1]$ de grado $n=2,3,5,7$ y graficarlos junto con la $f$ y los puntos de interpolacion.\n",
        "\n",
        "Estimar usando la funcion np.max de python el error de interpolacion y calcular las cotas para cada caso. Comparar."
      ],
      "metadata": {
        "id": "NPVdKaeRE1CB"
      }
    },
    {
      "cell_type": "markdown",
      "source": [
        "<p>\n",
        "</p>\n",
        "\n",
        "\n",
        "\n",
        "---\n",
        "\n",
        "\n",
        "\n",
        "---\n",
        "\n"
      ],
      "metadata": {
        "id": "r0umxgmaCX7B"
      }
    },
    {
      "cell_type": "markdown",
      "source": [
        "\n",
        "## Interpolación de Hermite\n"
      ],
      "metadata": {
        "id": "fe0OCkswCaEh"
      }
    },
    {
      "cell_type": "code",
      "source": [],
      "metadata": {
        "id": "m2cnIglT-gkT"
      },
      "execution_count": null,
      "outputs": []
    }
  ]
}