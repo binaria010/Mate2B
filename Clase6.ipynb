{
  "nbformat": 4,
  "nbformat_minor": 0,
  "metadata": {
    "colab": {
      "provenance": [],
      "authorship_tag": "ABX9TyMjbl1Q+ORk2Kyn+BlSAydi",
      "include_colab_link": true
    },
    "kernelspec": {
      "name": "python3",
      "display_name": "Python 3"
    },
    "language_info": {
      "name": "python"
    }
  },
  "cells": [
    {
      "cell_type": "markdown",
      "metadata": {
        "id": "view-in-github",
        "colab_type": "text"
      },
      "source": [
        "<a href=\"https://colab.research.google.com/github/binaria010/Mate2B/blob/main/Clase6.ipynb\" target=\"_parent\"><img src=\"https://colab.research.google.com/assets/colab-badge.svg\" alt=\"Open In Colab\"/></a>"
      ]
    },
    {
      "cell_type": "markdown",
      "source": [
        "# Práctica 2: Método de Bisección y Newton (ejercicios 1-8)"
      ],
      "metadata": {
        "id": "y9bPJV0YD36k"
      }
    },
    {
      "cell_type": "markdown",
      "source": [
        "## Método de Bisección:"
      ],
      "metadata": {
        "id": "HdAzJB9gqz7y"
      }
    },
    {
      "cell_type": "markdown",
      "source": [
        "Ejercicio 1:\n",
        "\n",
        "Implementar un programa que reciba como input una función $f$, dos números $a$, $b$, un número de\n",
        "iteraciones $n$ y aplique el método de bisección para aproximar una raíz de f en el intervalo $[a, b]$.\n"
      ],
      "metadata": {
        "id": "s8-J92ztGU9G"
      }
    },
    {
      "cell_type": "code",
      "source": [
        "import numpy as np\n"
      ],
      "metadata": {
        "id": "85dBoMfrYx5p"
      },
      "execution_count": 23,
      "outputs": []
    },
    {
      "cell_type": "code",
      "execution_count": 9,
      "metadata": {
        "id": "4Nh4_MIaDyJv"
      },
      "outputs": [],
      "source": [
        "def bisect_N(f, a, b, N):\n",
        "    \"\"\"\n",
        "    Esta función usa el metodo de biseccion para aproximar una raiz f \n",
        "    \n",
        "    parametros\n",
        "    ----------\n",
        "    f : function object\n",
        "    a, b : float. extremos del intervalo\n",
        "    N : int. number of iterations to find the root\n",
        "    \n",
        "    returns\n",
        "    --------\n",
        "    p : float. resultado de la ultima iteracion\n",
        "    \n",
        "    \"\"\"\n",
        "    \n",
        "    fa = f(a)\n",
        "    \n",
        "    for i in range(N+1):\n",
        "        \n",
        "        p = (a+b)/2\n",
        "        fp = f(p)\n",
        "        print(\"en la iteración \" + str(i) +\"-esima p = \", p)\n",
        "               \n",
        "        if fp == 0:\n",
        "            return p\n",
        "            break\n",
        "                \n",
        "        if fa*fp > 0 :\n",
        "            a = p\n",
        "            fa = fp\n",
        "        else: \n",
        "            b = p\n",
        "\n",
        "    return p\n",
        "    "
      ]
    },
    {
      "cell_type": "markdown",
      "source": [
        "Para $f(x)= x -2.5$ buscar la raiz \n",
        "* en $[-2, 4]$ \n",
        "* en $[-2,8]$"
      ],
      "metadata": {
        "id": "k_S_APcji9iT"
      }
    },
    {
      "cell_type": "code",
      "source": [
        "#@title\n",
        "f = lambda x: x- 2.5\n",
        "a = -2\n",
        "b= 4m\n",
        "\n",
        "bisect_N(f, a, b, 100)"
      ],
      "metadata": {
        "colab": {
          "base_uri": "https://localhost:8080/"
        },
        "cellView": "form",
        "id": "UF_UIh6tYj8Y",
        "outputId": "60b10f07-e056-4629-c64c-9b5576d9842d"
      },
      "execution_count": 10,
      "outputs": [
        {
          "output_type": "stream",
          "name": "stdout",
          "text": [
            "en la iteración 0-esima p =  1.0\n",
            "en la iteración 1-esima p =  2.5\n"
          ]
        },
        {
          "output_type": "execute_result",
          "data": {
            "text/plain": [
              "2.5"
            ]
          },
          "metadata": {},
          "execution_count": 10
        }
      ]
    },
    {
      "cell_type": "code",
      "source": [
        "#@title\n",
        "a = -2\n",
        "b = 8\n",
        "\n",
        "bisect_N(f, a, b, 100)"
      ],
      "metadata": {
        "colab": {
          "base_uri": "https://localhost:8080/"
        },
        "cellView": "form",
        "id": "98dQ5JNRZIFX",
        "outputId": "736ff9fe-9868-4754-9bd2-3d0222db6b23"
      },
      "execution_count": 11,
      "outputs": [
        {
          "output_type": "stream",
          "name": "stdout",
          "text": [
            "en la iteración 0-esima p =  3.0\n",
            "en la iteración 1-esima p =  0.5\n",
            "en la iteración 2-esima p =  1.75\n",
            "en la iteración 3-esima p =  2.375\n",
            "en la iteración 4-esima p =  2.6875\n",
            "en la iteración 5-esima p =  2.53125\n",
            "en la iteración 6-esima p =  2.453125\n",
            "en la iteración 7-esima p =  2.4921875\n",
            "en la iteración 8-esima p =  2.51171875\n",
            "en la iteración 9-esima p =  2.501953125\n",
            "en la iteración 10-esima p =  2.4970703125\n",
            "en la iteración 11-esima p =  2.49951171875\n",
            "en la iteración 12-esima p =  2.500732421875\n",
            "en la iteración 13-esima p =  2.5001220703125\n",
            "en la iteración 14-esima p =  2.49981689453125\n",
            "en la iteración 15-esima p =  2.499969482421875\n",
            "en la iteración 16-esima p =  2.5000457763671875\n",
            "en la iteración 17-esima p =  2.5000076293945312\n",
            "en la iteración 18-esima p =  2.499988555908203\n",
            "en la iteración 19-esima p =  2.499998092651367\n",
            "en la iteración 20-esima p =  2.500002861022949\n",
            "en la iteración 21-esima p =  2.500000476837158\n",
            "en la iteración 22-esima p =  2.4999992847442627\n",
            "en la iteración 23-esima p =  2.4999998807907104\n",
            "en la iteración 24-esima p =  2.5000001788139343\n",
            "en la iteración 25-esima p =  2.5000000298023224\n",
            "en la iteración 26-esima p =  2.4999999552965164\n",
            "en la iteración 27-esima p =  2.4999999925494194\n",
            "en la iteración 28-esima p =  2.500000011175871\n",
            "en la iteración 29-esima p =  2.500000001862645\n",
            "en la iteración 30-esima p =  2.4999999972060323\n",
            "en la iteración 31-esima p =  2.4999999995343387\n",
            "en la iteración 32-esima p =  2.500000000698492\n",
            "en la iteración 33-esima p =  2.5000000001164153\n",
            "en la iteración 34-esima p =  2.499999999825377\n",
            "en la iteración 35-esima p =  2.499999999970896\n",
            "en la iteración 36-esima p =  2.5000000000436557\n",
            "en la iteración 37-esima p =  2.500000000007276\n",
            "en la iteración 38-esima p =  2.499999999989086\n",
            "en la iteración 39-esima p =  2.499999999998181\n",
            "en la iteración 40-esima p =  2.5000000000027285\n",
            "en la iteración 41-esima p =  2.5000000000004547\n",
            "en la iteración 42-esima p =  2.499999999999318\n",
            "en la iteración 43-esima p =  2.4999999999998863\n",
            "en la iteración 44-esima p =  2.5000000000001705\n",
            "en la iteración 45-esima p =  2.5000000000000284\n",
            "en la iteración 46-esima p =  2.4999999999999574\n",
            "en la iteración 47-esima p =  2.499999999999993\n",
            "en la iteración 48-esima p =  2.5000000000000107\n",
            "en la iteración 49-esima p =  2.5000000000000018\n",
            "en la iteración 50-esima p =  2.4999999999999973\n",
            "en la iteración 51-esima p =  2.4999999999999996\n",
            "en la iteración 52-esima p =  2.500000000000001\n",
            "en la iteración 53-esima p =  2.5\n"
          ]
        },
        {
          "output_type": "execute_result",
          "data": {
            "text/plain": [
              "2.5"
            ]
          },
          "metadata": {},
          "execution_count": 11
        }
      ]
    },
    {
      "cell_type": "markdown",
      "source": [
        "\n",
        "\n",
        "\n",
        "\n",
        "Ejemplo 2:\n",
        "\n",
        "Determinar una función y un intervalo adecuados para calcular mediante el método bisección una aproximación de $\\sqrt[3]{0.9}$"
      ],
      "metadata": {
        "id": "Iq-B_CbFkPHn"
      }
    },
    {
      "cell_type": "code",
      "source": [
        "# el calculo usando python:\n",
        "0.9**(1/3)"
      ],
      "metadata": {
        "colab": {
          "base_uri": "https://localhost:8080/"
        },
        "id": "aAlrhthsnblu",
        "outputId": "70e79930-e7a6-4f43-fd69-ef6fd15a15f6"
      },
      "execution_count": 15,
      "outputs": [
        {
          "output_type": "execute_result",
          "data": {
            "text/plain": [
              "0.9654893846056297"
            ]
          },
          "metadata": {},
          "execution_count": 15
        }
      ]
    },
    {
      "cell_type": "code",
      "source": [
        "#@title\n",
        "f = lambda x: x**(3) - 0.9\n",
        "\n",
        "a = 0\n",
        "b = 1\n",
        "\n",
        "bisect_N(f, a, b, 70)"
      ],
      "metadata": {
        "colab": {
          "base_uri": "https://localhost:8080/"
        },
        "collapsed": true,
        "cellView": "form",
        "id": "1s_iAanrgHr4",
        "outputId": "8da415d5-decb-492a-fb43-2d65f242088a"
      },
      "execution_count": 14,
      "outputs": [
        {
          "output_type": "stream",
          "name": "stdout",
          "text": [
            "en la iteración 0-esima p =  0.5\n",
            "en la iteración 1-esima p =  0.75\n",
            "en la iteración 2-esima p =  0.875\n",
            "en la iteración 3-esima p =  0.9375\n",
            "en la iteración 4-esima p =  0.96875\n",
            "en la iteración 5-esima p =  0.953125\n",
            "en la iteración 6-esima p =  0.9609375\n",
            "en la iteración 7-esima p =  0.96484375\n",
            "en la iteración 8-esima p =  0.966796875\n",
            "en la iteración 9-esima p =  0.9658203125\n",
            "en la iteración 10-esima p =  0.96533203125\n",
            "en la iteración 11-esima p =  0.965576171875\n",
            "en la iteración 12-esima p =  0.9654541015625\n",
            "en la iteración 13-esima p =  0.96551513671875\n",
            "en la iteración 14-esima p =  0.965484619140625\n",
            "en la iteración 15-esima p =  0.9654998779296875\n",
            "en la iteración 16-esima p =  0.9654922485351562\n",
            "en la iteración 17-esima p =  0.9654884338378906\n",
            "en la iteración 18-esima p =  0.9654903411865234\n",
            "en la iteración 19-esima p =  0.965489387512207\n",
            "en la iteración 20-esima p =  0.9654889106750488\n",
            "en la iteración 21-esima p =  0.9654891490936279\n",
            "en la iteración 22-esima p =  0.9654892683029175\n",
            "en la iteración 23-esima p =  0.9654893279075623\n",
            "en la iteración 24-esima p =  0.9654893577098846\n",
            "en la iteración 25-esima p =  0.9654893726110458\n",
            "en la iteración 26-esima p =  0.9654893800616264\n",
            "en la iteración 27-esima p =  0.9654893837869167\n",
            "en la iteración 28-esima p =  0.9654893856495619\n",
            "en la iteración 29-esima p =  0.9654893847182393\n",
            "en la iteración 30-esima p =  0.965489384252578\n",
            "en la iteración 31-esima p =  0.9654893844854087\n",
            "en la iteración 32-esima p =  0.965489384601824\n",
            "en la iteración 33-esima p =  0.9654893846600316\n",
            "en la iteración 34-esima p =  0.9654893846309278\n",
            "en la iteración 35-esima p =  0.9654893846163759\n",
            "en la iteración 36-esima p =  0.9654893846090999\n",
            "en la iteración 37-esima p =  0.965489384605462\n",
            "en la iteración 38-esima p =  0.965489384607281\n",
            "en la iteración 39-esima p =  0.9654893846063715\n",
            "en la iteración 40-esima p =  0.9654893846059167\n",
            "en la iteración 41-esima p =  0.9654893846056893\n",
            "en la iteración 42-esima p =  0.9654893846055757\n",
            "en la iteración 43-esima p =  0.9654893846056325\n",
            "en la iteración 44-esima p =  0.9654893846056041\n",
            "en la iteración 45-esima p =  0.9654893846056183\n",
            "en la iteración 46-esima p =  0.9654893846056254\n",
            "en la iteración 47-esima p =  0.9654893846056289\n",
            "en la iteración 48-esima p =  0.9654893846056307\n",
            "en la iteración 49-esima p =  0.9654893846056298\n",
            "en la iteración 50-esima p =  0.9654893846056294\n",
            "en la iteración 51-esima p =  0.9654893846056296\n",
            "en la iteración 52-esima p =  0.9654893846056297\n",
            "en la iteración 53-esima p =  0.9654893846056298\n",
            "en la iteración 54-esima p =  0.9654893846056298\n",
            "en la iteración 55-esima p =  0.9654893846056298\n",
            "en la iteración 56-esima p =  0.9654893846056298\n",
            "en la iteración 57-esima p =  0.9654893846056298\n",
            "en la iteración 58-esima p =  0.9654893846056298\n",
            "en la iteración 59-esima p =  0.9654893846056298\n",
            "en la iteración 60-esima p =  0.9654893846056298\n",
            "en la iteración 61-esima p =  0.9654893846056298\n",
            "en la iteración 62-esima p =  0.9654893846056298\n",
            "en la iteración 63-esima p =  0.9654893846056298\n",
            "en la iteración 64-esima p =  0.9654893846056298\n",
            "en la iteración 65-esima p =  0.9654893846056298\n",
            "en la iteración 66-esima p =  0.9654893846056298\n",
            "en la iteración 67-esima p =  0.9654893846056298\n",
            "en la iteración 68-esima p =  0.9654893846056298\n",
            "en la iteración 69-esima p =  0.9654893846056298\n",
            "en la iteración 70-esima p =  0.9654893846056298\n"
          ]
        },
        {
          "output_type": "execute_result",
          "data": {
            "text/plain": [
              "0.9654893846056298"
            ]
          },
          "metadata": {},
          "execution_count": 14
        }
      ]
    },
    {
      "cell_type": "markdown",
      "source": [
        "Cuantos pasos son necesarios para asegurar que el error sea menor que uno especificado:\n",
        "\n",
        "por ejemplo error menos que $10^{-8}$:\n",
        "\n",
        "\n",
        "Sabemos que una cota para el error en el método de bisección es: \n",
        "$$\n",
        "|p_n - r |< \\frac{b-a}{2^n}\n",
        "$$\n",
        "donde $p_n$ es el valor obtenido en la iteración $n$-esima y $r$ es el verdadero valor.\n",
        "\n",
        "\n",
        "<br>\n",
        "\n",
        "en nuestro ejemplo: $a = 0, b=1$, entonces queremos que $\\frac{b-a}{2^n}<10^{-8}$, despejando $n$ obtenemos: $n > \\frac{8}{\\log_{10}(2)}$\n"
      ],
      "metadata": {
        "id": "nkvror0drVz-"
      }
    },
    {
      "cell_type": "code",
      "source": [
        "n = np.ceil(8/np.log10(2))\n",
        "\n",
        "print(\"al menos \" +  str(n) + \" pasos\")"
      ],
      "metadata": {
        "colab": {
          "base_uri": "https://localhost:8080/"
        },
        "id": "eCPOshFptD7O",
        "outputId": "c264daee-b8c6-4056-c56a-c50ab9ae44ad"
      },
      "execution_count": 24,
      "outputs": [
        {
          "output_type": "stream",
          "name": "stdout",
          "text": [
            "al menos 27.0 pasos\n"
          ]
        }
      ]
    },
    {
      "cell_type": "markdown",
      "source": [
        "<br>\n",
        "\n",
        "<br>\n",
        "<br>\n",
        "\n",
        "Ahora adaptemos la funcion *bisect_N* para que pare de acuerdo a una cierta tolerancia indicada por el usuario, es decir, es un  parametro para dicha funcion. La funcion termina cuando el tamaño del intervalo es menor que esta tolerancia."
      ],
      "metadata": {
        "id": "T-ceO_EWnqpA"
      }
    },
    {
      "cell_type": "code",
      "source": [
        "#@title\n",
        "def bisect(f, a, b, tol):\n",
        "    \"\"\"\n",
        "    Esta función usa el metodo de biseccion para aproximar una raiz f hasta una cierta tolerancia tol\n",
        "    \n",
        "    parametros\n",
        "    ----------\n",
        "    f : function object\n",
        "    a, b : float. extremos del intervalo\n",
        "    tol : float. tolerancia. La funcion para cuando el tamaño del inervalo es < que tol\n",
        "    \n",
        "    returns\n",
        "    --------\n",
        "    i, p : tuple. cuantas iteraciones le tomo y el resultado de la ultima iteracion \n",
        "    \n",
        "    \"\"\"\n",
        "    i = 0\n",
        "    fa = f(a)\n",
        "    \n",
        "    while abs(b-a) > tol :\n",
        "        \n",
        "        p = (a+b)/2\n",
        "        fp = f(p)\n",
        "        print(\"en la iteración \" + str(i) +\"-esima p = \", p)\n",
        "               \n",
        "        if fp == 0:\n",
        "            return p\n",
        "            break\n",
        "                \n",
        "        if fa*fp > 0 :\n",
        "            a = p\n",
        "            fa = fp\n",
        "        else: \n",
        "            b = p\n",
        "        i = i+1\n",
        "\n",
        "    return i, p"
      ],
      "metadata": {
        "cellView": "form",
        "id": "WCMTJ-VXl_IW"
      },
      "execution_count": 18,
      "outputs": []
    },
    {
      "cell_type": "code",
      "source": [
        "f = lambda x: x - 2.5\n",
        "a = -2\n",
        "b = 8\n",
        "\n",
        "tol = 1e-4\n",
        "\n",
        "bisect(f, a, b, tol)"
      ],
      "metadata": {
        "colab": {
          "base_uri": "https://localhost:8080/"
        },
        "collapsed": true,
        "id": "QamfbQRppdQg",
        "outputId": "4d14bd4b-a128-49aa-858b-10e665fa35eb"
      },
      "execution_count": 20,
      "outputs": [
        {
          "output_type": "stream",
          "name": "stdout",
          "text": [
            "en la iteración 0-esima p =  3.0\n",
            "en la iteración 1-esima p =  0.5\n",
            "en la iteración 2-esima p =  1.75\n",
            "en la iteración 3-esima p =  2.375\n",
            "en la iteración 4-esima p =  2.6875\n",
            "en la iteración 5-esima p =  2.53125\n",
            "en la iteración 6-esima p =  2.453125\n",
            "en la iteración 7-esima p =  2.4921875\n",
            "en la iteración 8-esima p =  2.51171875\n",
            "en la iteración 9-esima p =  2.501953125\n",
            "en la iteración 10-esima p =  2.4970703125\n",
            "en la iteración 11-esima p =  2.49951171875\n",
            "en la iteración 12-esima p =  2.500732421875\n",
            "en la iteración 13-esima p =  2.5001220703125\n",
            "en la iteración 14-esima p =  2.49981689453125\n",
            "en la iteración 15-esima p =  2.499969482421875\n",
            "en la iteración 16-esima p =  2.5000457763671875\n"
          ]
        },
        {
          "output_type": "execute_result",
          "data": {
            "text/plain": [
              "(17, 2.5000457763671875)"
            ]
          },
          "metadata": {},
          "execution_count": 20
        }
      ]
    },
    {
      "cell_type": "markdown",
      "source": [
        "## Método de Newton"
      ],
      "metadata": {
        "id": "jbPj35jsq6MC"
      }
    },
    {
      "cell_type": "markdown",
      "source": [
        "Ejercicio 7 (practica 2)\n",
        "\n",
        "Implementar un programa que reciba como input una función $f$, su derivada $f'$, un punto inicial $x_0$ y una tolerancia $\\epsilon$ y aplique el método de Newton-Raphson para buscar una raíz de $f$ a partir de $x_0$. El programa debe finalizar cuando $|x_n - x_{n-1}| < \\epsilon$. \n",
        "    \n",
        "\n",
        "Opcional: agregar un parámetro adicional $N$ que indique la cantidad máxima de pasos. Si no se alcanza convergencia luego de $N$ pasos, imprimir un mensaje de error."
      ],
      "metadata": {
        "id": "OFDSgoguvNyj"
      }
    },
    {
      "cell_type": "code",
      "source": [
        "def Newton(f,fprime, x0, tol, N = 100, Points = False):\n",
        "    \"\"\"\n",
        "    this function computes an approximate solution of f(x)=0 using Newton-Raphson method.\n",
        "    \n",
        "    Parameters\n",
        "    ----------\n",
        "    f: function object. \n",
        "    fprime : function object.\n",
        "    p0 : float. Initial guess (it has to be in a neighborhood of the true solution within some  delta)\n",
        "    tol : float. Number for the stopping criteria. |p-p0|<tol, or |pn - p_n-1|<tol\n",
        "    N : Int. Max number of iterations before the program stops default=  100\n",
        "    Points: boolean. If TRUE returns the sequence of points\n",
        "    \n",
        "    Return\n",
        "    --------\n",
        "    i: int. The number of iteration at the achieved tolerance\n",
        "    p : float. The approximate solution\n",
        "    \n",
        "    \"\"\"\n",
        "    \n",
        "    i = 1\n",
        "\n",
        "    points = [x0]\n",
        "    \n",
        "    while i <= N:\n",
        "        x = x0 - f(x0)/fprime(x0)\n",
        "        points.append(x)\n",
        "        if abs(x-x0) < tol :\n",
        "            if Points == True:\n",
        "              return i, points\n",
        "              break\n",
        "            else:\n",
        "              return i, x\n",
        "              break\n",
        "        # si no llego a la tolerancia que siga iterando:\n",
        "        i = i + 1\n",
        "        x0 = x\n",
        "    \n",
        "    if i > N:\n",
        "        print('method failed at N = ' + str(N) + 'iterations')"
      ],
      "metadata": {
        "id": "jNeXFJQgp1WU"
      },
      "execution_count": 31,
      "outputs": []
    },
    {
      "cell_type": "markdown",
      "source": [
        "Ejemplo:\n",
        "\n",
        "$f(x) = e^{-x} - x$ mostrar que $f$ tiene una única raiz real y dicha raíz está en el intervalo $[0,1]$. Probar que el método de Newton-Raphson converge\n",
        "a la raíz cualquiera sea el valor $x_0$ inicial."
      ],
      "metadata": {
        "id": "C7vgVUg_PCgu"
      }
    },
    {
      "cell_type": "code",
      "source": [
        "f = lambda x: np.exp(-x) - x\n",
        "fprime = lambda x: -np.exp(-x) - 1\n",
        "x0 = 2\n",
        "tol = 1e-8\n",
        "\n",
        "\n",
        "Newton(f, fprime, x0, tol)"
      ],
      "metadata": {
        "colab": {
          "base_uri": "https://localhost:8080/"
        },
        "id": "9amEsQ9VPBKq",
        "outputId": "1c2091f1-1505-499c-fd79-09bfeace1566"
      },
      "execution_count": 33,
      "outputs": [
        {
          "output_type": "execute_result",
          "data": {
            "text/plain": [
              "(5, 0.5671432904097838)"
            ]
          },
          "metadata": {},
          "execution_count": 33
        }
      ]
    },
    {
      "cell_type": "code",
      "source": [
        "# ahora quiero que me imprima los puntos de la sucesion:\n",
        "\n",
        "Newton(f, fprime, x0, tol, Points= True)"
      ],
      "metadata": {
        "colab": {
          "base_uri": "https://localhost:8080/"
        },
        "id": "CEDKwDrhTx-3",
        "outputId": "9f2ef70a-ce58-4c66-a512-4f3b7ce8a715"
      },
      "execution_count": 34,
      "outputs": [
        {
          "output_type": "execute_result",
          "data": {
            "text/plain": [
              "(5,\n",
              " [2,\n",
              "  0.35760876606635295,\n",
              "  0.5587083284512576,\n",
              "  0.5671303831487949,\n",
              "  0.5671432903796383,\n",
              "  0.5671432904097838])"
            ]
          },
          "metadata": {},
          "execution_count": 34
        }
      ]
    },
    {
      "cell_type": "code",
      "source": [
        "x0 = -3\n",
        "Newton(f, fprime, x0, tol, Points= True)"
      ],
      "metadata": {
        "colab": {
          "base_uri": "https://localhost:8080/"
        },
        "id": "N8AiAq2gUAAn",
        "outputId": "7b728e2c-6a9e-4eee-dbcd-a303a9fcc89f"
      },
      "execution_count": 36,
      "outputs": [
        {
          "output_type": "execute_result",
          "data": {
            "text/plain": [
              "(8,\n",
              " [-3,\n",
              "  -1.9051482536448665,\n",
              "  -0.7879072040922523,\n",
              "  0.14578872573377177,\n",
              "  0.5312074029319782,\n",
              "  0.5669070697337196,\n",
              "  0.5671432803121138,\n",
              "  0.5671432904097838,\n",
              "  0.5671432904097838])"
            ]
          },
          "metadata": {},
          "execution_count": 36
        }
      ]
    },
    {
      "cell_type": "markdown",
      "source": [
        "Ejercicicio 6:\n",
        "\n",
        "Sea  $f(x) = e^{x^2+x+1}-e^{x^3}-2$. Sabiendo que $f''(x)>0$ para $x \\in [0,1/2]$, determinar un intervalo $I\\subset [0,1/2]$ para el cual se puede asegurar que  Newton-Raphson converge a una solución de la ecuación $f(x) = 0$ para todo $x_0 \\in I$.  \n",
        "¿Cuántos pasos son necesarios para asegurar que el error cometido con dicha aproximación es menor a $10^{-10}$?\n"
      ],
      "metadata": {
        "id": "hNXy-Q8GZ4wJ"
      }
    },
    {
      "cell_type": "code",
      "source": [
        "func = lambda x: np.exp(x**2 + x+1) - np.exp(x**3) -2\n",
        "\n",
        "derfunc = lambda x: (2*x + 1)*np.exp(x**2 + x+1) - 3*x**2*np.exp(x**3)"
      ],
      "metadata": {
        "id": "JMN-DdEGUumw"
      },
      "execution_count": 37,
      "outputs": []
    },
    {
      "cell_type": "code",
      "source": [
        "derfunc(0.2)"
      ],
      "metadata": {
        "colab": {
          "base_uri": "https://localhost:8080/"
        },
        "id": "N4cw7SGZaga0",
        "outputId": "b8bb069c-5df7-4344-fe1e-b68d52b691b5"
      },
      "execution_count": 38,
      "outputs": [
        {
          "output_type": "execute_result",
          "data": {
            "text/plain": [
              "4.7168950004072325"
            ]
          },
          "metadata": {},
          "execution_count": 38
        }
      ]
    },
    {
      "cell_type": "code",
      "source": [
        "derfunc(0.4)"
      ],
      "metadata": {
        "colab": {
          "base_uri": "https://localhost:8080/"
        },
        "id": "D0mLD1CBah39",
        "outputId": "69b7cec4-2e5d-4ed4-ec50-514ddff08534"
      },
      "execution_count": 39,
      "outputs": [
        {
          "output_type": "execute_result",
          "data": {
            "text/plain": [
              "8.054153889842615"
            ]
          },
          "metadata": {},
          "execution_count": 39
        }
      ]
    },
    {
      "cell_type": "code",
      "source": [],
      "metadata": {
        "id": "-TT8FUgOamcP"
      },
      "execution_count": null,
      "outputs": []
    }
  ]
}