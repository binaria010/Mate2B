{
  "nbformat": 4,
  "nbformat_minor": 0,
  "metadata": {
    "colab": {
      "provenance": [],
      "authorship_tag": "ABX9TyPow/0Q32GNgmwDMvjomWLq",
      "include_colab_link": true
    },
    "kernelspec": {
      "name": "python3",
      "display_name": "Python 3"
    },
    "language_info": {
      "name": "python"
    }
  },
  "cells": [
    {
      "cell_type": "markdown",
      "metadata": {
        "id": "view-in-github",
        "colab_type": "text"
      },
      "source": [
        "<a href=\"https://colab.research.google.com/github/binaria010/Mate2B/blob/main/Clase10Completa.ipynb\" target=\"_parent\"><img src=\"https://colab.research.google.com/assets/colab-badge.svg\" alt=\"Open In Colab\"/></a>"
      ]
    },
    {
      "cell_type": "markdown",
      "source": [
        "# Seguimos con los métodos para resolver ecuaciones dif ordinarias:\n",
        "\n",
        "1. Euler modificado\n",
        "\n",
        "2. Taylor\n",
        "\n",
        "3. Runge-Kutta\n",
        "\n"
      ],
      "metadata": {
        "id": "FVieIdYiTTBX"
      }
    },
    {
      "cell_type": "markdown",
      "source": [
        "## Euler modificado:\n",
        "\n",
        "La iteración de este método es:\n",
        "\n",
        "$$\n",
        "x_{i}=x_{i-1}+h f\\left(t_{i-1}+\\frac{h}{2}, x_{i-1}+\\frac{h}{2} f\\left(t_{i-1}, x_{i-1}\\right)\\right),\n",
        "$$"
      ],
      "metadata": {
        "id": "ItZrccEFfbi3"
      }
    },
    {
      "cell_type": "code",
      "source": [
        "import numpy as np\n",
        "import matplotlib.pyplot as plt"
      ],
      "metadata": {
        "id": "l9yLcExEdNy6"
      },
      "execution_count": null,
      "outputs": []
    },
    {
      "cell_type": "code",
      "execution_count": null,
      "metadata": {
        "id": "XbhZwuc-TPG2"
      },
      "outputs": [],
      "source": [
        "def euler_mod(f,t0,T,x0,n):\n",
        "  \"\"\"\n",
        "  Esta funcion implementa el metodo de Euler modificado \n",
        "  x_i = x_{i-1} + h f(t_{i-1}+0.5*h, x_{i-1} + 0.5*h*f(t_{i-1}, x_{i-1})\n",
        "  para resolver \n",
        "                   x'(t) = f(t,x)\n",
        "  en n pasos, en el intervalo [t0, T]  con condicion inicial x(t0) =x0\n",
        "\n",
        "  \"\"\"\n",
        "\n",
        "  t = np.linspace(t0, T, n+1) #Esto tiene todos los tiempos separados por el paso h, recordar h = (T-t0)/n\n",
        "\n",
        "  x = np.zeros(n+1) #Una lista de 0s que vamos a ir rellenando con las solucion\n",
        "  x[0]=x0 #El primer valor es la condicion inicial\n",
        "  h = (T-t0)/n #paso\n",
        "\n",
        "  for i in range(1, n+1): \n",
        "    x[i] = x[i-1] + h * f(t[i-1] + h/2, x[i-1] + 0.5 * h * f(t[i-1], x[i-1]))\n",
        "\n",
        "\n",
        "  return(t,x) #Esta funcion ya nos devuelve la grilla para el grafico (t) y el valor en cada punto (x)."
      ]
    },
    {
      "cell_type": "markdown",
      "source": [
        "# Método de Heun\n",
        "\n",
        "La iteración es:\n",
        "\n",
        "$$\n",
        "x_{i}=x_{i-1}+h \\frac{1}{2}\\left(f\\left(t_{i-1}, x_{i-1}\\right)+f\\left(t_{i-1}+h, x_{i-1}+h f\\left(t_{i-1}, x_{i-1}\\right)\\right)\\right),\n",
        "$$\n"
      ],
      "metadata": {
        "id": "jA0qlyHCfqST"
      }
    },
    {
      "cell_type": "code",
      "source": [
        "def Heun(f,t0,T,x0,n):\n",
        "  \"\"\"\n",
        "  Esta funcion implementa el metodo de Heun\n",
        "  x_i = x_{i-1} + 0.5*h (f(t_{i-1}, x_{i-1}) + f(t_{i-1} + h, x_{i-1} + hf(t_{i-1}, x_{i-1}))\n",
        "  para resolver \n",
        "                   x'(t) = f(t,x)\n",
        "  en n pasos, en el intervalo [t0, T]  con condicion inicial x(t0) =x0\n",
        "\n",
        "  \"\"\"\n",
        "  t = np.linspace(t0, T, n+1) #Esto tiene todos los tiempos separados por el paso h, recordar h = (T-t0)/n\n",
        "\n",
        "  x = np.zeros(n+1) #Una lista de 0s que vamos a ir rellenando con las solucion\n",
        "  x[0]=x0 #El primer valor es la condicion inicial\n",
        "  h = (T-t0)/n #paso\n",
        "  \n",
        "  for i in range(1, n+1): \n",
        "    x[i] = x[i-1] + 0.5 * h * ( f(t[i-1], x[i-1]) + f(t[i-1] + h, x[i-1] + h* f(t[i-1], x[i-1])))\n",
        "\n",
        "\n",
        "  return(t,x) #Esta funcion ya nos devuelve la grilla para el grafico (t) y el valor en cada punto (x).\n"
      ],
      "metadata": {
        "id": "nyKOxT3Xfrb7"
      },
      "execution_count": null,
      "outputs": []
    },
    {
      "cell_type": "markdown",
      "source": [
        "## Método de Taylor de orden 2:\n",
        "\n",
        "la iteración es:\n",
        "\n",
        "\n",
        "$$\n",
        "x_{i}=x_{i-1}+h f\\left(t_{i-1}, x_{i-1})+ 0.5*h^2f'\\left(t_{i-1}, x_{i-1}\\right)\\right),\n",
        "$$\n",
        "\n",
        "donde $f'$ denota la derviada de $f(t, x(t))$ con respecto de $t$.\n",
        "\n",
        "Por ejemplo si la ecuacion es:\n",
        "$$\n",
        "x'(t) = x -t^2 +1\n",
        "$$\n",
        "\n",
        "entonces $f(t,x)= x -t^2 +1$, luego \n",
        "$$\n",
        "f'(t,x(t)) = x'(t) -2t = x(t) - t^2 + 1 -2t\n",
        "$$\n",
        "\n"
      ],
      "metadata": {
        "id": "mcZkv4abuqFt"
      }
    },
    {
      "cell_type": "code",
      "source": [
        "\n",
        "def Taylor2(f,derf, t0, T, x0, n):\n",
        "  \"\"\"\n",
        "  Esta funcion implementa el metodo de Taylor de orden 2\n",
        "  x_i = x_{i-1} + h (f(t_{i-1}, x_{i-1}) + 0.5* h^2* derf(t_{i-1} , x_{i-1})\n",
        "  para resolver \n",
        "                   x'(t) = f(t,x)\n",
        "  en n pasos, en el intervalo [t0, T]  con condicion inicial x(t0) =x0\n",
        "\n",
        "  \"\"\"\n",
        "  t = np.linspace(t0, T, n+1) #Esto tiene todos los tiempos separados por el paso h, recordar h = (T-t0)/n\n",
        "\n",
        "  x = np.zeros(n+1) #Una lista de 0s que vamos a ir rellenando con las solucion\n",
        "  x[0]=x0 #El primer valor es la condicion inicial\n",
        "  h = (T-t0)/n #paso\n",
        "  \n",
        "  for i in range(1, n+1): \n",
        "    x[i] = x[i-1] + h * f(t[i-1], x[i-1]) + 0.5* h**2 * derf(t[i-1], x[i-1]) \n",
        "\n",
        "\n",
        "  return(t,x) #Esta funcion ya nos devuelve la grilla para el grafico (t) y el valor en cada punto (x).\n"
      ],
      "metadata": {
        "id": "5K8t9lc7uuap"
      },
      "execution_count": null,
      "outputs": []
    },
    {
      "cell_type": "markdown",
      "source": [
        "### Ejercicio:\n",
        "\n",
        "Para $h=0.1, h=0.01$ y $h=0.001$ graficar la solución exacta de la ecuación diferencial del Ejercicio junto con la aproximación que se obtiene mediante los métodos de Euler, Euler modificado y Heun en el intervalo $[0,2]$\n",
        "\n",
        "$$\n",
        "\\left\\{\\begin{array}{l}\n",
        "\\dot{x}(t)=2 x(t)-5 \\sin(t), \\\\\n",
        "x(0)=1,\n",
        "\\end{array}\\right.\n",
        "$$\n",
        "\n",
        "cuya solución exacta es la función $x(t)=2 \\sin(t)+\\cos (t)$"
      ],
      "metadata": {
        "id": "Wq9WBs9IhrsH"
      }
    },
    {
      "cell_type": "markdown",
      "source": [
        "### Ejercicio:\n",
        "\n",
        "Para \n",
        "$$\n",
        "\\left\\{\\begin{array}{l}\n",
        "\\dot{x}(t)= x(t) - t^2 + 1, \\\\\n",
        "x(0)=0.5,\n",
        "\\end{array}\\right.\n",
        "$$\n",
        "\n",
        "1. Verificar que $x(t) = (t+1)^2 - 0.5\\exp(t)$ es la solución.\n",
        "\n",
        "2. Aplicar Taylor de orden 2, Euler modificado y Heun. Graficar las tres soluciones aproximadas junto con la solución exacta en el intervalo $[0,2]$."
      ],
      "metadata": {
        "id": "W2nxx5kMx2HF"
      }
    },
    {
      "cell_type": "markdown",
      "source": [
        "## Runge Kutta de orden 4:\n",
        "\n",
        "Implementar un programa para aproximar las solución de la ecuación diferencial\n",
        "\t$$\\begin{cases}\n",
        "\t\\dot{x}(t) = f(t, x(t)), \\\\\n",
        "\tx(t_{0}) = x_{0},\n",
        "\t\\end{cases}\n",
        "\t$$\n",
        "\tutilizando el método de Runge Kutta de orden 4 cuya iteración iesima es:\n",
        "\n",
        "$$\n",
        "\tx_{i} = x_{i-1} + \\frac{h}{6}(k_{1} + 2 k_{2} + 2 k_{3} + k_{4}),\n",
        "$$\n",
        "\t\n",
        "donde:\n",
        "\t\\begin{align*}\n",
        "\tk_{1} & = f(t_{i-1}, x_{i-1}),\\\\\n",
        "\tk_{2} & = f(t_{i-1} + h/2, x_{i-1} + h/2 k_{1}),\\\\\n",
        "\tk_{3} & = f(t_{i-1} + h/2, x_{i-1} + h/2 k_{2}),\\\\\n",
        "\tk_{4} & = f(t_{i-1} + h, x_{i-1} + h k_{3}).\n",
        "\t\\end{align*}\n",
        "\n",
        "\n",
        "La implementación se puede hacer en dos pasos: primero implementar una funcion que se llama orden4 que calcule los valores de $k_1,k_2,k_3, k_4$. Finalmente implementar la funcio RK4 que llame a la función orden4."
      ],
      "metadata": {
        "id": "-i7Lom9GRwIq"
      }
    },
    {
      "cell_type": "code",
      "source": [
        "def orden4(f, t, x, h):\n",
        "    \n",
        "    \"\"\"\n",
        "    Esta funcion calcula los valores \n",
        "    k_{1}  = f(t, x_),\\\\\n",
        "\t  k_{2}  = f(t + h/2, x + h/2 k_{1}),\\\\\n",
        "\t  k_{3}  = f(t + h/2, x + h/2 k_{2}),\\\\\n",
        "\t  k_{4}  = f(t + h, x + h k_{3}).\n",
        "\n",
        "    en un t y x genericos y usando un h dado y devuelve el valor\n",
        "    x_new = x_old + h*(k1 +2*k2 + 2*k3 + k4)/6\n",
        "\n",
        "\n",
        "    \"\"\"\n",
        "\n",
        "\n",
        "    k1 = f(t, x)\n",
        "    k2 = f(t + 0.5*h, x + 0.5*h * k1)\n",
        "    k3 = f(t + 0.5* h, x + 0.5*h*k2)\n",
        "    k4 = f(t +h, x +h*k3)\n",
        "    \n",
        "    x = x + h*(k1 + 2*k2 +2*k3 +k4)/6\n",
        "    \n",
        "    return x\n",
        "\n",
        "\n",
        "def RK4(f, t0, T, x0, n):\n",
        "  \"\"\"\n",
        "  Esta funcion implementa el metodo de Runge Kutta de orden 4 cuya i-esima iteración es:\n",
        "  \n",
        "  x_{i} = x_{i-1} + \\frac{h}{6}(k_{1} + 2 k_{2} + 2 k_{3} + k_{4})\n",
        "  \n",
        "  donde \n",
        "  k_{1} & = f(t_{i-1}, x_{i-1}),\n",
        "\tk_{2} & = f(t_{i-1} + h/2, x_{i-1} + h/2 k_{1}),\n",
        "\tk_{3} & = f(t_{i-1} + h/2, x_{i-1} + h/2 k_{2})\n",
        "\tk_{4} & = f(t_{i-1} + h, x_{i-1} + h k_{3})\n",
        "\n",
        "  para resolver \n",
        "                   x'(t) = f(t,x)\n",
        "  en n pasos, en el intervalo [t0, T]  con condicion inicial x(t0) =x0\n",
        "  \n",
        "  \"\"\"\n",
        "  \n",
        "\n",
        "  t = np.linspace(t0, T, n+1) #Esto tiene todos los tiempos separados por el paso h, recordar h = (T-t0)/n\n",
        "\n",
        "  x = np.zeros(n+1)   #Una lista de 0s que vamos a ir rellenando con las solucion\n",
        "  x[0]=x0              #El primer valor es la condicion inicial\n",
        "  h = (T-t0)/n        #paso\n",
        "  \n",
        "  for i in range(1, n+1): \n",
        "    x[i] = orden4(f, t[i-1], x[i-1], h)\n",
        "\n",
        "\n",
        "  return(t,x) #Esta funcion ya nos devuelve la grilla para el grafico (t) y el valor en cada punto (x).\n"
      ],
      "metadata": {
        "id": "eJow_u_jhVRt"
      },
      "execution_count": 2,
      "outputs": []
    },
    {
      "cell_type": "markdown",
      "source": [
        "### Ejercicio:\n",
        "\n",
        "Resolver ejercicio anterior agregando la solución numérica obtenida al aplicar Runge Kutta de orden 4"
      ],
      "metadata": {
        "id": "fwIHJZ_bVNoL"
      }
    },
    {
      "cell_type": "code",
      "source": [],
      "metadata": {
        "id": "8rVK610IVVKn"
      },
      "execution_count": null,
      "outputs": []
    }
  ]
}