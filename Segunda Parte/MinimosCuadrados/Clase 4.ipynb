{
  "nbformat": 4,
  "nbformat_minor": 0,
  "metadata": {
    "colab": {
      "provenance": [],
      "authorship_tag": "ABX9TyPHGlUw08e8/mfW+J0e58ep",
      "include_colab_link": true
    },
    "kernelspec": {
      "name": "python3",
      "display_name": "Python 3"
    },
    "language_info": {
      "name": "python"
    }
  },
  "cells": [
    {
      "cell_type": "markdown",
      "metadata": {
        "id": "view-in-github",
        "colab_type": "text"
      },
      "source": [
        "<a href=\"https://colab.research.google.com/github/binaria010/Mate2B/blob/main/Segunda%20Parte/MinimosCuadrados/Clase%204.ipynb\" target=\"_parent\"><img src=\"https://colab.research.google.com/assets/colab-badge.svg\" alt=\"Open In Colab\"/></a>"
      ]
    },
    {
      "cell_type": "code",
      "source": [
        "import numpy as np\n",
        "import pandas as pd\n"
      ],
      "metadata": {
        "id": "XwiPnV1uhhNy"
      },
      "execution_count": 4,
      "outputs": []
    },
    {
      "cell_type": "markdown",
      "source": [
        "# Regresion lineal multivariada:\n",
        "\n",
        "\n",
        "Finalizamos la práctica de regresión lineal haciendo el caso multivariado. \n",
        "\n",
        "Suponemos que tenemos un conjunto de datos de la forma\n",
        "$$\n",
        "({\\bf x}_1, y_1), ({\\bf x}_2, y_2), \\dots, ({\\bf x}_N, y_N)\n",
        "$$\n",
        "\n",
        "donde ahora cada ${\\bf x}_i$ es un vector de digamos $p$ variables ${\\bf x} = (x^{(1)}, x^{(2)},\\dots, x^{(p)})$ y el indicie $i$ representa la observación i-esima de cada una de ellas.\n",
        "\n",
        "El objetivo de la regresion multivariada es de nuevo buscar una función lineal de ajuste que ahora depende de estas $p$ variables.\n",
        "\n",
        "La función es de la forma:\n",
        "\n",
        "$$\n",
        "f(x^{(1)}, \\dots, x^{(p)}) = b_0 + b_1 x^{(1)} + b_2x^{(2)} + \\cdots b_p x^{(p)}\n",
        "$$\n",
        "\n",
        "Donde los coeficientes $b_0,~b_1,~\\cdots,b_p$ se determinan a partir del conjunto de datos.\n",
        "\n",
        "Por ejemplo: Consideremos el conjunto de datos Iris:\n",
        "\n"
      ],
      "metadata": {
        "id": "NiUD0rfLOspu"
      }
    },
    {
      "cell_type": "code",
      "execution_count": 5,
      "metadata": {
        "colab": {
          "base_uri": "https://localhost:8080/",
          "height": 363
        },
        "id": "40tZAyxhOd7Y",
        "outputId": "0310d4af-dd1b-453d-e7f1-bc33c91ae381"
      },
      "outputs": [
        {
          "output_type": "execute_result",
          "data": {
            "text/plain": [
              "     HDI  LifeExpectancy   MeanYearsofEducation  GNIcapita\n",
              "0  0.944            81.6                   12.6      64992\n",
              "1  0.935            82.4                   13.0      42261\n",
              "2  0.930            83.0                   12.8      56431\n",
              "3  0.923            80.2                   12.7      44025\n",
              "4  0.922            81.6                   11.9      45435\n",
              "5  0.916            80.9                   13.1      43919\n",
              "6  0.916            80.9                   12.2      39568\n",
              "7  0.915            79.1                   12.9      52947\n",
              "8  0.913            82.0                   13.0      42155\n",
              "9  0.913            81.8                   12.5      32689"
            ],
            "text/html": [
              "\n",
              "  <div id=\"df-f348900e-4219-47eb-9786-d5b30769d74c\">\n",
              "    <div class=\"colab-df-container\">\n",
              "      <div>\n",
              "<style scoped>\n",
              "    .dataframe tbody tr th:only-of-type {\n",
              "        vertical-align: middle;\n",
              "    }\n",
              "\n",
              "    .dataframe tbody tr th {\n",
              "        vertical-align: top;\n",
              "    }\n",
              "\n",
              "    .dataframe thead th {\n",
              "        text-align: right;\n",
              "    }\n",
              "</style>\n",
              "<table border=\"1\" class=\"dataframe\">\n",
              "  <thead>\n",
              "    <tr style=\"text-align: right;\">\n",
              "      <th></th>\n",
              "      <th>HDI</th>\n",
              "      <th>LifeExpectancy</th>\n",
              "      <th>MeanYearsofEducation</th>\n",
              "      <th>GNIcapita</th>\n",
              "    </tr>\n",
              "  </thead>\n",
              "  <tbody>\n",
              "    <tr>\n",
              "      <th>0</th>\n",
              "      <td>0.944</td>\n",
              "      <td>81.6</td>\n",
              "      <td>12.6</td>\n",
              "      <td>64992</td>\n",
              "    </tr>\n",
              "    <tr>\n",
              "      <th>1</th>\n",
              "      <td>0.935</td>\n",
              "      <td>82.4</td>\n",
              "      <td>13.0</td>\n",
              "      <td>42261</td>\n",
              "    </tr>\n",
              "    <tr>\n",
              "      <th>2</th>\n",
              "      <td>0.930</td>\n",
              "      <td>83.0</td>\n",
              "      <td>12.8</td>\n",
              "      <td>56431</td>\n",
              "    </tr>\n",
              "    <tr>\n",
              "      <th>3</th>\n",
              "      <td>0.923</td>\n",
              "      <td>80.2</td>\n",
              "      <td>12.7</td>\n",
              "      <td>44025</td>\n",
              "    </tr>\n",
              "    <tr>\n",
              "      <th>4</th>\n",
              "      <td>0.922</td>\n",
              "      <td>81.6</td>\n",
              "      <td>11.9</td>\n",
              "      <td>45435</td>\n",
              "    </tr>\n",
              "    <tr>\n",
              "      <th>5</th>\n",
              "      <td>0.916</td>\n",
              "      <td>80.9</td>\n",
              "      <td>13.1</td>\n",
              "      <td>43919</td>\n",
              "    </tr>\n",
              "    <tr>\n",
              "      <th>6</th>\n",
              "      <td>0.916</td>\n",
              "      <td>80.9</td>\n",
              "      <td>12.2</td>\n",
              "      <td>39568</td>\n",
              "    </tr>\n",
              "    <tr>\n",
              "      <th>7</th>\n",
              "      <td>0.915</td>\n",
              "      <td>79.1</td>\n",
              "      <td>12.9</td>\n",
              "      <td>52947</td>\n",
              "    </tr>\n",
              "    <tr>\n",
              "      <th>8</th>\n",
              "      <td>0.913</td>\n",
              "      <td>82.0</td>\n",
              "      <td>13.0</td>\n",
              "      <td>42155</td>\n",
              "    </tr>\n",
              "    <tr>\n",
              "      <th>9</th>\n",
              "      <td>0.913</td>\n",
              "      <td>81.8</td>\n",
              "      <td>12.5</td>\n",
              "      <td>32689</td>\n",
              "    </tr>\n",
              "  </tbody>\n",
              "</table>\n",
              "</div>\n",
              "      <button class=\"colab-df-convert\" onclick=\"convertToInteractive('df-f348900e-4219-47eb-9786-d5b30769d74c')\"\n",
              "              title=\"Convert this dataframe to an interactive table.\"\n",
              "              style=\"display:none;\">\n",
              "        \n",
              "  <svg xmlns=\"http://www.w3.org/2000/svg\" height=\"24px\"viewBox=\"0 0 24 24\"\n",
              "       width=\"24px\">\n",
              "    <path d=\"M0 0h24v24H0V0z\" fill=\"none\"/>\n",
              "    <path d=\"M18.56 5.44l.94 2.06.94-2.06 2.06-.94-2.06-.94-.94-2.06-.94 2.06-2.06.94zm-11 1L8.5 8.5l.94-2.06 2.06-.94-2.06-.94L8.5 2.5l-.94 2.06-2.06.94zm10 10l.94 2.06.94-2.06 2.06-.94-2.06-.94-.94-2.06-.94 2.06-2.06.94z\"/><path d=\"M17.41 7.96l-1.37-1.37c-.4-.4-.92-.59-1.43-.59-.52 0-1.04.2-1.43.59L10.3 9.45l-7.72 7.72c-.78.78-.78 2.05 0 2.83L4 21.41c.39.39.9.59 1.41.59.51 0 1.02-.2 1.41-.59l7.78-7.78 2.81-2.81c.8-.78.8-2.07 0-2.86zM5.41 20L4 18.59l7.72-7.72 1.47 1.35L5.41 20z\"/>\n",
              "  </svg>\n",
              "      </button>\n",
              "      \n",
              "  <style>\n",
              "    .colab-df-container {\n",
              "      display:flex;\n",
              "      flex-wrap:wrap;\n",
              "      gap: 12px;\n",
              "    }\n",
              "\n",
              "    .colab-df-convert {\n",
              "      background-color: #E8F0FE;\n",
              "      border: none;\n",
              "      border-radius: 50%;\n",
              "      cursor: pointer;\n",
              "      display: none;\n",
              "      fill: #1967D2;\n",
              "      height: 32px;\n",
              "      padding: 0 0 0 0;\n",
              "      width: 32px;\n",
              "    }\n",
              "\n",
              "    .colab-df-convert:hover {\n",
              "      background-color: #E2EBFA;\n",
              "      box-shadow: 0px 1px 2px rgba(60, 64, 67, 0.3), 0px 1px 3px 1px rgba(60, 64, 67, 0.15);\n",
              "      fill: #174EA6;\n",
              "    }\n",
              "\n",
              "    [theme=dark] .colab-df-convert {\n",
              "      background-color: #3B4455;\n",
              "      fill: #D2E3FC;\n",
              "    }\n",
              "\n",
              "    [theme=dark] .colab-df-convert:hover {\n",
              "      background-color: #434B5C;\n",
              "      box-shadow: 0px 1px 3px 1px rgba(0, 0, 0, 0.15);\n",
              "      filter: drop-shadow(0px 1px 2px rgba(0, 0, 0, 0.3));\n",
              "      fill: #FFFFFF;\n",
              "    }\n",
              "  </style>\n",
              "\n",
              "      <script>\n",
              "        const buttonEl =\n",
              "          document.querySelector('#df-f348900e-4219-47eb-9786-d5b30769d74c button.colab-df-convert');\n",
              "        buttonEl.style.display =\n",
              "          google.colab.kernel.accessAllowed ? 'block' : 'none';\n",
              "\n",
              "        async function convertToInteractive(key) {\n",
              "          const element = document.querySelector('#df-f348900e-4219-47eb-9786-d5b30769d74c');\n",
              "          const dataTable =\n",
              "            await google.colab.kernel.invokeFunction('convertToInteractive',\n",
              "                                                     [key], {});\n",
              "          if (!dataTable) return;\n",
              "\n",
              "          const docLinkHtml = 'Like what you see? Visit the ' +\n",
              "            '<a target=\"_blank\" href=https://colab.research.google.com/notebooks/data_table.ipynb>data table notebook</a>'\n",
              "            + ' to learn more about interactive tables.';\n",
              "          element.innerHTML = '';\n",
              "          dataTable['output_type'] = 'display_data';\n",
              "          await google.colab.output.renderOutput(dataTable, element);\n",
              "          const docLink = document.createElement('div');\n",
              "          docLink.innerHTML = docLinkHtml;\n",
              "          element.appendChild(docLink);\n",
              "        }\n",
              "      </script>\n",
              "    </div>\n",
              "  </div>\n",
              "  "
            ]
          },
          "metadata": {},
          "execution_count": 5
        }
      ],
      "source": [
        "path_file = \"/content/HumanDevelopment.csv\"\n",
        "data = pd.read_csv(path_file, header = 0)\n",
        "\n",
        "\n",
        "#visualicemos las primeras 10 filas del conjunto de datos\n",
        "data.head(10)\n"
      ]
    },
    {
      "cell_type": "markdown",
      "source": [
        "PAra este conjunto de datos queremos poder predecir EL HDI (Indice de desarrollo humano) de un país a partir de las variables ```LifeExpectancy```: Esperanza de vida al nacer, ```MeanYearsofEducation```: promedio de anios de eduación formal de los adultos y    ```GNIcapita```: ingreso nacional por habitante en dólares, esta variable está emparentada con el PBI per capita\n",
        "\n",
        "\n",
        "entonces en este caso:\n",
        "\n",
        "$$\n",
        "x^{(1)} = \\text{ Life expectancy}\n",
        "$$\n",
        "$$\n",
        "x^{(2)} = \\text{Mean years of education}\n",
        "$$\n",
        "$$\n",
        "x^{(3)} = \\text{GNI per capita}\n",
        "$$\n",
        "\n",
        "y la variable $y$ que es la que pretendemos estimar es $y = \\text{HDI}$\n",
        "\n",
        "Entonces en este caso buscamos una funcion de ajuste\n",
        "\n",
        "$$\n",
        "f(x^{(1)}, x^{(2)}, x^{(3)}) = b_0 + b_1* x^{(1)} +b_2*x^{(2)} + b_3* x^{(3)}\n",
        "$$\n",
        "\n",
        "usando el conjunto de datos dado."
      ],
      "metadata": {
        "id": "yvwzlUnolBuH"
      }
    },
    {
      "cell_type": "markdown",
      "source": [
        "## Ecuaciones Normales:\n",
        "\n",
        "En el caso de regresion lineal multivariada las ecuaciones normales que nos permiten determinar los coeficientes son muy similares a las que obtuvimos para regresión por funciones o regresión polinomial. Estas son:\n",
        "\n",
        "$$\n",
        "\\begin{bmatrix}\n",
        "b_0 \\\\ b_1 \\\\ b_2 \\\\ \\vdots \\\\ b_p\n",
        "\\end{bmatrix} = (X^T X)^{-1}X^T {\\bf y}\n",
        "$$\n",
        "\n",
        "donde $X$ es una matriz de tamaño $N \\times p+1$ con $N =$ cantidad de observaciones o datos y $p$= cantidad de variables para hacer la regresión.\n",
        "\n",
        "La matriz $X$ tiene todos unos en la primera columna, en la columna 2 tiene todas las N observaciones de la variable $x^{(1)}$, en la siguiente columna todas las observaciones de la variable $x^{(2)}$ y asi sucesivamente, es decir:\n",
        "\n",
        "$$\n",
        "X =\\begin{bmatrix}\n",
        "1 & x^{(1)}_1 & x^{(2)}_1 &\\cdots  & x^{(p)}_1\\\\ \n",
        "1 & x^{(1)}_2 & x^{(2)}_2 &\\cdots & x^{(p)}_2\\\\ \n",
        "\\vdots &\\vdots &\\vdots & \\cdots  & \\vdots\\\\ \n",
        "1 & x^{(1)}_N & x^{(2)}_2 &\\cdots & x^{(p)}_N\n",
        "\\end{bmatrix}, \\qquad  {\\bf y} =\\begin{bmatrix} y_1\\\\ y_2 \\\\ \\vdots \\\\ y_N\\end{bmatrix}\n",
        "$$\n",
        "\n",
        "\n"
      ],
      "metadata": {
        "id": "QWZo0QOWmtRp"
      }
    },
    {
      "cell_type": "markdown",
      "source": [
        "Implementemos una rutina que para un conjunto de datos nos devuelva la funcion de ajuste (el output de esta rutina va a ser un objeto función que podemos evaluar.)"
      ],
      "metadata": {
        "id": "zkaad4GZpzRY"
      }
    },
    {
      "cell_type": "code",
      "source": [
        "def Reg_lineal_multivariada(data_X, data_y):\n",
        "\n",
        "  \"\"\"\n",
        "  data_X = es una matrix de los datos de cada variable: es de tamanio N x p \n",
        "  donde N=cantidad de observaciones y p =cantidad de variables a usar\n",
        "  data_y = es un array de numpy de longitud N\n",
        "\n",
        "  coefs = [b_0, b_1, ..., b_p]\n",
        "\n",
        "  f(x) = b_0 +b_1x^{1} + ... +b_p x^{p}\n",
        "  \"\"\"\n",
        "  N , p = data_X.shape  # data_X tiene N filas p columnas\n",
        "\n",
        "  X = np.ones((N, p+1))   # X es como data_X pero le agregamos los unos al principio\n",
        "\n",
        "  X[:, 1:] = data_X     #decalramos que de la segunda columna en adelante X y data_X coincidan\n",
        "\n",
        "  coefs = np.linalg.solve(X.T @ X, X.T @ data_y) # coef\n",
        "\n",
        "  f = lambda x: coefs[0] + np.dot(coefs[1:], x)\n",
        "  #print(coefs)\n",
        "\n",
        "  return f\n",
        "\n"
      ],
      "metadata": {
        "id": "ziAKK9k1iFKZ"
      },
      "execution_count": 6,
      "outputs": []
    },
    {
      "cell_type": "code",
      "source": [
        "\n",
        "data_X = data.iloc[:, [1,2,3]]  # seleccionamos las columnas 1, 2,y 3 del dataframe data\n",
        "\n",
        "data_X.shape   # esto quiere decir que tenemos 195 observaciones de 3 variables\n"
      ],
      "metadata": {
        "colab": {
          "base_uri": "https://localhost:8080/"
        },
        "id": "ws8FpLwDvfVb",
        "outputId": "548120f7-414d-4958-a13d-5a5db73d86fc"
      },
      "execution_count": 7,
      "outputs": [
        {
          "output_type": "execute_result",
          "data": {
            "text/plain": [
              "(195, 3)"
            ]
          },
          "metadata": {},
          "execution_count": 7
        }
      ]
    },
    {
      "cell_type": "markdown",
      "source": [
        "Convertimos X en un numpy array para manipularlo:"
      ],
      "metadata": {
        "id": "JUcRuX--yBzT"
      }
    },
    {
      "cell_type": "code",
      "source": [
        "data_X = np.array(data_X)\n",
        "\n",
        "type(data_X)"
      ],
      "metadata": {
        "colab": {
          "base_uri": "https://localhost:8080/"
        },
        "id": "pLUVBF17x7vi",
        "outputId": "2829abd2-c31f-47b0-9c15-01e7c117cad6"
      },
      "execution_count": 8,
      "outputs": [
        {
          "output_type": "execute_result",
          "data": {
            "text/plain": [
              "numpy.ndarray"
            ]
          },
          "metadata": {},
          "execution_count": 8
        }
      ]
    },
    {
      "cell_type": "code",
      "source": [
        "data_y = data.iloc[:, 0]\n",
        "data_y = np.array(data_y)\n",
        "\n",
        "data_y.shape"
      ],
      "metadata": {
        "colab": {
          "base_uri": "https://localhost:8080/"
        },
        "id": "qOaMLLzhyLhz",
        "outputId": "4e0c23e3-9d55-43b5-f8b9-241fd9136972"
      },
      "execution_count": 9,
      "outputs": [
        {
          "output_type": "execute_result",
          "data": {
            "text/plain": [
              "(195,)"
            ]
          },
          "metadata": {},
          "execution_count": 9
        }
      ]
    },
    {
      "cell_type": "code",
      "source": [
        "f = Reg_lineal_multivariada(data_X, data_y)\n",
        "\n",
        "type(f)"
      ],
      "metadata": {
        "colab": {
          "base_uri": "https://localhost:8080/"
        },
        "id": "TLbWHj9qyRYb",
        "outputId": "873940ed-7c5b-4689-ecaf-d514c939cdb0"
      },
      "execution_count": 10,
      "outputs": [
        {
          "output_type": "execute_result",
          "data": {
            "text/plain": [
              "function"
            ]
          },
          "metadata": {},
          "execution_count": 10
        }
      ]
    },
    {
      "cell_type": "markdown",
      "source": [
        "Hay que tener en cuenta que el orden de las varaibles de f es el mismo en el que estan en data_X:\n",
        "\n",
        "Por ejemplo si queremos predecir para un pais con \n",
        "\n",
        "$$\n",
        "\\text{LifeExpectancy} = 81.6\n",
        "$$\n",
        "$$\\text{MeanYearsofEducation} =12.6$$\n",
        "\n",
        "$$\\text{GNIcapita} = 64992\n",
        "$$\n",
        "\n",
        "definimos $x = (81.6, 12.6, 64992)$ y calculamos $\\hat{y} = f(x)$ donde el sombrerito $\\hat{}$  denota la predicción."
      ],
      "metadata": {
        "id": "-Xa45e4AyzLI"
      }
    },
    {
      "cell_type": "code",
      "source": [
        "x = np.array([81.6, 12.6, 64992])  # en estos valores queremos predecir\n",
        "\n",
        "print(\"El HDI para un pais con LifeExp = 81.6, MYofEducation = 12.6 y GNI = 64992 es: \\n\", \n",
        "      f(x))"
      ],
      "metadata": {
        "colab": {
          "base_uri": "https://localhost:8080/"
        },
        "id": "vGce8CYDyvOh",
        "outputId": "4e597b03-3b52-4a1b-c3bc-859434a9b4e8"
      },
      "execution_count": 11,
      "outputs": [
        {
          "output_type": "stream",
          "name": "stdout",
          "text": [
            "El HDI para un pais con LifeExp = 81.6, MYofEducation = 12.6 y GNI = 64992 es: \n",
            " 0.9603618824237572\n"
          ]
        }
      ]
    },
    {
      "cell_type": "markdown",
      "source": [
        "si queremos predecir para un pais con \n",
        "\n",
        "$$\n",
        "\\text{LifeExpectancy} = 50\n",
        "$$\n",
        "$$\n",
        "\\text{MeanYearsofEducation} =10\n",
        "$$\n",
        "$$\n",
        "\\text{GNIcapita} = 64992\n",
        "$$\n",
        "\n",
        "definimos $x = (50, 10, 64992)$ y calculamos $\\hat{y} = f(x)$ donde el sombrerito $\\hat{}$  denota la predicción."
      ],
      "metadata": {
        "id": "xLknZuph1mtQ"
      }
    },
    {
      "cell_type": "code",
      "source": [
        "x = np.array([50, 10, 64992])\n",
        "\n",
        "print(\"El HDI predicho es: \", f(x))"
      ],
      "metadata": {
        "colab": {
          "base_uri": "https://localhost:8080/"
        },
        "id": "0-LKcTTF0l8B",
        "outputId": "7dac87c1-a7cf-4cfd-850d-123db9672e14"
      },
      "execution_count": 13,
      "outputs": [
        {
          "output_type": "stream",
          "name": "stdout",
          "text": [
            "El HDI predicho es:  0.6476247266025903\n"
          ]
        }
      ]
    },
    {
      "cell_type": "markdown",
      "source": [
        "se nota que aunque el GNI sea igual que antes, influyó el valor de LifeExpecta y de MeanYears of Education"
      ],
      "metadata": {
        "id": "UT231wFo2Hu_"
      }
    },
    {
      "cell_type": "code",
      "source": [
        "x = np.array([81.6, 10, 64992])\n",
        "\n",
        "print(\"El HDI predicho es: \", f(x))"
      ],
      "metadata": {
        "colab": {
          "base_uri": "https://localhost:8080/"
        },
        "id": "ZsIQ75OJ0pJa",
        "outputId": "b3fb6a7c-3b35-4126-a591-f51bc1dade66"
      },
      "execution_count": 14,
      "outputs": [
        {
          "output_type": "stream",
          "name": "stdout",
          "text": [
            "El HDI predicho es:  0.8998179564327845\n"
          ]
        }
      ]
    },
    {
      "cell_type": "code",
      "source": [
        "x = np.array([50, 12.6, 64992])\n",
        "\n",
        "print(\"El HDI predicho es: \", f(x))"
      ],
      "metadata": {
        "colab": {
          "base_uri": "https://localhost:8080/"
        },
        "id": "4ofUCmw02UB8",
        "outputId": "50743868-5858-415f-fdd4-90dcd2e0534a"
      },
      "execution_count": 15,
      "outputs": [
        {
          "output_type": "stream",
          "name": "stdout",
          "text": [
            "El HDI predicho es:  0.7081686525935632\n"
          ]
        }
      ]
    },
    {
      "cell_type": "markdown",
      "source": [
        "Calculamos el $R^2$ de esta regresión:\n",
        "\n",
        "\n",
        "$$R^2 = \\displaystyle\\frac{\\sum_{i=1}^n(\\hat{y_i} - \\bar{y})^2}{\\sum_{j=1}^n(y_j - y_j)^2}$$\n",
        "\n",
        "donde $\\hat{y_i} = f(x_i)$ el la predicción de $y_i$ usando la función de ajuste $f$."
      ],
      "metadata": {
        "id": "gsEO3wHTKCw6"
      }
    },
    {
      "cell_type": "code",
      "source": [
        "def R2regmultiple(f, x,y):\n",
        "\n",
        "  \"\"\"\n",
        "  Esta funcion calcula el r^2 de la regresion lineal dados los datos x, y\n",
        "  \"\"\"\n",
        "  \n",
        "  y_predicho = np.array([f(x[i,:]) for i in range(len(y))])\n",
        "\n",
        "  avg_y = np.mean(y)\n",
        "\n",
        "  numerador = np.sum((y_predicho - y)**2)\n",
        "  denominador = np.sum((y - avg_y)**2)\n",
        "\n",
        "  return 1 - numerador/denominador"
      ],
      "metadata": {
        "id": "460pEYoS2X-O"
      },
      "execution_count": 45,
      "outputs": []
    },
    {
      "cell_type": "code",
      "source": [
        "r2 = R2regmultiple(f, data_X, data_y)\n",
        "\n",
        "print(\"El R^2 de esta regresion es:\", r2)"
      ],
      "metadata": {
        "colab": {
          "base_uri": "https://localhost:8080/"
        },
        "id": "uKGTo7TuNIE1",
        "outputId": "a45393ea-0732-4aa7-a16a-20cfd7c77d78"
      },
      "execution_count": 46,
      "outputs": [
        {
          "output_type": "stream",
          "name": "stdout",
          "text": [
            "El R^2 de esta regresion es: 0.9553241223196648\n"
          ]
        }
      ]
    },
    {
      "cell_type": "code",
      "source": [],
      "metadata": {
        "id": "tOgoz53BPI1G"
      },
      "execution_count": null,
      "outputs": []
    }
  ]
}