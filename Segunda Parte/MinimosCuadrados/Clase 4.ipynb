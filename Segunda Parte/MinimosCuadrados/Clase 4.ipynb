{
  "nbformat": 4,
  "nbformat_minor": 0,
  "metadata": {
    "colab": {
      "provenance": [],
      "authorship_tag": "ABX9TyPHTWZcLPoqZ97GCA/l+p5F",
      "include_colab_link": true
    },
    "kernelspec": {
      "name": "python3",
      "display_name": "Python 3"
    },
    "language_info": {
      "name": "python"
    }
  },
  "cells": [
    {
      "cell_type": "markdown",
      "metadata": {
        "id": "view-in-github",
        "colab_type": "text"
      },
      "source": [
        "<a href=\"https://colab.research.google.com/github/binaria010/Mate2B/blob/main/Segunda%20Parte/MinimosCuadrados/Clase%204.ipynb\" target=\"_parent\"><img src=\"https://colab.research.google.com/assets/colab-badge.svg\" alt=\"Open In Colab\"/></a>"
      ]
    },
    {
      "cell_type": "markdown",
      "source": [
        "# Contenidos:\n",
        "\n",
        "1. Finalizamos la práctica de regresión lineal haciendo el caso multivariado. \n",
        "\n",
        "2. Hacemos una introducción/calentamiento a Componentes principales. "
      ],
      "metadata": {
        "id": "D349ntJyQmb2"
      }
    },
    {
      "cell_type": "code",
      "source": [
        "import numpy as np\n",
        "import pandas as pd\n"
      ],
      "metadata": {
        "id": "XwiPnV1uhhNy"
      },
      "execution_count": 1,
      "outputs": []
    },
    {
      "cell_type": "markdown",
      "source": [
        "# Regresion lineal multivariada:\n",
        "\n",
        "\n",
        "\n",
        "\n",
        "Suponemos que tenemos un conjunto de datos de la forma\n",
        "$$\n",
        "({\\bf x}_1, y_1), ({\\bf x}_2, y_2), \\dots, ({\\bf x}_N, y_N)\n",
        "$$\n",
        "\n",
        "donde ahora cada ${\\bf x}_i$ es un vector de digamos $p$ variables ${\\bf x} = (x^{(1)}, x^{(2)},\\dots, x^{(p)})$ y el indicie $i$ representa la observación i-esima de cada una de ellas.\n",
        "\n",
        "El objetivo de la regresion multivariada es de nuevo buscar una función lineal de ajuste que ahora depende de estas $p$ variables.\n",
        "\n",
        "La función es de la forma:\n",
        "\n",
        "$$\n",
        "f(x^{(1)}, \\dots, x^{(p)}) = b_0 + b_1 x^{(1)} + b_2x^{(2)} + \\cdots b_p x^{(p)}\n",
        "$$\n",
        "\n",
        "Donde los coeficientes $b_0,~b_1,~\\cdots,b_p$ se determinan a partir del conjunto de datos.\n",
        "\n",
        "Por ejemplo: Consideremos el conjunto de datos Iris:\n",
        "\n"
      ],
      "metadata": {
        "id": "NiUD0rfLOspu"
      }
    },
    {
      "cell_type": "code",
      "execution_count": 2,
      "metadata": {
        "colab": {
          "base_uri": "https://localhost:8080/",
          "height": 363
        },
        "id": "40tZAyxhOd7Y",
        "outputId": "c928c8d5-23ff-4fd8-9ba4-dfc119b62730"
      },
      "outputs": [
        {
          "output_type": "execute_result",
          "data": {
            "text/plain": [
              "     HDI  LifeExpectancy   MeanYearsofEducation  GNIcapita\n",
              "0  0.944            81.6                   12.6      64992\n",
              "1  0.935            82.4                   13.0      42261\n",
              "2  0.930            83.0                   12.8      56431\n",
              "3  0.923            80.2                   12.7      44025\n",
              "4  0.922            81.6                   11.9      45435\n",
              "5  0.916            80.9                   13.1      43919\n",
              "6  0.916            80.9                   12.2      39568\n",
              "7  0.915            79.1                   12.9      52947\n",
              "8  0.913            82.0                   13.0      42155\n",
              "9  0.913            81.8                   12.5      32689"
            ],
            "text/html": [
              "\n",
              "  <div id=\"df-339ee982-ddee-4ba7-90ec-aba6a6ec83af\">\n",
              "    <div class=\"colab-df-container\">\n",
              "      <div>\n",
              "<style scoped>\n",
              "    .dataframe tbody tr th:only-of-type {\n",
              "        vertical-align: middle;\n",
              "    }\n",
              "\n",
              "    .dataframe tbody tr th {\n",
              "        vertical-align: top;\n",
              "    }\n",
              "\n",
              "    .dataframe thead th {\n",
              "        text-align: right;\n",
              "    }\n",
              "</style>\n",
              "<table border=\"1\" class=\"dataframe\">\n",
              "  <thead>\n",
              "    <tr style=\"text-align: right;\">\n",
              "      <th></th>\n",
              "      <th>HDI</th>\n",
              "      <th>LifeExpectancy</th>\n",
              "      <th>MeanYearsofEducation</th>\n",
              "      <th>GNIcapita</th>\n",
              "    </tr>\n",
              "  </thead>\n",
              "  <tbody>\n",
              "    <tr>\n",
              "      <th>0</th>\n",
              "      <td>0.944</td>\n",
              "      <td>81.6</td>\n",
              "      <td>12.6</td>\n",
              "      <td>64992</td>\n",
              "    </tr>\n",
              "    <tr>\n",
              "      <th>1</th>\n",
              "      <td>0.935</td>\n",
              "      <td>82.4</td>\n",
              "      <td>13.0</td>\n",
              "      <td>42261</td>\n",
              "    </tr>\n",
              "    <tr>\n",
              "      <th>2</th>\n",
              "      <td>0.930</td>\n",
              "      <td>83.0</td>\n",
              "      <td>12.8</td>\n",
              "      <td>56431</td>\n",
              "    </tr>\n",
              "    <tr>\n",
              "      <th>3</th>\n",
              "      <td>0.923</td>\n",
              "      <td>80.2</td>\n",
              "      <td>12.7</td>\n",
              "      <td>44025</td>\n",
              "    </tr>\n",
              "    <tr>\n",
              "      <th>4</th>\n",
              "      <td>0.922</td>\n",
              "      <td>81.6</td>\n",
              "      <td>11.9</td>\n",
              "      <td>45435</td>\n",
              "    </tr>\n",
              "    <tr>\n",
              "      <th>5</th>\n",
              "      <td>0.916</td>\n",
              "      <td>80.9</td>\n",
              "      <td>13.1</td>\n",
              "      <td>43919</td>\n",
              "    </tr>\n",
              "    <tr>\n",
              "      <th>6</th>\n",
              "      <td>0.916</td>\n",
              "      <td>80.9</td>\n",
              "      <td>12.2</td>\n",
              "      <td>39568</td>\n",
              "    </tr>\n",
              "    <tr>\n",
              "      <th>7</th>\n",
              "      <td>0.915</td>\n",
              "      <td>79.1</td>\n",
              "      <td>12.9</td>\n",
              "      <td>52947</td>\n",
              "    </tr>\n",
              "    <tr>\n",
              "      <th>8</th>\n",
              "      <td>0.913</td>\n",
              "      <td>82.0</td>\n",
              "      <td>13.0</td>\n",
              "      <td>42155</td>\n",
              "    </tr>\n",
              "    <tr>\n",
              "      <th>9</th>\n",
              "      <td>0.913</td>\n",
              "      <td>81.8</td>\n",
              "      <td>12.5</td>\n",
              "      <td>32689</td>\n",
              "    </tr>\n",
              "  </tbody>\n",
              "</table>\n",
              "</div>\n",
              "      <button class=\"colab-df-convert\" onclick=\"convertToInteractive('df-339ee982-ddee-4ba7-90ec-aba6a6ec83af')\"\n",
              "              title=\"Convert this dataframe to an interactive table.\"\n",
              "              style=\"display:none;\">\n",
              "        \n",
              "  <svg xmlns=\"http://www.w3.org/2000/svg\" height=\"24px\"viewBox=\"0 0 24 24\"\n",
              "       width=\"24px\">\n",
              "    <path d=\"M0 0h24v24H0V0z\" fill=\"none\"/>\n",
              "    <path d=\"M18.56 5.44l.94 2.06.94-2.06 2.06-.94-2.06-.94-.94-2.06-.94 2.06-2.06.94zm-11 1L8.5 8.5l.94-2.06 2.06-.94-2.06-.94L8.5 2.5l-.94 2.06-2.06.94zm10 10l.94 2.06.94-2.06 2.06-.94-2.06-.94-.94-2.06-.94 2.06-2.06.94z\"/><path d=\"M17.41 7.96l-1.37-1.37c-.4-.4-.92-.59-1.43-.59-.52 0-1.04.2-1.43.59L10.3 9.45l-7.72 7.72c-.78.78-.78 2.05 0 2.83L4 21.41c.39.39.9.59 1.41.59.51 0 1.02-.2 1.41-.59l7.78-7.78 2.81-2.81c.8-.78.8-2.07 0-2.86zM5.41 20L4 18.59l7.72-7.72 1.47 1.35L5.41 20z\"/>\n",
              "  </svg>\n",
              "      </button>\n",
              "      \n",
              "  <style>\n",
              "    .colab-df-container {\n",
              "      display:flex;\n",
              "      flex-wrap:wrap;\n",
              "      gap: 12px;\n",
              "    }\n",
              "\n",
              "    .colab-df-convert {\n",
              "      background-color: #E8F0FE;\n",
              "      border: none;\n",
              "      border-radius: 50%;\n",
              "      cursor: pointer;\n",
              "      display: none;\n",
              "      fill: #1967D2;\n",
              "      height: 32px;\n",
              "      padding: 0 0 0 0;\n",
              "      width: 32px;\n",
              "    }\n",
              "\n",
              "    .colab-df-convert:hover {\n",
              "      background-color: #E2EBFA;\n",
              "      box-shadow: 0px 1px 2px rgba(60, 64, 67, 0.3), 0px 1px 3px 1px rgba(60, 64, 67, 0.15);\n",
              "      fill: #174EA6;\n",
              "    }\n",
              "\n",
              "    [theme=dark] .colab-df-convert {\n",
              "      background-color: #3B4455;\n",
              "      fill: #D2E3FC;\n",
              "    }\n",
              "\n",
              "    [theme=dark] .colab-df-convert:hover {\n",
              "      background-color: #434B5C;\n",
              "      box-shadow: 0px 1px 3px 1px rgba(0, 0, 0, 0.15);\n",
              "      filter: drop-shadow(0px 1px 2px rgba(0, 0, 0, 0.3));\n",
              "      fill: #FFFFFF;\n",
              "    }\n",
              "  </style>\n",
              "\n",
              "      <script>\n",
              "        const buttonEl =\n",
              "          document.querySelector('#df-339ee982-ddee-4ba7-90ec-aba6a6ec83af button.colab-df-convert');\n",
              "        buttonEl.style.display =\n",
              "          google.colab.kernel.accessAllowed ? 'block' : 'none';\n",
              "\n",
              "        async function convertToInteractive(key) {\n",
              "          const element = document.querySelector('#df-339ee982-ddee-4ba7-90ec-aba6a6ec83af');\n",
              "          const dataTable =\n",
              "            await google.colab.kernel.invokeFunction('convertToInteractive',\n",
              "                                                     [key], {});\n",
              "          if (!dataTable) return;\n",
              "\n",
              "          const docLinkHtml = 'Like what you see? Visit the ' +\n",
              "            '<a target=\"_blank\" href=https://colab.research.google.com/notebooks/data_table.ipynb>data table notebook</a>'\n",
              "            + ' to learn more about interactive tables.';\n",
              "          element.innerHTML = '';\n",
              "          dataTable['output_type'] = 'display_data';\n",
              "          await google.colab.output.renderOutput(dataTable, element);\n",
              "          const docLink = document.createElement('div');\n",
              "          docLink.innerHTML = docLinkHtml;\n",
              "          element.appendChild(docLink);\n",
              "        }\n",
              "      </script>\n",
              "    </div>\n",
              "  </div>\n",
              "  "
            ]
          },
          "metadata": {},
          "execution_count": 2
        }
      ],
      "source": [
        "path_file = \"/content/HumanDevelopment.csv\"\n",
        "data = pd.read_csv(path_file, header = 0)\n",
        "\n",
        "\n",
        "#visualicemos las primeras 10 filas del conjunto de datos\n",
        "data.head(10)\n"
      ]
    },
    {
      "cell_type": "markdown",
      "source": [
        "PAra este conjunto de datos queremos poder predecir EL HDI (Indice de desarrollo humano) de un país a partir de las variables ```LifeExpectancy```: Esperanza de vida al nacer, ```MeanYearsofEducation```: promedio de anios de eduación formal de los adultos y    ```GNIcapita```: ingreso nacional por habitante en dólares, esta variable está emparentada con el PBI per capita\n",
        "\n",
        "\n",
        "entonces en este caso:\n",
        "\n",
        "$$\n",
        "x^{(1)} = \\text{ Life expectancy}\n",
        "$$\n",
        "$$\n",
        "x^{(2)} = \\text{Mean years of education}\n",
        "$$\n",
        "$$\n",
        "x^{(3)} = \\text{GNI per capita}\n",
        "$$\n",
        "\n",
        "y la variable $y$ que es la que pretendemos estimar es $y = \\text{HDI}$\n",
        "\n",
        "Entonces en este caso buscamos una funcion de ajuste\n",
        "\n",
        "$$\n",
        "f(x^{(1)}, x^{(2)}, x^{(3)}) = b_0 + b_1* x^{(1)} +b_2*x^{(2)} + b_3* x^{(3)}\n",
        "$$\n",
        "\n",
        "usando el conjunto de datos dado."
      ],
      "metadata": {
        "id": "yvwzlUnolBuH"
      }
    },
    {
      "cell_type": "markdown",
      "source": [
        "## Ecuaciones Normales:\n",
        "\n",
        "En el caso de regresion lineal multivariada las ecuaciones normales que nos permiten determinar los coeficientes son muy similares a las que obtuvimos para regresión por funciones o regresión polinomial. Estas son:\n",
        "\n",
        "$$\n",
        "\\begin{bmatrix}\n",
        "b_0 \\\\ b_1 \\\\ b_2 \\\\ \\vdots \\\\ b_p\n",
        "\\end{bmatrix} = (X^T X)^{-1}X^T {\\bf y}\n",
        "$$\n",
        "\n",
        "donde $X$ es una matriz de tamaño $N \\times p+1$ con $N =$ cantidad de observaciones o datos y $p$= cantidad de variables para hacer la regresión.\n",
        "\n",
        "La matriz $X$ tiene todos unos en la primera columna, en la columna 2 tiene todas las N observaciones de la variable $x^{(1)}$, en la siguiente columna todas las observaciones de la variable $x^{(2)}$ y asi sucesivamente, es decir:\n",
        "\n",
        "$$\n",
        "X =\\begin{bmatrix}\n",
        "1 & x^{(1)}_1 & x^{(2)}_1 &\\cdots  & x^{(p)}_1\\\\ \n",
        "1 & x^{(1)}_2 & x^{(2)}_2 &\\cdots & x^{(p)}_2\\\\ \n",
        "\\vdots &\\vdots &\\vdots & \\cdots  & \\vdots\\\\ \n",
        "1 & x^{(1)}_N & x^{(2)}_2 &\\cdots & x^{(p)}_N\n",
        "\\end{bmatrix}, \\qquad  {\\bf y} =\\begin{bmatrix} y_1\\\\ y_2 \\\\ \\vdots \\\\ y_N\\end{bmatrix}\n",
        "$$\n",
        "\n",
        "\n"
      ],
      "metadata": {
        "id": "QWZo0QOWmtRp"
      }
    },
    {
      "cell_type": "markdown",
      "source": [
        "Implementemos una rutina que para un conjunto de datos nos devuelva la funcion de ajuste (el output de esta rutina va a ser un objeto función que podemos evaluar.)"
      ],
      "metadata": {
        "id": "zkaad4GZpzRY"
      }
    },
    {
      "cell_type": "code",
      "source": [
        "def Reg_lineal_multivariada(data_X, data_y):\n",
        "\n",
        "  \"\"\"\n",
        "  data_X = es una matrix de los datos de cada variable: es de tamanio N x p \n",
        "  donde N=cantidad de observaciones y p =cantidad de variables a usar\n",
        "  data_y = es un array de numpy de longitud N\n",
        "\n",
        "  coefs = [b_0, b_1, ..., b_p]\n",
        "\n",
        "  f(x) = b_0 +b_1x^{1} + ... +b_p x^{p}\n",
        "  \"\"\"\n",
        "  N , p = data_X.shape  # data_X tiene N filas p columnas\n",
        "\n",
        "  X = np.ones((N, p+1))   # X es como data_X pero le agregamos los unos al principio\n",
        "\n",
        "  X[:, 1:] = data_X     #decalramos que de la segunda columna en adelante X y data_X coincidan\n",
        "\n",
        "  coefs = np.linalg.solve(X.T @ X, X.T @ data_y) # coef\n",
        "\n",
        "  f = lambda x: coefs[0] + np.dot(coefs[1:], x)\n",
        "  #print(coefs)\n",
        "\n",
        "  return f\n",
        "\n"
      ],
      "metadata": {
        "id": "ziAKK9k1iFKZ"
      },
      "execution_count": 3,
      "outputs": []
    },
    {
      "cell_type": "code",
      "source": [
        "\n",
        "data_X = data.iloc[:, [1,2,3]]  # seleccionamos las columnas 1, 2,y 3 del dataframe data\n",
        "\n",
        "data_X.shape   # esto quiere decir que tenemos 195 observaciones de 3 variables\n"
      ],
      "metadata": {
        "colab": {
          "base_uri": "https://localhost:8080/"
        },
        "id": "ws8FpLwDvfVb",
        "outputId": "a40cb28d-d5f8-406b-8ffb-537920685dc8"
      },
      "execution_count": 5,
      "outputs": [
        {
          "output_type": "execute_result",
          "data": {
            "text/plain": [
              "(195, 3)"
            ]
          },
          "metadata": {},
          "execution_count": 5
        }
      ]
    },
    {
      "cell_type": "markdown",
      "source": [
        "Convertimos X en un numpy array para manipularlo:"
      ],
      "metadata": {
        "id": "JUcRuX--yBzT"
      }
    },
    {
      "cell_type": "code",
      "source": [
        "data_X = np.array(data_X)\n",
        "\n",
        "type(data_X)"
      ],
      "metadata": {
        "colab": {
          "base_uri": "https://localhost:8080/"
        },
        "id": "pLUVBF17x7vi",
        "outputId": "35518c50-6d58-4272-ea45-7cf75bd68c45"
      },
      "execution_count": 6,
      "outputs": [
        {
          "output_type": "execute_result",
          "data": {
            "text/plain": [
              "numpy.ndarray"
            ]
          },
          "metadata": {},
          "execution_count": 6
        }
      ]
    },
    {
      "cell_type": "code",
      "source": [
        "data_y = data.iloc[:, 0]\n",
        "data_y = np.array(data_y)\n",
        "\n",
        "data_y.shape"
      ],
      "metadata": {
        "colab": {
          "base_uri": "https://localhost:8080/"
        },
        "id": "qOaMLLzhyLhz",
        "outputId": "12a7ea07-b1bc-4c2f-98f7-3ee6e16d0117"
      },
      "execution_count": 8,
      "outputs": [
        {
          "output_type": "execute_result",
          "data": {
            "text/plain": [
              "(195,)"
            ]
          },
          "metadata": {},
          "execution_count": 8
        }
      ]
    },
    {
      "cell_type": "code",
      "source": [
        "f = Reg_lineal_multivariada(data_X, data_y)\n",
        "\n",
        "type(f)"
      ],
      "metadata": {
        "colab": {
          "base_uri": "https://localhost:8080/"
        },
        "id": "TLbWHj9qyRYb",
        "outputId": "62007aad-f6a2-484c-fdad-deb5f3d3c5ac"
      },
      "execution_count": 9,
      "outputs": [
        {
          "output_type": "execute_result",
          "data": {
            "text/plain": [
              "function"
            ]
          },
          "metadata": {},
          "execution_count": 9
        }
      ]
    },
    {
      "cell_type": "markdown",
      "source": [
        "Hay que tener en cuenta que el orden de las varaibles de f es el mismo en el que estan en data_X:\n",
        "\n",
        "Por ejemplo si queremos predecir para un pais con \n",
        "\n",
        "$$\n",
        "\\text{LifeExpectancy} = 81.6\n",
        "$$\n",
        "$$\\text{MeanYearsofEducation} =12.6$$\n",
        "\n",
        "$$\\text{GNIcapita} = 64992\n",
        "$$\n",
        "\n",
        "definimos $x = (81.6, 12.6, 64992)$ y calculamos $\\hat{y} = f(x)$ donde el sombrerito $\\hat{}$  denota la predicción."
      ],
      "metadata": {
        "id": "-Xa45e4AyzLI"
      }
    },
    {
      "cell_type": "code",
      "source": [
        "x = np.array([81.6, 12.6, 64992])  # en estos valores queremos predecir\n",
        "\n",
        "print(\"El HDI para un pais con LifeExp = 81.6, MYofEducation = 12.6 y GNI = 64992 es: \\n\", \n",
        "      f(x))"
      ],
      "metadata": {
        "colab": {
          "base_uri": "https://localhost:8080/"
        },
        "id": "vGce8CYDyvOh",
        "outputId": "d5dbb5c2-4315-4da6-a593-62cc2761ab49"
      },
      "execution_count": 10,
      "outputs": [
        {
          "output_type": "stream",
          "name": "stdout",
          "text": [
            "El HDI para un pais con LifeExp = 81.6, MYofEducation = 12.6 y GNI = 64992 es: \n",
            " 0.9603618824237572\n"
          ]
        }
      ]
    },
    {
      "cell_type": "markdown",
      "source": [
        "si queremos predecir para un pais con \n",
        "\n",
        "$$\n",
        "\\text{LifeExpectancy} = 50\n",
        "$$\n",
        "$$\n",
        "\\text{MeanYearsofEducation} =10\n",
        "$$\n",
        "$$\n",
        "\\text{GNIcapita} = 64992\n",
        "$$\n",
        "\n",
        "definimos $x = (50, 10, 64992)$ y calculamos $\\hat{y} = f(x)$ donde el sombrerito $\\hat{}$  denota la predicción."
      ],
      "metadata": {
        "id": "xLknZuph1mtQ"
      }
    },
    {
      "cell_type": "code",
      "source": [
        "x = np.array([50, 10, 64992])\n",
        "\n",
        "print(\"El HDI predicho es: \", f(x))"
      ],
      "metadata": {
        "colab": {
          "base_uri": "https://localhost:8080/"
        },
        "id": "0-LKcTTF0l8B",
        "outputId": "1fc29f00-9029-4b03-ea87-443b88ac6f1b"
      },
      "execution_count": 11,
      "outputs": [
        {
          "output_type": "stream",
          "name": "stdout",
          "text": [
            "El HDI predicho es:  0.6476247266025903\n"
          ]
        }
      ]
    },
    {
      "cell_type": "markdown",
      "source": [
        "se nota que aunque el GNI sea igual que antes, influyó el valor de LifeExpecta y de MeanYears of Education"
      ],
      "metadata": {
        "id": "UT231wFo2Hu_"
      }
    },
    {
      "cell_type": "code",
      "source": [
        "x = np.array([81.6, 10, 64992])\n",
        "\n",
        "print(\"El HDI predicho es: \", f(x))"
      ],
      "metadata": {
        "colab": {
          "base_uri": "https://localhost:8080/"
        },
        "id": "ZsIQ75OJ0pJa",
        "outputId": "f0b2b86d-149c-4a85-ea4e-d3256a107bc3"
      },
      "execution_count": 12,
      "outputs": [
        {
          "output_type": "stream",
          "name": "stdout",
          "text": [
            "El HDI predicho es:  0.8998179564327845\n"
          ]
        }
      ]
    },
    {
      "cell_type": "code",
      "source": [
        "x = np.array([50, 12.6, 64992])\n",
        "\n",
        "print(\"El HDI predicho es: \", f(x))"
      ],
      "metadata": {
        "colab": {
          "base_uri": "https://localhost:8080/"
        },
        "id": "4ofUCmw02UB8",
        "outputId": "af2d2a18-08b7-4c55-8d42-c3fbefecd95e"
      },
      "execution_count": 13,
      "outputs": [
        {
          "output_type": "stream",
          "name": "stdout",
          "text": [
            "El HDI predicho es:  0.7081686525935632\n"
          ]
        }
      ]
    },
    {
      "cell_type": "markdown",
      "source": [
        "Calculamos el $R^2$ de esta regresión:\n",
        "\n",
        "\n",
        "$$R^2 = \\displaystyle\\frac{\\sum_{i=1}^n(\\hat{y_i} - \\bar{y})^2}{\\sum_{j=1}^n(y_j - y_j)^2}$$\n",
        "\n",
        "donde $\\hat{y_i} = f(x_i)$ el la predicción de $y_i$ usando la función de ajuste $f$."
      ],
      "metadata": {
        "id": "gsEO3wHTKCw6"
      }
    },
    {
      "cell_type": "code",
      "source": [
        "def R2regmultiple(f, x,y):\n",
        "\n",
        "  \"\"\"\n",
        "  Esta funcion calcula el r^2 de la regresion lineal dados los datos x, y\n",
        "  \"\"\"\n",
        "  \n",
        "  y_predicho = np.array([f(x[i,:]) for i in range(len(y))])\n",
        "\n",
        "  avg_y = np.mean(y)\n",
        "\n",
        "  numerador = np.sum((y_predicho - avg_y)**2)\n",
        "  denominador = np.sum((y - avg_y)**2)\n",
        "\n",
        "  return numerador/denominador"
      ],
      "metadata": {
        "id": "460pEYoS2X-O"
      },
      "execution_count": 14,
      "outputs": []
    },
    {
      "cell_type": "code",
      "source": [
        "r2 = R2regmultiple(f, data_X, data_y)\n",
        "\n",
        "print(\"El R^2 de esta regresion es:\", r2)"
      ],
      "metadata": {
        "colab": {
          "base_uri": "https://localhost:8080/"
        },
        "id": "uKGTo7TuNIE1",
        "outputId": "41f6e763-9f50-4a15-830f-522732fc3e33"
      },
      "execution_count": 15,
      "outputs": [
        {
          "output_type": "stream",
          "name": "stdout",
          "text": [
            "El R^2 de esta regresion es: 0.9553241223196574\n"
          ]
        }
      ]
    },
    {
      "cell_type": "markdown",
      "source": [
        "# 2. PCA: una entrada en calor a componentes principales\n",
        "\n",
        "Dado un conjunto de datos, para empezar este conjunto son N observaciones de dos variables, calculamos la matriz de covarianza/correlacion y sus autovalores y autovectores (componnentes principales)\n",
        "\n",
        "\n"
      ],
      "metadata": {
        "id": "rbiHIUfXQkg-"
      }
    },
    {
      "cell_type": "code",
      "source": [
        "indices = np.random.choice(195, size = 15, replace = False)\n"
      ],
      "metadata": {
        "id": "tOgoz53BPI1G"
      },
      "execution_count": 17,
      "outputs": []
    },
    {
      "cell_type": "code",
      "source": [
        "X = data_X[indices]\n",
        "print(X)"
      ],
      "metadata": {
        "colab": {
          "base_uri": "https://localhost:8080/"
        },
        "id": "ajl1_ZFOgNjo",
        "outputId": "1e7aaea6-90bd-4227-e6e2-f04c9c48c38e"
      },
      "execution_count": 18,
      "outputs": [
        {
          "output_type": "stream",
          "name": "stdout",
          "text": [
            "[[6.3100e+01 3.8000e+00 3.5600e+03]\n",
            " [7.0100e+01 1.2000e+01 2.2352e+04]\n",
            " [5.7400e+01 9.9000e+00 1.2122e+04]\n",
            " [6.9400e+01 6.4000e+00 1.4003e+04]\n",
            " [6.8900e+01 7.6000e+00 9.7880e+03]\n",
            " [5.8500e+01 5.2000e+00 3.3630e+03]\n",
            " [7.4000e+01 7.5000e+00 1.1449e+04]\n",
            " [6.6000e+01 7.8000e+00 2.4340e+03]\n",
            " [8.0800e+01 1.1300e+01 4.1187e+04]\n",
            " [6.1600e+01 6.3000e+00 2.7620e+03]\n",
            " [7.7800e+01 7.9000e+00 9.9940e+03]\n",
            " [7.5400e+01 9.3000e+00 1.1780e+04]\n",
            " [8.1900e+01 1.1900e+01 3.3890e+04]\n",
            " [6.4400e+01 7.8000e+00 1.6367e+04]\n",
            " [7.4900e+01 1.2100e+01 7.1640e+03]]\n"
          ]
        }
      ]
    },
    {
      "cell_type": "code",
      "source": [
        "X.shape\n"
      ],
      "metadata": {
        "colab": {
          "base_uri": "https://localhost:8080/"
        },
        "id": "Jx_MAgi0WGoL",
        "outputId": "2b177769-0567-43a4-e188-6611ee69b09f"
      },
      "execution_count": 19,
      "outputs": [
        {
          "output_type": "execute_result",
          "data": {
            "text/plain": [
              "(15, 3)"
            ]
          },
          "metadata": {},
          "execution_count": 19
        }
      ]
    },
    {
      "cell_type": "markdown",
      "source": [
        "Para este conjunto de 195 observaciones de 3 variables calculemos la matriz de covarianza y de correlacion:\n",
        "\n",
        "Primero centremos los datos:"
      ],
      "metadata": {
        "id": "oZdy1HNWfjHT"
      }
    },
    {
      "cell_type": "code",
      "source": [
        "# Centramos los datos de cada variable por separado:\n",
        "\n",
        "x1 = (X[:, 0] - np.mean(X[:, 0]))\n",
        "x2 = X[:, 1] - np.mean(X[:, 1])\n",
        "x3 = X[:, 2] - np.mean(X[:, 2])\n",
        "\n",
        "print(\"x1 = \\n\", x1)\n",
        "print(\"x2 = \\n\", x2)\n",
        "print(\"x3 = \\n\", x3)\n",
        " \n",
        "print(\"----------------------\")\n",
        "print(\"El promedio de las observaciones de x1 es: \", np.mean(x1))\n",
        "print(\"El promedio de las observaciones de x2 es: \", np.mean(x2))\n",
        "print(\"El promedio de las observaciones de x3 es: \", np.mean(x3))"
      ],
      "metadata": {
        "colab": {
          "base_uri": "https://localhost:8080/"
        },
        "id": "OYD6743xhIiF",
        "outputId": "4752eb3d-a357-434b-83de-fc3a18a324fd"
      },
      "execution_count": 20,
      "outputs": [
        {
          "output_type": "stream",
          "name": "stdout",
          "text": [
            "x1 = \n",
            " [ -6.51333333   0.48666667 -12.21333333  -0.21333333  -0.71333333\n",
            " -11.11333333   4.38666667  -3.61333333  11.18666667  -8.01333333\n",
            "   8.18666667   5.78666667  12.28666667  -5.21333333   5.28666667]\n",
            "x2 = \n",
            " [-4.65333333  3.54666667  1.44666667 -2.05333333 -0.85333333 -3.25333333\n",
            " -0.95333333 -0.65333333  2.84666667 -2.15333333 -0.55333333  0.84666667\n",
            "  3.44666667 -0.65333333  3.64666667]\n",
            "x3 = \n",
            " [ -9921.   8871.  -1359.    522.  -3693. -10118.  -2032. -11047.  27706.\n",
            " -10719.  -3487.  -1701.  20409.   2886.  -6317.]\n",
            "----------------------\n",
            "El promedio de las observaciones de x1 es:  1.9421501444109406e-14\n",
            "El promedio de las observaciones de x2 es:  2.9605947323337506e-16\n",
            "El promedio de las observaciones de x3 es:  0.0\n"
          ]
        }
      ]
    },
    {
      "cell_type": "markdown",
      "source": [
        "hmmmm deberia haber una forma mas facil de hacerlo que no sea variable por variable...sobre todo si en lugar de 3 variables fueran 15!"
      ],
      "metadata": {
        "id": "cn8dZdEwisbD"
      }
    },
    {
      "cell_type": "code",
      "source": [
        "# para una matriz donde cada columna representa las observaciones de una variable, si calculamos\n",
        "np.mean(X, axis = 0)"
      ],
      "metadata": {
        "colab": {
          "base_uri": "https://localhost:8080/"
        },
        "id": "mYaPOAiaguiO",
        "outputId": "7a52c343-5990-417e-e16d-e1e50ecedc00"
      },
      "execution_count": 21,
      "outputs": [
        {
          "output_type": "execute_result",
          "data": {
            "text/plain": [
              "array([6.96133333e+01, 8.45333333e+00, 1.34810000e+04])"
            ]
          },
          "metadata": {},
          "execution_count": 21
        }
      ]
    },
    {
      "cell_type": "code",
      "source": [
        "# comparemos con cada una por separado\n",
        "\n",
        "print(np.mean(X[:,0]))\n",
        "print(np.mean(X[:,1]))\n",
        "print(np.mean(X[:,2]))"
      ],
      "metadata": {
        "colab": {
          "base_uri": "https://localhost:8080/"
        },
        "id": "WuQRHhP2AL87",
        "outputId": "e7332c39-7298-4ebe-c378-b131e3b88102"
      },
      "execution_count": 22,
      "outputs": [
        {
          "output_type": "stream",
          "name": "stdout",
          "text": [
            "69.61333333333332\n",
            "8.453333333333333\n",
            "13481.0\n"
          ]
        }
      ]
    },
    {
      "cell_type": "code",
      "source": [
        "N = X.shape[0]\n",
        "X_center = X - np.mean(X, axis = 0)\n",
        "S = 1/N * X_center.T @ X_center  # esto nos da la matriz de covarianza "
      ],
      "metadata": {
        "id": "GWkGIjgaWHp9"
      },
      "execution_count": 23,
      "outputs": []
    },
    {
      "cell_type": "markdown",
      "source": [
        "Si quisieramos la matriz de correlacion tendriamos que ademas dividir por los desvios estandar"
      ],
      "metadata": {
        "id": "9Wl5jpoIBEOt"
      }
    },
    {
      "cell_type": "code",
      "source": [
        "X_standard = (X - np.mean(X, axis = 0))/np.std(X, axis = 0)"
      ],
      "metadata": {
        "id": "9O4tNk_E_zz0"
      },
      "execution_count": 24,
      "outputs": []
    },
    {
      "cell_type": "markdown",
      "source": [
        "Una vez que estandarizamos los datos (los centramos para que tengan media 0 y los dividimos por sus desvios para que tengan desvio 1) ahora si, podemos definir la matriz de correlacion como\n",
        "\n",
        "$$\n",
        "C = \\frac{1}{N}X_{\\text{standard}}^T X_{\\text{standard}}\n",
        "$$"
      ],
      "metadata": {
        "id": "l0h6Eu_vBDj8"
      }
    },
    {
      "cell_type": "code",
      "source": [
        "C = 1/N *X_standard.T @ X_standard\n",
        "\n",
        "print(C)"
      ],
      "metadata": {
        "colab": {
          "base_uri": "https://localhost:8080/"
        },
        "id": "j6ik_RFdCMT8",
        "outputId": "653de3fe-5a29-43ce-92cc-54b4f092571b"
      },
      "execution_count": 25,
      "outputs": [
        {
          "output_type": "stream",
          "name": "stdout",
          "text": [
            "[[1.         0.58761334 0.64483391]\n",
            " [0.58761334 1.         0.65877381]\n",
            " [0.64483391 0.65877381 1.        ]]\n"
          ]
        }
      ]
    },
    {
      "cell_type": "markdown",
      "source": [
        "El general el algoritmo de PCA (componentes principales) se le aplica ya sea a la matriz de covarianza o a la de correlacion. Nosotros en general se lo vamos a aplicar a la de correlacion, es decir ya los datos los dejamos estandarizados"
      ],
      "metadata": {
        "id": "6wnhy5xUE0lF"
      }
    },
    {
      "cell_type": "markdown",
      "source": [
        "## Componentes principales:\n",
        "\n",
        "Para calcular las componentes principales debemos hacer la descomposicion en autovectores de la matriz C o de la S (segun se pida, preferiblemente de la C)"
      ],
      "metadata": {
        "id": "w7H8_yh_FzHr"
      }
    },
    {
      "cell_type": "code",
      "source": [
        "C_eigs = np.linalg.eigh(C)\n",
        "\n",
        "autovalores = C_eigs[0]\n",
        "\n",
        "V = C_eigs[1]"
      ],
      "metadata": {
        "id": "iL7LAsnHDx41"
      },
      "execution_count": 26,
      "outputs": []
    },
    {
      "cell_type": "code",
      "source": [
        "print(\"Los autovalores de C son:\", autovalores)\n",
        "\n",
        "print(\"----------------\\n\")\n",
        "\n",
        "print(\"Los autovectores de C son: \\n\", V)\n",
        "\n"
      ],
      "metadata": {
        "colab": {
          "base_uri": "https://localhost:8080/"
        },
        "id": "jRugvC9LHAwl",
        "outputId": "12d853dd-de1a-484f-904f-67f322a1dcc4"
      },
      "execution_count": 28,
      "outputs": [
        {
          "output_type": "stream",
          "name": "stdout",
          "text": [
            "Los autovalores de C son: [0.3255961  0.41309824 2.26130567]\n",
            "----------------\n",
            "\n",
            "Los autovectores de C son: \n",
            " [[-0.3507481  -0.74404259 -0.56866193]\n",
            " [-0.4799077   0.66425354 -0.57311066]\n",
            " [ 0.80415444  0.07188777 -0.59005744]]\n"
          ]
        }
      ]
    },
    {
      "cell_type": "markdown",
      "source": [
        "Una vez que tenemos la descomposicion espectral (descomposicion en autovectores) de $C$, las compnentes principales se calculan:\n",
        "\n",
        "$$\n",
        "Z = V @ X_{\\text{standard}} \n",
        "$$\n",
        "\n",
        "La componente principal $i$-esima es la columna i-esima de la matriz $Z$. "
      ],
      "metadata": {
        "id": "qhGvKZXpH3lB"
      }
    },
    {
      "cell_type": "code",
      "source": [
        "V[:,::-1]  # con esto permuto las columnas la ultima aparezca de primera"
      ],
      "metadata": {
        "colab": {
          "base_uri": "https://localhost:8080/"
        },
        "id": "cIzfpam4HSus",
        "outputId": "a8f4452d-a0cf-48aa-ea9f-1d645177e9c5"
      },
      "execution_count": 29,
      "outputs": [
        {
          "output_type": "execute_result",
          "data": {
            "text/plain": [
              "array([[-0.56866193, -0.74404259, -0.3507481 ],\n",
              "       [-0.57311066,  0.66425354, -0.4799077 ],\n",
              "       [-0.59005744,  0.07188777,  0.80415444]])"
            ]
          },
          "metadata": {},
          "execution_count": 29
        }
      ]
    },
    {
      "cell_type": "code",
      "source": [
        "autovalores = autovalores[::-1]\n",
        "\n",
        "print(autovalores)"
      ],
      "metadata": {
        "colab": {
          "base_uri": "https://localhost:8080/"
        },
        "id": "LealrJ0XLFXs",
        "outputId": "80d6cfa5-aaab-484e-ea6b-087834d1847f"
      },
      "execution_count": null,
      "outputs": [
        {
          "output_type": "stream",
          "name": "stdout",
          "text": [
            "[2.28968593 0.48214433 0.22816974]\n"
          ]
        }
      ]
    },
    {
      "cell_type": "code",
      "source": [
        "V = V[:,::-1]   # redefino V para que tenga el orden que quiero\n",
        "\n",
        "Z = X_standard @ V"
      ],
      "metadata": {
        "id": "i9P77L-yKG0D"
      },
      "execution_count": 30,
      "outputs": []
    },
    {
      "cell_type": "code",
      "source": [
        "print(\"la componente principal z1 = \\n \", Z[:, 0])\n",
        "\n",
        "print(\"\\n \\nla componente principal z2 = \\n \", Z[:, 1])\n",
        "\n",
        "print(\"\\n\\nla componente principal  z3 = \\n \", Z[:, 2])"
      ],
      "metadata": {
        "colab": {
          "base_uri": "https://localhost:8080/"
        },
        "id": "Amr54GHNK6aL",
        "outputId": "05e77acf-8357-4e66-eec0-9cbeefeb7a75"
      },
      "execution_count": null,
      "outputs": [
        {
          "output_type": "stream",
          "name": "stdout",
          "text": [
            "la componente principal z1 = \n",
            "  [ 0.14786111 -1.48613868 -0.13118518 -2.76341718 -0.37401839 -0.57408418\n",
            " -0.29665597  2.03027038  2.12379926 -0.96964437  1.58816805 -2.48753421\n",
            "  1.40395198 -0.11814767  1.90677505]\n",
            "\n",
            " \n",
            "la componente principal z2 = \n",
            "  [-0.49937147 -0.51718345 -0.85256078  0.42640008 -0.30756621 -0.60134096\n",
            " -0.23755494  0.49464046  0.50154423 -0.80064515  0.40656065  1.89064951\n",
            "  0.24705294 -0.49035611  0.33973121]\n",
            "\n",
            "\n",
            "la componente principal  z3 = \n",
            "  [ 0.24181669 -0.44233487  0.48294969  0.62305096 -0.38629804 -0.08151976\n",
            " -0.41565611 -0.23589607  0.00153292  0.16506951 -0.59587839 -0.11615844\n",
            " -0.28014668 -0.23794156  1.27741014]\n"
          ]
        }
      ]
    },
    {
      "cell_type": "code",
      "source": [],
      "metadata": {
        "id": "ZYXMq-qfT9Bj"
      },
      "execution_count": null,
      "outputs": []
    }
  ]
}