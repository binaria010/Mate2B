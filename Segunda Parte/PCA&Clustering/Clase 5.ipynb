{
  "nbformat": 4,
  "nbformat_minor": 0,
  "metadata": {
    "colab": {
      "provenance": [],
      "authorship_tag": "ABX9TyMUUYrZEOMLZL9kMjkDLPID",
      "include_colab_link": true
    },
    "kernelspec": {
      "name": "python3",
      "display_name": "Python 3"
    },
    "language_info": {
      "name": "python"
    }
  },
  "cells": [
    {
      "cell_type": "markdown",
      "metadata": {
        "id": "view-in-github",
        "colab_type": "text"
      },
      "source": [
        "<a href=\"https://colab.research.google.com/github/binaria010/Mate2B/blob/main/Segunda%20Parte/PCA%26Clustering/Clase%205.ipynb\" target=\"_parent\"><img src=\"https://colab.research.google.com/assets/colab-badge.svg\" alt=\"Open In Colab\"/></a>"
      ]
    },
    {
      "cell_type": "markdown",
      "source": [
        "# Componentes principales:\n",
        "\n"
      ],
      "metadata": {
        "id": "w7H8_yh_FzHr"
      }
    },
    {
      "cell_type": "code",
      "execution_count": 27,
      "metadata": {
        "id": "fvG0OlYrQ2MZ"
      },
      "outputs": [],
      "source": [
        "import numpy as np\n",
        "import pandas as pd"
      ]
    },
    {
      "cell_type": "markdown",
      "source": [
        "Para calcular las componentes principales debemos hacer la descomposicion en autovectores de la matriz C o de la S (segun se pida, preferiblemente de la C)\n"
      ],
      "metadata": {
        "id": "TfdPSv2VCxSk"
      }
    },
    {
      "cell_type": "markdown",
      "source": [
        "## Ejercicio 1:\n",
        "Los siguientes datos representan las puntuaciones de 10 personas en dos materias diatintas. Queremos para este conjunto de datos dar las componentes principales y elegir la que mejor representa los datos."
      ],
      "metadata": {
        "id": "bBqjS3czCOox"
      }
    },
    {
      "cell_type": "code",
      "source": [
        "p1 = np.array([77.9, 81.3, 66.4, 53.1, 86.9, 69.0, 57.3, 50.3, 69.4, 82.9]).reshape(-1,1)\n",
        "p2 = np.array([87.3, 89.5, 73.0, 62.0, 96.4, 74.7, 63.5, 70.9, 75.6, 92.4]).reshape(-1,1)\n",
        "\n",
        "X = np.hstack((p1, p2))\n",
        "\n",
        "print(X)"
      ],
      "metadata": {
        "colab": {
          "base_uri": "https://localhost:8080/"
        },
        "id": "JFqW8M7iG0ma",
        "outputId": "fe312c74-c84e-4830-9acc-8ce6037c6458"
      },
      "execution_count": 16,
      "outputs": [
        {
          "output_type": "stream",
          "name": "stdout",
          "text": [
            "[[77.9 87.3]\n",
            " [81.3 89.5]\n",
            " [66.4 73. ]\n",
            " [53.1 62. ]\n",
            " [86.9 96.4]\n",
            " [69.  74.7]\n",
            " [57.3 63.5]\n",
            " [50.3 70.9]\n",
            " [69.4 75.6]\n",
            " [82.9 92.4]]\n"
          ]
        }
      ]
    },
    {
      "cell_type": "markdown",
      "source": [
        "Estandarizamos los datos:\n",
        "\n",
        "por columnas calculamos el promedio y los desvios :"
      ],
      "metadata": {
        "id": "6VDzkGISHEXr"
      }
    },
    {
      "cell_type": "code",
      "source": [
        "X_standar = (X - np.mean(X, axis = 0))/np.std(X, axis = 0)\n",
        "\n",
        "print(X_standar)"
      ],
      "metadata": {
        "colab": {
          "base_uri": "https://localhost:8080/"
        },
        "id": "bSVFvRxUHXpq",
        "outputId": "123b8ab9-99a3-4f70-eeac-d656132a6ea7"
      },
      "execution_count": 17,
      "outputs": [
        {
          "output_type": "stream",
          "name": "stdout",
          "text": [
            "[[ 0.69262179  0.76328397]\n",
            " [ 0.97130984  0.95475772]\n",
            " [-0.24999958 -0.48129537]\n",
            " [-1.34016168 -1.43866409]\n",
            " [ 1.43032547  1.55528901]\n",
            " [-0.03688518 -0.33333838]\n",
            " [-0.99589997 -1.30811381]\n",
            " [-1.56966949 -0.66406576]\n",
            " [-0.00409835 -0.25500821]\n",
            " [ 1.10245716  1.20715493]]\n"
          ]
        }
      ]
    },
    {
      "cell_type": "code",
      "source": [
        "N = X.shape[0]\n",
        "\n",
        "\n",
        "C = 1/N * (X_standar.T @ X_standar)\n",
        "\n",
        "print(C)"
      ],
      "metadata": {
        "colab": {
          "base_uri": "https://localhost:8080/"
        },
        "id": "MHjQd4LOHQpw",
        "outputId": "e2e6fe03-771a-4c99-ebe9-41c0384b1e4a"
      },
      "execution_count": 18,
      "outputs": [
        {
          "output_type": "stream",
          "name": "stdout",
          "text": [
            "[[1.         0.94182595]\n",
            " [0.94182595 1.        ]]\n"
          ]
        }
      ]
    },
    {
      "cell_type": "code",
      "source": [
        "C_eigs = np.linalg.eigh(C)\n",
        "\n",
        "autovalores = C_eigs[0]\n",
        "\n",
        "V = C_eigs[1]\n",
        "\n",
        "print(\"los autovalores de C son :\", autovalores)\n",
        "print(\"\\n Los autovectores de C son : V = \\n\", V)"
      ],
      "metadata": {
        "id": "iL7LAsnHDx41",
        "colab": {
          "base_uri": "https://localhost:8080/"
        },
        "outputId": "0ea3ff7d-cef3-4320-b7ef-73687b55dcc8"
      },
      "execution_count": 19,
      "outputs": [
        {
          "output_type": "stream",
          "name": "stdout",
          "text": [
            "los autovalores de C son : [0.05817405 1.94182595]\n",
            "\n",
            " Los autovectores de C son : V = \n",
            " [[-0.70710678  0.70710678]\n",
            " [ 0.70710678  0.70710678]]\n"
          ]
        }
      ]
    },
    {
      "cell_type": "markdown",
      "source": [
        "Notar los autovalores están dados en orden ascendiente (de menor a mayor). Vamos a reordenarlos de tal forma que el primer autovalor sea el mas grande y asi sucesivamente. Lo mismo hacemos con los autovectores, asi la primera columna de V corresponde al autovector de mayor autovalor, la segunda corresponde al  autovalor mas chico\n"
      ],
      "metadata": {
        "id": "hrSbbciSKYNo"
      }
    },
    {
      "cell_type": "code",
      "source": [
        "autovalores = autovalores[::-1]\n",
        "\n",
        "V = V[:, ::-1]\n",
        "\n",
        "print(\"los autovalores de C son :\", autovalores)\n",
        "print(\"\\n Los autovectores de C son : V = \\n\", V)"
      ],
      "metadata": {
        "colab": {
          "base_uri": "https://localhost:8080/"
        },
        "id": "yxzg9LTQLhTk",
        "outputId": "8c99cb63-e348-4568-f82e-d35d21d4d98c"
      },
      "execution_count": 20,
      "outputs": [
        {
          "output_type": "stream",
          "name": "stdout",
          "text": [
            "los autovalores de C son : [1.94182595 0.05817405]\n",
            "\n",
            " Los autovectores de C son : V = \n",
            " [[ 0.70710678 -0.70710678]\n",
            " [ 0.70710678  0.70710678]]\n"
          ]
        }
      ]
    },
    {
      "cell_type": "markdown",
      "source": [
        "Ahora definimos las componentes principales:\n",
        "\n",
        "$$\n",
        "Z = \\begin{bmatrix} |  & | & \\cdots  &| \\\\\n",
        "z_1  & z_2 & \\cdots & z_p\\\\\n",
        "|  & | & \\cdots  & |\n",
        "\\end{bmatrix} = X_{\\text{standar}}V  \n",
        "$$"
      ],
      "metadata": {
        "id": "W8_pe-O9MJXm"
      }
    },
    {
      "cell_type": "code",
      "source": [
        "Z = X_standar @ V"
      ],
      "metadata": {
        "id": "qhzFkebkNt6Y"
      },
      "execution_count": 21,
      "outputs": []
    },
    {
      "cell_type": "code",
      "source": [
        "print(\"la componente principal z1 = \\n \", Z[:, 0])\n",
        "\n",
        "print(\"\\n \\nla componente principal z2 = \\n \", Z[:, 1])\n"
      ],
      "metadata": {
        "colab": {
          "base_uri": "https://localhost:8080/"
        },
        "id": "Amr54GHNK6aL",
        "outputId": "5da5e6ac-85bc-4b01-e63b-54db571a60ef"
      },
      "execution_count": 22,
      "outputs": [
        {
          "output_type": "stream",
          "name": "stdout",
          "text": [
            "la componente principal z1 = \n",
            "  [ 1.02948084  1.36193543 -0.51710362 -1.96492655  2.11114824 -0.26178759\n",
            " -1.62918377 -1.57948935 -0.18321601  1.63314237]\n",
            "\n",
            " \n",
            "la componente principal z2 = \n",
            "  [ 0.04996571 -0.01170412 -0.16355082 -0.06965172  0.08836257 -0.20962407\n",
            " -0.22076853  0.64035854 -0.17742006  0.0740325 ]\n"
          ]
        }
      ]
    },
    {
      "cell_type": "markdown",
      "source": [
        "Vemos mediante regresiones lineales que componentes representan mejor los datos."
      ],
      "metadata": {
        "id": "-hgDDcIlYjP_"
      }
    },
    {
      "cell_type": "code",
      "source": [
        "def reglineal(x, y):\n",
        "\n",
        "  \"\"\"\n",
        "  Esta funcion calcula los coeficientes de una regresion lineal simple. Devuelve la funcion a + bx \n",
        "  Inputs:\n",
        "  x : numpy array dimension n\n",
        "  y : numpy array dimension n\n",
        "\n",
        "  Return:\n",
        "  f : poly1D: objeto polinomio de python. f es un polinomio de grado 1: alpha* +beta*x\n",
        "  \"\"\"\n",
        "  n = len(x)\n",
        "  X = np.ones((n,2))\n",
        "\n",
        "  X[:, 1] = x\n",
        "\n",
        "  coefs =  np.linalg.solve(X.T @ X, np.dot(X.T, y))\n",
        "\n",
        "  a = coefs[0]\n",
        "  b = coefs[1]\n",
        "\n",
        "  f = np.poly1d([b, a])\n",
        "\n",
        "  return f\n",
        "\n",
        "def R2(f, x,y):\n",
        "\n",
        "  \"\"\"\n",
        "  Esta funcion calcula el r^2 de la regresion lineal dados los datos x, y y el ajuste f\n",
        "  \"\"\"\n",
        "  \n",
        "  y_predicho = f(x)\n",
        "  avg_y = np.mean(y)\n",
        "\n",
        "  numerador = np.sum((y_predicho - avg_y)**2)\n",
        "  denominador = np.sum((y - avg_y)**2)\n",
        "\n",
        "  return numerador/denominador\n",
        "\n",
        "\n"
      ],
      "metadata": {
        "id": "Tb_VHCD_LwpW"
      },
      "execution_count": 23,
      "outputs": []
    },
    {
      "cell_type": "code",
      "source": [
        "# hacemos una regresion lineal de p1 con varaible regresora z1, y otra con varaible regresora z2\n",
        "\n",
        "fp1_z1 = reglineal(Z[:, 0], X_standar[:,0])\n",
        "r2p1_z1 = R2(fp1_z1,Z[:, 0], X_standar[:,0])\n",
        "\n",
        "fp1_z2 = reglineal(Z[:, 1], X_standar[:,0])\n",
        "r2p1_z2 = R2(fp1_z2,Z[:, 1], X_standar[:,0])\n",
        "\n",
        "\n",
        "\n",
        "print(\"los R^2 de las regresiones simples de p1 versus z1, z2 son  \\n\\n con z1 es = \",\n",
        "      r2p1_z1, \" \\n con z2 es = \", r2p1_z2)\n"
      ],
      "metadata": {
        "colab": {
          "base_uri": "https://localhost:8080/"
        },
        "id": "kU21o_TAMCaE",
        "outputId": "bb1c3526-6144-4cb0-dc88-6346b1c4b097"
      },
      "execution_count": 24,
      "outputs": [
        {
          "output_type": "stream",
          "name": "stdout",
          "text": [
            "los R^2 de las regresiones simples de p1 versus z1, z2 son  \n",
            "\n",
            " con z1 es =  0.9709129760488517  \n",
            " con z2 es =  0.02908702395114788\n"
          ]
        }
      ]
    },
    {
      "cell_type": "code",
      "source": [
        "# hacemos una regresion lineal de p2 con varaible regresora z1, y otra con varaible regresora z2\n",
        "\n",
        "\n",
        "fp2_z1 = reglineal(Z[:, 0], X_standar[:,1])\n",
        "r2p2_z1 = R2(fp2_z1,Z[:, 0], X_standar[:,1])\n",
        "\n",
        "fp2_z2 = reglineal(Z[:, 1], X_standar[:,1])\n",
        "r2p2_z2 = R2(fp2_z2,Z[:, 1], X_standar[:,1])\n",
        "\n",
        "\n",
        "\n",
        "print(\"los R^2 de las regresiones simples de x_2 versus z1, z2: \\n con z1 es = \",\n",
        "      r2p2_z1, \" \\n con z2 es = \", r2p2_z2)"
      ],
      "metadata": {
        "colab": {
          "base_uri": "https://localhost:8080/"
        },
        "id": "F8jwdCMaQU8-",
        "outputId": "8c96a519-1d0d-475f-cb16-885c3d3998ef"
      },
      "execution_count": 25,
      "outputs": [
        {
          "output_type": "stream",
          "name": "stdout",
          "text": [
            "los R^2 de las regresiones simples de x_2 versus z1, z2: \n",
            " con z1 es =  0.9709129760488517  \n",
            " con z2 es =  0.029087023951148077\n"
          ]
        }
      ]
    },
    {
      "cell_type": "markdown",
      "source": [
        "Con esto podemos observar  que la información está mayormente representada por la componente $z_1$"
      ],
      "metadata": {
        "id": "exW-ZTFhdQ6F"
      }
    },
    {
      "cell_type": "markdown",
      "source": [
        "Notar que si hacemos la cuenta:\n",
        "\n",
        "$$\n",
        "\\frac{\\lambda_1}{\\lambda_1 + \\lambda_2} = R^2\\text{ de la regresion de }x_1 \\text {(o de } x_2 \\text{) en función de } z_1 = \\text{ proporción de varianza en } x_1 \\text{ explicada por }z_1\n",
        "$$\n",
        "\n",
        "$$\n",
        "\\frac{\\lambda_2}{\\lambda_1 + \\lambda_2} = R^2\\text{ de la regresion de }x_1 \\text {(o de } x_2 \\text{) en función de } z_2 = \\text{ proporción de varianza en } x_1 \\text{ explicada por }z_2\n",
        "$$"
      ],
      "metadata": {
        "id": "BkpdLGOPg2um"
      }
    },
    {
      "cell_type": "code",
      "source": [
        "print(\"proporcion de varianza explicada por la componente z_1 es: \", autovalores[0]/np.sum(autovalores))\n",
        "\n",
        "print(\"\\nproporcion de varianza explicada por la componente z_2 es: \", autovalores[1]/np.sum(autovalores))"
      ],
      "metadata": {
        "colab": {
          "base_uri": "https://localhost:8080/"
        },
        "id": "b6Q-VhzEc7fd",
        "outputId": "0fe69e73-d566-4a2a-ca56-6312178d4948"
      },
      "execution_count": null,
      "outputs": [
        {
          "output_type": "stream",
          "name": "stdout",
          "text": [
            "proporcion de varianza explicada por la componente z_1 es:  0.9798341947614037\n",
            "\n",
            "proporcion de varianza explicada por la componente z_2 es:  0.020165805238596343\n"
          ]
        }
      ]
    },
    {
      "cell_type": "markdown",
      "source": [],
      "metadata": {
        "id": "z_C8XKuQEeUo"
      }
    },
    {
      "cell_type": "markdown",
      "source": [
        "Calculemos el *score* de la componente $z_1$ para una persona que tiene puentuaciones $p_1=85$ $p_2 =70$:\n",
        "llamemos $x = (p_1, p_2)$ al vector de puntuaciones, entonces:\n",
        "\n",
        "$$\n",
        "z_1 = \\langle v_1, x\\rangle = v_1[0]*p_1 + v_1[1]*p_2\n",
        "$$\n",
        "\n",
        "donde $v_1$ es el autovector correspondiente al autovalor mas grande y $v_1[0], v_1[1]$ denotan su primera y segunda componente."
      ],
      "metadata": {
        "id": "WrPtqOqGDYe9"
      }
    },
    {
      "cell_type": "code",
      "source": [
        "x = np.array([85, 70])\n",
        "score_z1 = np.dot(V[:, 0], x)\n",
        "\n",
        "print(\"El score de la primera componente para las observaciones p_1 y p_2 es: \", score_z1)"
      ],
      "metadata": {
        "colab": {
          "base_uri": "https://localhost:8080/"
        },
        "id": "vgZ0CgtoGzF2",
        "outputId": "f633083d-ffae-4524-c6f1-ac292112f5d7"
      },
      "execution_count": 26,
      "outputs": [
        {
          "output_type": "stream",
          "name": "stdout",
          "text": [
            "El score de la primera componente para las observaciones p_1 y p_2 es:  109.60155108391486\n"
          ]
        }
      ]
    },
    {
      "cell_type": "markdown",
      "source": [
        "## Ejemplo 2:\n",
        "\n",
        "Volvamos a considerar nuestro conjunto de datos ```HumanDevelopment.csv```. Esta vez vamos a considerarlos todos.\n",
        "\n",
        "Vamos a determinar las componentes principales de la matriz de correlacion de los datos y vamos a elegir las k componentes mas representativas de acuerdo a cuanta varianza acumulada explicada se desea.\n"
      ],
      "metadata": {
        "id": "dofjLlAnAC26"
      }
    },
    {
      "cell_type": "code",
      "source": [
        "ruta = \"/content/HumanDevelopment.csv\"\n",
        "\n",
        "data = pd.read_csv(ruta, header = 0)\n",
        "\n",
        "X = np.array(data)\n",
        "\n",
        "print(X[:6, :])  # le digo que me imprima las primeras 6 filas de los datos"
      ],
      "metadata": {
        "colab": {
          "base_uri": "https://localhost:8080/"
        },
        "id": "ChOcHx4BHSfU",
        "outputId": "a25eb818-526b-4f1c-d153-b067d9444b75"
      },
      "execution_count": 28,
      "outputs": [
        {
          "output_type": "stream",
          "name": "stdout",
          "text": [
            "[[9.4400e-01 8.1600e+01 1.2600e+01 6.4992e+04]\n",
            " [9.3500e-01 8.2400e+01 1.3000e+01 4.2261e+04]\n",
            " [9.3000e-01 8.3000e+01 1.2800e+01 5.6431e+04]\n",
            " [9.2300e-01 8.0200e+01 1.2700e+01 4.4025e+04]\n",
            " [9.2200e-01 8.1600e+01 1.1900e+01 4.5435e+04]\n",
            " [9.1600e-01 8.0900e+01 1.3100e+01 4.3919e+04]]\n"
          ]
        }
      ]
    },
    {
      "cell_type": "code",
      "source": [
        "print(X.shape)"
      ],
      "metadata": {
        "colab": {
          "base_uri": "https://localhost:8080/"
        },
        "id": "1f98AQr-IWoM",
        "outputId": "bf7c272a-199c-441d-aab0-0bed604ccd2f"
      },
      "execution_count": 29,
      "outputs": [
        {
          "output_type": "stream",
          "name": "stdout",
          "text": [
            "(195, 4)\n"
          ]
        }
      ]
    },
    {
      "cell_type": "code",
      "source": [
        "# estandarizamos los datos:\n",
        "\n",
        "X_standar = (X -  np.mean(X, axis = 0))/np.std(X, axis = 0)\n",
        "\n",
        "N = X_standar.shape[0]\n",
        "\n",
        "C = 1/N * X_standar.T @ X_standar\n",
        "\n",
        "print(C)"
      ],
      "metadata": {
        "colab": {
          "base_uri": "https://localhost:8080/"
        },
        "id": "gVl8uFotIGrY",
        "outputId": "06b73a5a-8264-4b3a-8ffc-d0290a0e160a"
      },
      "execution_count": 30,
      "outputs": [
        {
          "output_type": "stream",
          "name": "stdout",
          "text": [
            "[[1.         0.90005818 0.89807827 0.7360487 ]\n",
            " [0.90005818 1.         0.73421159 0.62452621]\n",
            " [0.89807827 0.73421159 1.         0.57106579]\n",
            " [0.7360487  0.62452621 0.57106579 1.        ]]\n"
          ]
        }
      ]
    },
    {
      "cell_type": "code",
      "source": [
        "# Hallamos los autovalores y autovectores de C:\n",
        "\n",
        "C_eigs = np.linalg.eigh(C)\n",
        "\n",
        "autovalores = C_eigs[0]\n",
        "\n",
        "V = C_eigs[1]\n",
        "\n",
        "print(\"autovalores son: \", autovalores)\n",
        "\n",
        "print(\"\\n\\nLa matriz de autovectores es V = \\n\", V)"
      ],
      "metadata": {
        "colab": {
          "base_uri": "https://localhost:8080/"
        },
        "id": "_ayPYG2sIhn5",
        "outputId": "c93adebb-35d3-4110-b1df-10064b19e3b7"
      },
      "execution_count": 31,
      "outputs": [
        {
          "output_type": "stream",
          "name": "stdout",
          "text": [
            "autovalores son:  [0.03074972 0.26018358 0.46168794 3.24737876]\n",
            "\n",
            "\n",
            "La matriz de autovectores es V = \n",
            " [[-0.82725488 -0.00107732 -0.12860493 -0.54690857]\n",
            " [ 0.36599197 -0.75568083 -0.19931223 -0.5052435 ]\n",
            " [ 0.39530001  0.63841331 -0.43505092 -0.49688735]\n",
            " [ 0.15949026  0.14619768  0.86860008 -0.44578357]]\n"
          ]
        }
      ]
    },
    {
      "cell_type": "markdown",
      "source": [
        "Como siempre, obtenemos los autovalores en orden ascendiente pero los queremos en orden descendiente "
      ],
      "metadata": {
        "id": "dmkweYusJPR5"
      }
    },
    {
      "cell_type": "code",
      "source": [
        "#invertimos el orden:\n",
        "\n",
        "autovalores = autovalores[::-1]\n",
        "V = V[:, ::-1]\n",
        "\n",
        "print(\"autovalores son: \", autovalores)\n",
        "\n",
        "print(\"\\n\\nLa matriz de autovectores es V = \\n\", V)"
      ],
      "metadata": {
        "colab": {
          "base_uri": "https://localhost:8080/"
        },
        "id": "_Ex9h7ZgJOcU",
        "outputId": "152fcde4-54a8-4084-e3df-7590c62a37b8"
      },
      "execution_count": 32,
      "outputs": [
        {
          "output_type": "stream",
          "name": "stdout",
          "text": [
            "autovalores son:  [3.24737876 0.46168794 0.26018358 0.03074972]\n",
            "\n",
            "\n",
            "La matriz de autovectores es V = \n",
            " [[-0.54690857 -0.12860493 -0.00107732 -0.82725488]\n",
            " [-0.5052435  -0.19931223 -0.75568083  0.36599197]\n",
            " [-0.49688735 -0.43505092  0.63841331  0.39530001]\n",
            " [-0.44578357  0.86860008  0.14619768  0.15949026]]\n"
          ]
        }
      ]
    },
    {
      "cell_type": "markdown",
      "source": [
        "Definamos las componentes principales:\n",
        "\n",
        "$$\n",
        "Z = X@V\n",
        "$$\n",
        "\n",
        "donde $X$ es la matriz de los datos ya estandarizados"
      ],
      "metadata": {
        "id": "haKKVIwUJrQC"
      }
    },
    {
      "cell_type": "code",
      "source": [
        "Z = X@V"
      ],
      "metadata": {
        "id": "fceplgBhJq48"
      },
      "execution_count": 33,
      "outputs": []
    },
    {
      "cell_type": "code",
      "source": [
        "var_total = np.sum(autovalores)\n"
      ],
      "metadata": {
        "id": "yWJtn8TjJ4di"
      },
      "execution_count": 42,
      "outputs": []
    },
    {
      "cell_type": "code",
      "source": [
        "i = 0\n",
        "var_explicada = 0\n",
        "tope = 0.9  # queremos lograr una varianza explicada acumulada del 90%\n",
        "\n",
        "while var_explicada < tope:\n",
        "  \n",
        "  var_explicada = np.sum(autovalores[:i+1])/var_total\n",
        "  print(\"la varianza explicada acumulada es: \", var_explicada)\n",
        "  i = i+1\n",
        "\n"
      ],
      "metadata": {
        "colab": {
          "base_uri": "https://localhost:8080/"
        },
        "id": "ZCq5fSqnMFAn",
        "outputId": "d6a1144a-21dc-4924-a196-d6b7329892cb"
      },
      "execution_count": 57,
      "outputs": [
        {
          "output_type": "stream",
          "name": "stdout",
          "text": [
            "la varianza explicada acumulada es:  0.8118446893887954\n",
            "la varianza explicada acumulada es:  0.9272666744527601\n"
          ]
        }
      ]
    },
    {
      "cell_type": "code",
      "source": [],
      "metadata": {
        "id": "X7OhiGr1QMPD"
      },
      "execution_count": null,
      "outputs": []
    },
    {
      "cell_type": "markdown",
      "source": [
        "## Ejercicio:\n",
        "Implementar una rutina en python que reciba como input la ruta de un archivo  y un número $\\textit{$p\\_acum$}$ y devuelva la mínima cantidad de componentes principales que deben considerarse para que el porcentaje de varianza acumulada sea mayor o igual que $\\textit{$p\\_acum$}$"
      ],
      "metadata": {
        "id": "YVQAh3IAS8Cy"
      }
    },
    {
      "cell_type": "markdown",
      "source": [
        "## Ejercicio: Resolver hasta ejercicio 6 de la práctica 6.\n",
        "\n",
        "\n",
        "\n",
        "\n",
        "\n"
      ],
      "metadata": {
        "id": "COBj01hMjsvr"
      }
    },
    {
      "cell_type": "code",
      "source": [],
      "metadata": {
        "id": "yzTc6yq29ShM"
      },
      "execution_count": null,
      "outputs": []
    }
  ]
}